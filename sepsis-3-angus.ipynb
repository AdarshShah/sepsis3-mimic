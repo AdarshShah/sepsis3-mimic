{
 "cells": [
  {
   "cell_type": "markdown",
   "metadata": {},
   "source": [
    "# Sepsis-3 evaluation in the MIMIC-III database\n",
    "\n",
    "This notebook goes over the evaluation of the new Sepsis-3 guidelines in the MIMIC database. The goals of this analysis include:\n",
    "\n",
    "1. Evaluating the Sepsis-3 guidelines in MIMIC using the same methodology as in the research paper\n",
    "2. Evaluating the Sepsis-3 guidelines against ANGUS criteria\n",
    "3. Assessing if there are interesting subgroup(s) which are missed by the criteria"
   ]
  },
  {
   "cell_type": "code",
   "execution_count": 1,
   "metadata": {
    "collapsed": false
   },
   "outputs": [],
   "source": [
    "from __future__ import print_function\n",
    "\n",
    "# Import libraries\n",
    "import numpy as np\n",
    "import pandas as pd\n",
    "import matplotlib.pyplot as plt\n",
    "\n",
    "from sepsis_utils import sepsis_utils as su\n",
    "from sepsis_utils import roc_utils as ru\n",
    "\n",
    "# used to calculate AUROC\n",
    "from sklearn import metrics\n",
    "\n",
    "# default colours for prettier plots\n",
    "col = [[0.9047, 0.1918, 0.1988],\n",
    "    [0.2941, 0.5447, 0.7494],\n",
    "    [0.3718, 0.7176, 0.3612],\n",
    "    [1.0000, 0.5482, 0.1000],\n",
    "    [0.4550, 0.4946, 0.4722],\n",
    "    [0.6859, 0.4035, 0.2412],\n",
    "    [0.9718, 0.5553, 0.7741],\n",
    "    [0.5313, 0.3359, 0.6523]];\n",
    "marker = ['v','o','d','^','s','o','+']\n",
    "ls = ['-','-','-','-','-','s','--','--']\n",
    "\n",
    "%matplotlib inline"
   ]
  },
  {
   "cell_type": "code",
   "execution_count": 2,
   "metadata": {
    "collapsed": true
   },
   "outputs": [],
   "source": [
    "# load data\n",
    "df = pd.read_csv('sepsis3-df.csv',sep=',')\n",
    "df_mdl = pd.read_csv('sepsis3-design-matrix.csv',sep=',')\n",
    "\n",
    "# define outcome\n",
    "target_header = \"angus\"\n",
    "y = df[target_header].values == 1\n",
    "\n",
    "# define the covariates to be added in the MFP model (used for table of AUROCs)\n",
    "preds_header = ['sirs','qsofa','sofa','mlods']"
   ]
  },
  {
   "cell_type": "markdown",
   "metadata": {},
   "source": [
    "# Study questions\n",
    "\n",
    "1. How well do the guidelines detect sepsis (Angus criteria) in the antibiotics/culture subset?\n",
    "2. How well do the guidelines predict mortality (in-hospital) in the antibiotics/culture subset?\n",
    "3. What factors would improve the sensitivity of the guidelines?\n",
    "4. What factors would improve the specificity of the guidelines?"
   ]
  },
  {
   "cell_type": "markdown",
   "metadata": {},
   "source": [
    "## Angus criteria evaluation"
   ]
  },
  {
   "cell_type": "code",
   "execution_count": 3,
   "metadata": {
    "collapsed": false
   },
   "outputs": [
    {
     "name": "stdout",
     "output_type": "stream",
     "text": [
      "\n",
      " SEPSIS-3 guidelines for Angus criteria sepsis \n",
      "\n",
      "Accuracy = 0.595797825448\n",
      "\n",
      "Confusion matrix\n",
      "      \tang=0 \tang=1 \n",
      "sep3=0\t  2076\t  1274\tNPV=61.97\n",
      "sep3=1\t  1477\t  1979\tPPV=57.26\n",
      "   \t58.43\t60.84\tAcc=59.58\n",
      "   \tSpec\tSens\n"
     ]
    }
   ],
   "source": [
    "yhat = df.sepsis3.values\n",
    "print('\\n SEPSIS-3 guidelines for Angus criteria sepsis \\n')\n",
    "print('Accuracy = {}'.format(metrics.accuracy_score(y, yhat)))\n",
    "su.print_cm(y, yhat, header1='ang',header2='sep3') # print confusion matrix"
   ]
  },
  {
   "cell_type": "markdown",
   "metadata": {},
   "source": [
    "Predictions using various levels of confounder adjustment are calculated in the subfunctions `calc_predictions`:\n",
    "\n",
    "* `model=None` - the severity scores on their own\n",
    "* `model='baseline'` - the severity scores in a vanilla regression\n",
    "* `model='mfp'` -the severity scores in a fractional polynomial regression (calls an R script)\n",
    "\n",
    "For Angus criteria we do not adjust for other factors when presenting the AUROCs."
   ]
  },
  {
   "cell_type": "code",
   "execution_count": 4,
   "metadata": {
    "collapsed": false
   },
   "outputs": [],
   "source": [
    "preds = su.calc_predictions(df, preds_header, target_header, model=None)"
   ]
  },
  {
   "cell_type": "code",
   "execution_count": 5,
   "metadata": {
    "collapsed": false
   },
   "outputs": [
    {
     "name": "stdout",
     "output_type": "stream",
     "text": [
      "     \tsirs                \tqsofa               \tsofa                \tmlods               \t\n",
      "sirs \t0.607 [0.594, 0.620]\t0.435 [0.412, 0.456]\t0.179 [0.161, 0.197]\t0.227 [0.206, 0.248]\t\n",
      "qsofa\t0.424               \t0.601 [0.588, 0.613]\t0.270 [0.259, 0.281]\t0.356 [0.344, 0.368]\t\n",
      "sofa \t< 0.001               \t< 0.001               \t0.682 [0.670, 0.695]\t0.872 [0.866, 0.877]\t\n",
      "mlods\t< 0.001               \t< 0.001               \t0.600               \t0.684 [0.672, 0.697]\t\n"
     ]
    }
   ],
   "source": [
    "# reproduce the AUC table\n",
    "su.print_auc_table(preds, y, preds_header)\n",
    "su.print_auc_table_to_file(preds, y, preds_header=preds_header,\n",
    "                           filename='auc-table.csv')"
   ]
  },
  {
   "cell_type": "markdown",
   "metadata": {},
   "source": [
    "## Operating point statistics\n",
    "\n",
    "This section evaluates the standard operating point statistics:\n",
    "\n",
    "* sensitivity (% of true positives which are correctly classified)\n",
    "* specificity (% of true negatives which are correctly classified)\n",
    "* positive predictive value (given a positive prediction is made, what % are correct)\n",
    "* negative predictive value (given a negative prediction is made, what % are correct)\n",
    "* F1 score (harmonic mean of sensitivity and PPV)\n",
    "\n",
    "In addition, we evaluate the number of false positives per 100 cases, or NFP/100. We feel this gives helpful perspective in interpretting the positive predictive value of the prediction and its relationship to the prevalance of the outcome. In this context, the measure can be summarized as: given 100 patients with suspected infection, how many will each algorithm inappropriately give a positive prediction?"
   ]
  },
  {
   "cell_type": "code",
   "execution_count": 6,
   "metadata": {
    "collapsed": false
   },
   "outputs": [
    {
     "name": "stdout",
     "output_type": "stream",
     "text": [
      "Metric\n",
      "\n",
      "\n",
      "     \tseps3               \tqSOFA               \tSOFA                \tSIRS                \tmLODS               \n",
      "TN   \t 2076           \t 1893           \t  795           \t  998           \t 1651           \n",
      "FP   \t 1477           \t 1660           \t 2758           \t 2555           \t 1902           \n",
      "FN   \t 1274           \t 1172           \t  265           \t  531           \t  682           \n",
      "TP   \t 1979           \t 2081           \t 2988           \t 2722           \t 2571           \n",
      "Sens \t60.84 [0.59, 0.63]\t63.97 [0.62, 0.66]\t91.85 [0.91, 0.93]\t83.68 [0.82, 0.85]\t79.03 [0.78, 0.80]\n",
      "Spec \t58.43 [0.57, 0.60]\t53.28 [0.52, 0.55]\t22.38 [0.21, 0.24]\t28.09 [0.27, 0.30]\t46.47 [0.45, 0.48]\n",
      "PPV  \t57.26 [0.56, 0.59]\t55.63 [0.54, 0.57]\t52.00 [0.51, 0.53]\t51.58 [0.50, 0.53]\t57.48 [0.56, 0.59]\n",
      "NPV  \t61.97 [0.60, 0.64]\t61.76 [0.60, 0.63]\t75.00 [0.72, 0.78]\t65.27 [0.63, 0.68]\t70.77 [0.69, 0.73]\n",
      "F1   \t59.00             \t59.51             \t66.41             \t63.82             \t66.55             \n",
      "NTP  \t29.08             \t30.58             \t43.90             \t39.99             \t37.78             \n",
      "NFP  \t21.70             \t24.39             \t40.52             \t37.54             \t27.95             \n"
     ]
    }
   ],
   "source": [
    "# sepsis3 defined as qSOFA >= 2 and SOFA >= 2\n",
    "yhat_all = [df.sepsis3.values,\n",
    "            df.qsofa.values >= 2,\n",
    "            df.sofa.values >= 2,\n",
    "            df.sirs.values >= 2,\n",
    "            df.mlods.values >= 2]\n",
    "yhat_names = ['seps3', 'qSOFA', 'SOFA', 'SIRS', 'mLODS']\n",
    "\n",
    "# define \"targets\", angus critera\n",
    "y_all = [y for x in yhat_names]\n",
    "\n",
    "stats_all = su.get_op_stats(yhat_all, y_all,\n",
    "               yhat_names=yhat_names,\n",
    "               header=target_header)\n",
    "\n",
    "su.print_op_stats(stats_all,\n",
    "               yhat_names=yhat_names,\n",
    "               header=target_header)"
   ]
  }
 ],
 "metadata": {
  "kernelspec": {
   "display_name": "Python 2",
   "language": "python",
   "name": "python2"
  },
  "language_info": {
   "codemirror_mode": {
    "name": "ipython",
    "version": 2
   },
   "file_extension": ".py",
   "mimetype": "text/x-python",
   "name": "python",
   "nbconvert_exporter": "python",
   "pygments_lexer": "ipython2",
   "version": "2.7.12"
  }
 },
 "nbformat": 4,
 "nbformat_minor": 0
}
