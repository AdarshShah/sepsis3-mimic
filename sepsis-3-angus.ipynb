{
 "cells": [
  {
   "cell_type": "markdown",
   "metadata": {},
   "source": [
    "# Sepsis-3 evaluation in the MIMIC-III database\n",
    "\n",
    "This notebook goes over the evaluation of the new Sepsis-3 guidelines in the MIMIC database. The goals of this analysis include:\n",
    "\n",
    "1. Evaluating the Sepsis-3 guidelines in MIMIC using the same methodology as in the research paper\n",
    "2. Evaluating the Sepsis-3 guidelines against ANGUS criteria\n",
    "3. Assessing if there are interesting subgroup(s) which are missed by the criteria"
   ]
  },
  {
   "cell_type": "code",
   "execution_count": 21,
   "metadata": {
    "collapsed": false
   },
   "outputs": [],
   "source": [
    "from __future__ import print_function\n",
    "\n",
    "# Import libraries\n",
    "import numpy as np\n",
    "import pandas as pd\n",
    "import matplotlib.pyplot as plt\n",
    "from collections import OrderedDict\n",
    "\n",
    "from sepsis_utils import sepsis_utils as su\n",
    "from sepsis_utils import roc_utils as ru\n",
    "\n",
    "# used to calculate AUROC\n",
    "from sklearn import metrics\n",
    "\n",
    "# default colours for prettier plots\n",
    "col = [[0.9047, 0.1918, 0.1988],\n",
    "    [0.2941, 0.5447, 0.7494],\n",
    "    [0.3718, 0.7176, 0.3612],\n",
    "    [1.0000, 0.5482, 0.1000],\n",
    "    [0.4550, 0.4946, 0.4722],\n",
    "    [0.6859, 0.4035, 0.2412],\n",
    "    [0.9718, 0.5553, 0.7741],\n",
    "    [0.5313, 0.3359, 0.6523]];\n",
    "marker = ['v','o','d','^','s','o','+']\n",
    "ls = ['-','-','-','-','-','s','--','--']\n",
    "\n",
    "%matplotlib inline"
   ]
  },
  {
   "cell_type": "code",
   "execution_count": 2,
   "metadata": {
    "collapsed": true
   },
   "outputs": [],
   "source": [
    "# load data\n",
    "df = pd.read_csv('sepsis3-df.csv',sep=',')\n",
    "df_mdl = pd.read_csv('sepsis3-design-matrix.csv',sep=',')\n",
    "\n",
    "# define outcome\n",
    "target_header = \"angus\"\n",
    "y = df[target_header].values == 1\n",
    "\n",
    "# define the covariates to be added in the MFP model (used for table of AUROCs)\n",
    "preds_header = ['sirs','qsofa','sofa','mlods']"
   ]
  },
  {
   "cell_type": "markdown",
   "metadata": {},
   "source": [
    "# Study questions\n",
    "\n",
    "1. How well do the guidelines detect sepsis (Angus criteria) in the antibiotics/culture subset?\n",
    "2. How well do the guidelines predict mortality (in-hospital) in the antibiotics/culture subset?\n",
    "3. What factors would improve the sensitivity of the guidelines?\n",
    "4. What factors would improve the specificity of the guidelines?"
   ]
  },
  {
   "cell_type": "markdown",
   "metadata": {},
   "source": [
    "## Angus criteria evaluation"
   ]
  },
  {
   "cell_type": "code",
   "execution_count": 3,
   "metadata": {
    "collapsed": false
   },
   "outputs": [
    {
     "name": "stdout",
     "output_type": "stream",
     "text": [
      "\n",
      " SEPSIS-3 guidelines for Angus criteria sepsis \n",
      "\n",
      "Accuracy = 0.595044978617\n",
      "\n",
      "Confusion matrix\n",
      "      \tang=0 \tang=1 \n",
      "sep3=0\t  2060\t  1273\tNPV=61.81\n",
      "sep3=1\t  1473\t  1975\tPPV=57.28\n",
      "   \t58.31\t60.81\tAcc=59.50\n",
      "   \tSpec\tSens\n"
     ]
    }
   ],
   "source": [
    "yhat = df.sepsis3.values\n",
    "print('\\n SEPSIS-3 guidelines for Angus criteria sepsis \\n')\n",
    "print('Accuracy = {}'.format(metrics.accuracy_score(y, yhat)))\n",
    "su.print_cm(y, yhat, header1='ang',header2='sep3') # print confusion matrix"
   ]
  },
  {
   "cell_type": "markdown",
   "metadata": {},
   "source": [
    "Predictions using various levels of confounder adjustment are calculated in the subfunctions `calc_predictions`:\n",
    "\n",
    "* `model=None` - the severity scores on their own\n",
    "* `model='baseline'` - the severity scores in a vanilla regression\n",
    "* `model='mfp'` -the severity scores in a fractional polynomial regression (calls an R script)\n",
    "\n",
    "For Angus criteria we do not adjust for other factors when presenting the AUROCs."
   ]
  },
  {
   "cell_type": "code",
   "execution_count": 4,
   "metadata": {
    "collapsed": false
   },
   "outputs": [],
   "source": [
    "preds = su.calc_predictions(df, preds_header, target_header, model=None)"
   ]
  },
  {
   "cell_type": "code",
   "execution_count": 5,
   "metadata": {
    "collapsed": false
   },
   "outputs": [
    {
     "name": "stdout",
     "output_type": "stream",
     "text": [
      "     \tsirs                \tqsofa               \tsofa                \tmlods               \t\n",
      "sirs \t0.607 [0.594, 0.620]\t0.436 [0.413, 0.458]\t0.179 [0.161, 0.196]\t0.228 [0.207, 0.246]\t\n",
      "qsofa\t0.347               \t0.600 [0.587, 0.612]\t0.271 [0.260, 0.282]\t0.356 [0.343, 0.368]\t\n",
      "sofa \t< 0.001               \t< 0.001               \t0.682 [0.669, 0.694]\t0.872 [0.866, 0.877]\t\n",
      "mlods\t< 0.001               \t< 0.001               \t0.552               \t0.685 [0.672, 0.697]\t\n"
     ]
    }
   ],
   "source": [
    "# reproduce the AUC table\n",
    "su.print_auc_table(preds, y, preds_header)\n",
    "su.print_auc_table_to_file(preds, y, preds_header=preds_header,\n",
    "                           filename='auc-table.csv')"
   ]
  },
  {
   "cell_type": "markdown",
   "metadata": {},
   "source": [
    "## Operating point statistics\n",
    "\n",
    "This section evaluates the standard operating point statistics:\n",
    "\n",
    "* sensitivity (% of true positives which are correctly classified)\n",
    "* specificity (% of true negatives which are correctly classified)\n",
    "* positive predictive value (given a positive prediction is made, what % are correct)\n",
    "* negative predictive value (given a negative prediction is made, what % are correct)\n",
    "* F1 score (harmonic mean of sensitivity and PPV)\n",
    "\n",
    "In addition, we evaluate the number of false positives per 100 cases, or NFP/100. We feel this gives helpful perspective in interpretting the positive predictive value of the prediction and its relationship to the prevalance of the outcome. In this context, the measure can be summarized as: given 100 patients with suspected infection, how many will each algorithm inappropriately give a positive prediction?"
   ]
  },
  {
   "cell_type": "code",
   "execution_count": 54,
   "metadata": {
    "collapsed": false
   },
   "outputs": [
    {
     "name": "stdout",
     "output_type": "stream",
     "text": [
      "Metric\n",
      "\n",
      "     \tSOFA    \tSIRS    \tmLODS   \tqSOFA   \tseps3   \n",
      "TN   \t  790\t\t  992\t\t 1636\t\t 1877\t\t 2060\n",
      "FP   \t 2743\t\t 2541\t\t 1897\t\t 1656\t\t 1473\n",
      "FN   \t  264\t\t  530\t\t  677\t\t 1173\t\t 1273\n",
      "TP   \t 2984\t\t 2718\t\t 2571\t\t 2075\t\t 1975\n",
      "Sens \t92 [91, 93]\t84 [82, 85]\t79 [78, 81]\t64 [62, 66]\t61 [59, 62]\n",
      "Spec \t22 [21, 24]\t28 [27, 30]\t46 [45, 48]\t53 [51, 55]\t58 [57, 60]\n",
      "PPV  \t52 [51, 53]\t52 [50, 53]\t58 [56, 59]\t56 [54, 57]\t57 [56, 59]\n",
      "NPV  \t75 [72, 78]\t65 [63, 68]\t71 [69, 73]\t62 [60, 63]\t62 [60, 63]\n",
      "F1   \t 66.50   \t 63.90   \t 66.64   \t 59.46   \t 58.99   \n",
      "NTP  \t 44.01   \t 40.08   \t 37.91   \t 30.60   \t 29.13   \n",
      "NFP  \t 40.45   \t 37.47   \t 27.98   \t 24.42   \t 21.72   \n"
     ]
    }
   ],
   "source": [
    "# sepsis3 defined as qSOFA >= 2 and SOFA >= 2\n",
    "yhat_dict = OrderedDict([['SOFA', df.sofa.values >= 2],\n",
    "                        ['SIRS', df.sirs.values >= 2],\n",
    "                        ['mLODS', df.mlods.values >= 2],\n",
    "                        ['qSOFA', df.qsofa.values >= 2],\n",
    "                        ['seps3', df.sepsis3.values]])\n",
    "\n",
    "stats_all = su.get_op_stats(yhat_dict, y)\n",
    "\n",
    "su.print_op_stats(stats_all)"
   ]
  }
 ],
 "metadata": {
  "kernelspec": {
   "display_name": "Python 2",
   "language": "python",
   "name": "python2"
  },
  "language_info": {
   "codemirror_mode": {
    "name": "ipython",
    "version": 2
   },
   "file_extension": ".py",
   "mimetype": "text/x-python",
   "name": "python",
   "nbconvert_exporter": "python",
   "pygments_lexer": "ipython2",
   "version": "2.7.12"
  }
 },
 "nbformat": 4,
 "nbformat_minor": 0
}
