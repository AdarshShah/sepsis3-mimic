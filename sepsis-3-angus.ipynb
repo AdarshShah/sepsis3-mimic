{
 "cells": [
  {
   "cell_type": "markdown",
   "metadata": {},
   "source": [
    "# Sepsis-3 evaluation in the MIMIC-III database\n",
    "\n",
    "This notebook goes over the evaluation of the new Sepsis-3 guidelines in the MIMIC database. The goals of this analysis include:\n",
    "\n",
    "1. Evaluating the Sepsis-3 guidelines in MIMIC using the same methodology as in the research paper\n",
    "2. Evaluating the Sepsis-3 guidelines against ANGUS criteria\n",
    "3. Assessing if there are interesting subgroup(s) which are missed by the criteria"
   ]
  },
  {
   "cell_type": "code",
   "execution_count": null,
   "metadata": {
    "collapsed": false
   },
   "outputs": [],
   "source": [
    "from __future__ import print_function\n",
    "\n",
    "# Import libraries\n",
    "import numpy as np\n",
    "import pandas as pd\n",
    "import matplotlib.pyplot as plt\n",
    "\n",
    "from sepsis_utils import sepsis_utils as su\n",
    "from sepsis_utils import roc_utils as ru\n",
    "\n",
    "# used to calculate AUROC\n",
    "from sklearn import metrics\n",
    "\n",
    "# default colours for prettier plots\n",
    "col = [[0.9047, 0.1918, 0.1988],\n",
    "    [0.2941, 0.5447, 0.7494],\n",
    "    [0.3718, 0.7176, 0.3612],\n",
    "    [1.0000, 0.5482, 0.1000],\n",
    "    [0.4550, 0.4946, 0.4722],\n",
    "    [0.6859, 0.4035, 0.2412],\n",
    "    [0.9718, 0.5553, 0.7741],\n",
    "    [0.5313, 0.3359, 0.6523]];\n",
    "marker = ['v','o','d','^','s','o','+']\n",
    "ls = ['-','-','-','-','-','s','--','--']\n",
    "%matplotlib inline"
   ]
  },
  {
   "cell_type": "code",
   "execution_count": null,
   "metadata": {
    "collapsed": true
   },
   "outputs": [],
   "source": [
    "# load data\n",
    "df = pd.read_csv('sepsis3-df.csv',sep=',')\n",
    "df_mdl = pd.read_csv('sepsis3-design-matrix.csv',sep=',')\n",
    "\n",
    "# define outcome\n",
    "target_header = \"angus\"\n",
    "y = df[target_header].values == 1\n",
    "\n",
    "# define the covariates to be added in the MFP model (used for table of AUROCs)\n",
    "preds_header = ['sirs','sepsis3','mlods']"
   ]
  },
  {
   "cell_type": "markdown",
   "metadata": {},
   "source": [
    "# Study questions\n",
    "\n",
    "1. How well do the guidelines detect sepsis (Angus criteria) in the antibiotics/culture subset?\n",
    "2. How well do the guidelines predict mortality (in-hospital) in the antibiotics/culture subset?\n",
    "3. What factors would improve the sensitivity of the guidelines?\n",
    "4. What factors would improve the specificity of the guidelines?"
   ]
  },
  {
   "cell_type": "markdown",
   "metadata": {},
   "source": [
    "## Angus criteria evaluation"
   ]
  },
  {
   "cell_type": "code",
   "execution_count": null,
   "metadata": {
    "collapsed": false
   },
   "outputs": [],
   "source": [
    "yhat = df.sepsis3.values\n",
    "print('\\n SEPSIS-3 guidelines for Angus criteria sepsis \\n')\n",
    "print('Accuracy = {}'.format(metrics.accuracy_score(y, yhat)))\n",
    "su.print_cm(y, yhat, header1='ang',header2='sep3') # print confusion matrix"
   ]
  },
  {
   "cell_type": "markdown",
   "metadata": {},
   "source": [
    "Predictions using various levels of confounder adjustment are calculated in the subfunctions `calc_predictions`:\n",
    "\n",
    "* `model=None` - the severity scores on their own\n",
    "* `model='baseline'` - the severity scores in a vanilla regression\n",
    "* `model='mfp'` -the severity scores in a fractional polynomial regression (calls an R script)\n",
    "\n",
    "For Angus criteria we do not adjust for other factors when presenting the AUROCs."
   ]
  },
  {
   "cell_type": "code",
   "execution_count": null,
   "metadata": {
    "collapsed": false
   },
   "outputs": [],
   "source": [
    "preds = su.calc_predictions(df, preds_header, target_header, model=None)"
   ]
  },
  {
   "cell_type": "code",
   "execution_count": null,
   "metadata": {
    "collapsed": false
   },
   "outputs": [],
   "source": [
    "# reproduce the AUC table\n",
    "su.print_auc_table(preds, y, preds_header)\n",
    "\n",
    "su.print_auc_table_to_file(preds, y, preds_header=preds_header,\n",
    "                           filename='auc-table.csv')"
   ]
  },
  {
   "cell_type": "code",
   "execution_count": null,
   "metadata": {
    "collapsed": false
   },
   "outputs": [],
   "source": [
    "# define \"predictions\" according to the SEPSIS-3 guidelines:\n",
    "#  suspicion of infection, qSOFA >= 2, and SOFA >= 2\n",
    "yhat_all = [df.sepsis3.values,\n",
    "            df.sirs.values >= 2,\n",
    "            df.mlods.values >= 2]\n",
    "yhat_names = ['seps3','SIRS', 'mLODS']\n",
    "\n",
    "# define \"targets\", angus critera\n",
    "y_all = [y for x in yhat_names]\n",
    "\n",
    "stats_all = su.print_op_stats(yhat_all, y_all,\n",
    "               yhat_names=yhat_names,\n",
    "               header=target_header)"
   ]
  },
  {
   "cell_type": "markdown",
   "metadata": {},
   "source": [
    "# Appendix\n",
    "\n",
    "In the main body of the paper, we only evaluate operating point statistics for Angus criteria. Below, we reproduce ROC curves for the readers' interest."
   ]
  },
  {
   "cell_type": "code",
   "execution_count": null,
   "metadata": {
    "collapsed": false
   },
   "outputs": [],
   "source": [
    "markers = {'qsofa': 'o:', 'sofa': '^-', 'sirs': 's-', 'mlods': 'd-'}\n",
    "colors = {'qsofa': col[0], 'sofa': col[1], 'sirs': col[2], 'mlods': col[3]}\n",
    "pred_pretty_text = {'qsofa': 'qSOFA', 'sofa': 'SOFA', 'sirs': 'SIRS', 'mlods': 'mLODS'}\n",
    "\n",
    "# plot the data\n",
    "plt.figure(figsize=[9,9])\n",
    "\n",
    "# calculate and plot ROC for each score\n",
    "for pred in ['sirs','qsofa','sofa','mlods']:\n",
    "    if pred=='sepsis3':\n",
    "        continue\n",
    "        \n",
    "    fpr, tpr, thr = metrics.roc_curve(y, df[pred].values)\n",
    "    auc, auc_ci = ru.calc_auc(df[pred].values, y, with_ci=True, alpha=0.05)\n",
    "    plt.plot(fpr, tpr, markers[pred],\n",
    "             color=colors[pred], linewidth=2, markersize=10,\n",
    "             label=pred_pretty_text[pred] + ', ' +\n",
    "             '{:0.2f} [{:0.2f}, {:0.2f}]'.format(auc, auc_ci[0], auc_ci[1]))\n",
    "\n",
    "plt.legend(loc=\"lower right\")\n",
    "\n",
    "plt.plot([0,1], [0,1], '--',\n",
    "         color=[0,0,0], linewidth=2)\n",
    "# reformat the plot\n",
    "plt.xlim([-0.05, 1.05])\n",
    "plt.ylim([-0.05, 1.05])\n",
    "plt.xlabel('False Positive Rate',fontsize=14)\n",
    "plt.ylabel('True Positive Rate',fontsize=14)\n",
    "#plt.title('ROC against ' + target_header,fontsize=14)\n",
    "plt.show()"
   ]
  },
  {
   "cell_type": "markdown",
   "metadata": {},
   "source": [
    "## Histograms comparing qSOFA"
   ]
  },
  {
   "cell_type": "code",
   "execution_count": null,
   "metadata": {
    "collapsed": false
   },
   "outputs": [],
   "source": [
    "# histogram of the qSOFA values in septic/non-septic population\n",
    "qsofa_alive = df.qsofa.values[~y]\n",
    "qsofa_dead = df.qsofa.values[y]\n",
    "\n",
    "xi = [-0.5,0.5,1.5,2.5,3.5]\n",
    "\n",
    "prevalence = np.mean(y)\n",
    "\n",
    "# plot the data\n",
    "plt.figure(figsize=[9,9])\n",
    "n0, bins0, patches0 = plt.hist(qsofa_alive, bins=xi, normed=True, color=col[0], alpha=0.5,\n",
    "         label='qSOFA - ' + target_header + '=0')\n",
    "n1, bins1, patches1 = plt.hist(qsofa_dead, bins=xi, normed=True, color=col[1], alpha=0.5,\n",
    "         label='qSOFA - ' + target_header + '=1')\n",
    "\n",
    "plt.legend(loc=\"upper right\")\n",
    "\n",
    "# reformat the plot\n",
    "plt.xlim([-0.5,4.5])\n",
    "#plt.ylim([-0.05, 1.05])\n",
    "plt.xlabel('qSOFA',fontsize=14)\n",
    "plt.ylabel('Proportion - normalized within groups',fontsize=14)\n",
    "\n",
    "plt.figure(figsize=[9,9])\n",
    "\n",
    "N = len(y)\n",
    "plt.bar(bins0[0:-1], 100.0*n0/N*qsofa_alive.shape[0], width=1, color=col[0], alpha=0.5,\n",
    "         label='qSOFA - ' + target_header + '=0')\n",
    "plt.bar(bins1[0:-1], 100.0*n1/N*qsofa_dead.shape[0], width=1, color=col[1], alpha=0.5,\n",
    "         label='qSOFA - ' + target_header + '=1')\n",
    "plt.legend()\n",
    "plt.ylabel('Percent of TOTAL patients')\n",
    "plt.show()"
   ]
  }
 ],
 "metadata": {
  "kernelspec": {
   "display_name": "Python 2",
   "language": "python",
   "name": "python2"
  },
  "language_info": {
   "codemirror_mode": {
    "name": "ipython",
    "version": 2
   },
   "file_extension": ".py",
   "mimetype": "text/x-python",
   "name": "python",
   "nbconvert_exporter": "python",
   "pygments_lexer": "ipython2",
   "version": "2.7.12"
  }
 },
 "nbformat": 4,
 "nbformat_minor": 0
}
