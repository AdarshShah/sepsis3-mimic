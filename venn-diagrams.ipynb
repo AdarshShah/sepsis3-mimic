{
 "cells": [
  {
   "cell_type": "markdown",
   "metadata": {},
   "source": [
    "# Venn diagrams comparing sepsis frequencies\n",
    "\n",
    "This notebook contains a number of Venn diagrams which visualize the proportion of patients who overlap given the various sepsis definitions."
   ]
  },
  {
   "cell_type": "code",
   "execution_count": null,
   "metadata": {
    "collapsed": false
   },
   "outputs": [],
   "source": [
    "# Import libraries\n",
    "from __future__ import print_function\n",
    "\n",
    "\n",
    "import numpy as np\n",
    "import pandas as pd\n",
    "import matplotlib.pyplot as plt\n",
    "from collections import OrderedDict\n",
    "\n",
    "from sepsis_utils import sepsis_utils as su\n",
    "\n",
    "%matplotlib inline\n",
    "plt.style.use('ggplot')"
   ]
  },
  {
   "cell_type": "code",
   "execution_count": null,
   "metadata": {
    "collapsed": true
   },
   "outputs": [],
   "source": [
    "# load data\n",
    "df = pd.read_csv('sepsis3-df.csv')\n",
    "\n",
    "# add the composite outcome\n",
    "df['composite_outcome'] = ( (df['hospital_expire_flag']==1) | (df['icu_los']>=3) ).astype(int)\n",
    "\n",
    "# add some other useful variables\n",
    "df['blood culture'] = (~df['blood_culture_time'].isnull())\n",
    "df['suspicion_poe'] = (~df['suspected_infection_time_poe_days'].isnull())\n",
    "\n",
    "df['abx_poe'] = (~df['antibiotic_time_poe'].isnull())\n",
    "\n",
    "df['sepsis-3'] = ((df['suspicion_poe']==1) & (df['sofa']>=2)).astype(int)\n",
    "df['sofa>=2'] = (df['sofa']>=2).astype(int)\n",
    "\n",
    "\n",
    "for c in ['intime','outtime',\n",
    "          'suspected_infection_time_mv','suspected_infection_time',\n",
    "          'suspected_infection_time_poe', 'blood_culture_time']:\n",
    "    if c in df.columns:\n",
    "        if df[c].dtype == 'object':\n",
    "            df[c] = pd.to_datetime(df[c])"
   ]
  },
  {
   "cell_type": "markdown",
   "metadata": {},
   "source": [
    "## Venn diagrams from the publication"
   ]
  },
  {
   "cell_type": "code",
   "execution_count": null,
   "metadata": {
    "collapsed": false
   },
   "outputs": [],
   "source": [
    "# define labels here\n",
    "# first label = red (top left)\n",
    "# second label = green (top right)\n",
    "# third label = blue (bottom)\n",
    "\n",
    "venn_labels = OrderedDict([\n",
    "        ['sepsis_martin', 'Martin criteria'],\n",
    "        ['sepsis_angus', 'Angus criteria'],\n",
    "        ['sepsis-3', 'Sepsis-3 criteria']\n",
    "    ])\n",
    "su.create_venn_diagram(df, venn_labels)"
   ]
  },
  {
   "cell_type": "code",
   "execution_count": null,
   "metadata": {
    "collapsed": false
   },
   "outputs": [],
   "source": [
    "venn_labels = OrderedDict([\n",
    "        ['sepsis_martin', 'Martin criteria'],\n",
    "        ['sepsis_angus', 'Angus criteria'],\n",
    "        ['suspicion_poe', 'Suspicion of infection']\n",
    "    ])\n",
    "su.create_venn_diagram(df, venn_labels)"
   ]
  },
  {
   "cell_type": "markdown",
   "metadata": {},
   "source": [
    "## Other venn diagrams"
   ]
  },
  {
   "cell_type": "code",
   "execution_count": null,
   "metadata": {
    "collapsed": false
   },
   "outputs": [],
   "source": [
    "venn_labels = OrderedDict([\n",
    "        ['sepsis_martin', 'Martin criteria'],\n",
    "        ['sepsis_angus', 'Angus criteria'],\n",
    "        ['sepsis_explicit', 'Explicit criteria']\n",
    "    ])\n",
    "su.create_venn_diagram(df, venn_labels)"
   ]
  },
  {
   "cell_type": "code",
   "execution_count": null,
   "metadata": {
    "collapsed": false
   },
   "outputs": [],
   "source": [
    "venn_labels = OrderedDict([\n",
    "        ['sepsis_martin', 'Martin criteria'],\n",
    "        ['sepsis_angus', 'Angus criteria'],\n",
    "        ['sepsis-3', 'Sepsis-3 criteria']\n",
    "    ])\n",
    "su.create_venn_diagram(df, venn_labels)"
   ]
  },
  {
   "cell_type": "code",
   "execution_count": null,
   "metadata": {
    "collapsed": false,
    "scrolled": false
   },
   "outputs": [],
   "source": [
    "venn_labels = OrderedDict([\n",
    "        ['sepsis_nqf', 'CMS'],\n",
    "        ['sepsis_cdc', 'CDC'],\n",
    "        ['sepsis-3', 'Sepsis-3']\n",
    "    ])\n",
    "su.create_venn_diagram(df, venn_labels)"
   ]
  },
  {
   "cell_type": "code",
   "execution_count": null,
   "metadata": {
    "collapsed": false
   },
   "outputs": [],
   "source": [
    "# 4-set venn diagram\n",
    "venn_labels = OrderedDict([\n",
    "        ['sofa>=2', 'SOFA >= 2'],\n",
    "        ['sepsis_angus', 'Angus criteria'],\n",
    "        ['suspicion_poe', 'Suspicion of infection'],\n",
    "        ['sepsis_martin', 'Martin criteria']\n",
    "    ])\n",
    "su.create_venn_diagram(df, venn_labels)"
   ]
  },
  {
   "cell_type": "code",
   "execution_count": null,
   "metadata": {
    "collapsed": false
   },
   "outputs": [],
   "source": [
    "venn_labels = OrderedDict([\n",
    "        ['sepsis-3', 'Sepsis-3 criteria'],\n",
    "        ['sepsis_angus', 'Angus et al. criteria'],\n",
    "        ['sepsis_explicit', 'Explicit criteria'],\n",
    "        ['sepsis_martin', 'Martin et al. criteria']\n",
    "    ])\n",
    "su.create_venn_diagram(df, venn_labels)"
   ]
  },
  {
   "cell_type": "markdown",
   "metadata": {},
   "source": [
    "# Venn with CDC/NQF"
   ]
  },
  {
   "cell_type": "code",
   "execution_count": null,
   "metadata": {
    "collapsed": false
   },
   "outputs": [],
   "source": [
    "venn_labels = OrderedDict([\n",
    "        ['sepsis-3', 'Sepsis-3'],\n",
    "        ['sepsis_cdc', 'CDC'],\n",
    "        ['sepsis_nqf', 'NQF']\n",
    "    ])\n",
    "su.create_venn_diagram(df, venn_labels)"
   ]
  },
  {
   "cell_type": "code",
   "execution_count": null,
   "metadata": {
    "collapsed": false
   },
   "outputs": [],
   "source": [
    "venn_labels = OrderedDict([\n",
    "        ['sepsis_angus', 'Angus'],\n",
    "        ['sepsis_cdc', 'CDC'],\n",
    "        ['sepsis_nqf', 'NQF']\n",
    "    ])\n",
    "su.create_venn_diagram(df, venn_labels)"
   ]
  },
  {
   "cell_type": "code",
   "execution_count": null,
   "metadata": {
    "collapsed": false
   },
   "outputs": [],
   "source": [
    "venn_labels = OrderedDict([\n",
    "        ['sepsis_martin', 'Martin'],\n",
    "        ['sepsis_angus', 'Angus criteria'],\n",
    "        ['sepsis_cdc', 'CDC'],\n",
    "        ['sepsis_nqf', 'NQF']\n",
    "    ])\n",
    "su.create_venn_diagram(df, venn_labels)"
   ]
  },
  {
   "cell_type": "code",
   "execution_count": null,
   "metadata": {
    "collapsed": false
   },
   "outputs": [],
   "source": [
    "venn_labels = OrderedDict([\n",
    "        ['sepsis-3', 'Sepsis-3'],\n",
    "        ['sepsis_angus', 'Angus criteria'],\n",
    "        ['sepsis_cdc', 'CDC'],\n",
    "        ['sepsis_nqf', 'NQF']\n",
    "    ])\n",
    "create_venn_diagram(df, venn_labels)"
   ]
  },
  {
   "cell_type": "markdown",
   "metadata": {},
   "source": [
    "# Venn diagram with mortality"
   ]
  },
  {
   "cell_type": "code",
   "execution_count": null,
   "metadata": {
    "collapsed": false
   },
   "outputs": [],
   "source": [
    "venn_labels = OrderedDict([\n",
    "        ['hospital_expire_flag', 'In-hospital mortality'],\n",
    "        ['sepsis_angus', 'Angus criteria'],\n",
    "        ['sepsis-3', 'Sepsis-3 criteria']\n",
    "    ])\n",
    "create_venn_diagram(df, venn_labels)"
   ]
  },
  {
   "cell_type": "code",
   "execution_count": null,
   "metadata": {
    "collapsed": false
   },
   "outputs": [],
   "source": [
    "venn_labels = OrderedDict([\n",
    "        ['sofa>=2', 'SOFA >= 2'],\n",
    "        ['sepsis_angus', 'Angus criteria'],\n",
    "        ['suspicion_poe', 'Suspicion of infection'],\n",
    "        ['hospital_expire_flag', 'In-hospital mortality']\n",
    "    ])\n",
    "create_venn_diagram(df, venn_labels)"
   ]
  }
 ],
 "metadata": {
  "kernelspec": {
   "display_name": "Python 2",
   "language": "python",
   "name": "python2"
  },
  "language_info": {
   "codemirror_mode": {
    "name": "ipython",
    "version": 2
   },
   "file_extension": ".py",
   "mimetype": "text/x-python",
   "name": "python",
   "nbconvert_exporter": "python",
   "pygments_lexer": "ipython2",
   "version": "2.7.12"
  }
 },
 "nbformat": 4,
 "nbformat_minor": 0
}
