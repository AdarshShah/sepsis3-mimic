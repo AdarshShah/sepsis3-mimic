{
 "cells": [
  {
   "cell_type": "markdown",
   "metadata": {},
   "source": [
    "# Sepsis-3 in MIMIC-III\n",
    "\n",
    "This is the primary notebook for analyzing sepsis-3 in the MIMIC-III database. Before running this notebook, you'll need the `sepsis3-df.csv` file in the local directory: either by downloading it directly from PhysioNet or running the SQL scripts enclosed on the MIMIC-III database. See `sepsis-3-get-data.ipynb` for more detail."
   ]
  },
  {
   "cell_type": "code",
   "execution_count": null,
   "metadata": {
    "collapsed": true
   },
   "outputs": [],
   "source": [
    "from __future__ import print_function\n",
    "\n",
    "# Import libraries\n",
    "import os\n",
    "import numpy as np\n",
    "import pandas as pd\n",
    "import matplotlib\n",
    "import matplotlib.pyplot as plt\n",
    "import subprocess\n",
    "import tableone\n",
    "from collections import OrderedDict\n",
    "from statsmodels.formula.api import logit\n",
    "from IPython.display import display, HTML # used to print out pretty pandas dataframes\n",
    "\n",
    "from sepsis_utils import sepsis_utils as su\n",
    "from sepsis_utils import roc_utils as ru\n",
    "\n",
    "# used to calculate AUROC/accuracy\n",
    "from sklearn import metrics\n",
    "\n",
    "# default colours for prettier plots\n",
    "col = [[0.9047, 0.1918, 0.1988],\n",
    "    [0.2941, 0.5447, 0.7494],\n",
    "    [0.3718, 0.7176, 0.3612],\n",
    "    [1.0000, 0.5482, 0.1000],\n",
    "    [0.4550, 0.4946, 0.4722],\n",
    "    [0.6859, 0.4035, 0.2412],\n",
    "    [0.9718, 0.5553, 0.7741],\n",
    "    [0.5313, 0.3359, 0.6523]];\n",
    "marker = ['v','o','d','^','s','o','+']\n",
    "ls = ['-','-','-','-','-','s','--','--']\n",
    "\n",
    "import colorsys\n",
    "def gg_color_hue(n):\n",
    "    hues = np.linspace(15, 375, n)\n",
    "    hsv_tuples = [(x*1.0/360.0, 0.5, 0.8) for x in hues]\n",
    "    rgb_tuples = map(lambda x: colorsys.hsv_to_rgb(*x), hsv_tuples)\n",
    "    return rgb_tuples\n",
    "\n",
    "\n",
    "%matplotlib inline\n",
    "plt.style.use('ggplot')\n",
    "\n",
    "font = {'family' : 'DejaVu Sans',\n",
    "        'size'   : 20}\n",
    "\n",
    "matplotlib.rc('font', **font)"
   ]
  },
  {
   "cell_type": "code",
   "execution_count": null,
   "metadata": {
    "collapsed": true
   },
   "outputs": [],
   "source": [
    "df = pd.read_csv('sepsis3-df.csv')\n",
    "\n",
    "# add the composite outcome\n",
    "df['composite_outcome'] = ( (df['hospital_expire_flag']==1) | (df['icu_los']>=3) ).astype(int)\n",
    "\n",
    "labels = OrderedDict([['suspicion_poe', 'BC + ABX (Prescribed)']])\n",
    "\n",
    "# add some other useful variables\n",
    "df['blood culture'] = (~df['blood_culture_time'].isnull())\n",
    "df['suspicion_poe'] = (~df['suspected_infection_time_poe_days'].isnull())\n",
    "\n",
    "df['abx_poe'] = (~df['antibiotic_time_poe'].isnull())\n",
    "\n",
    "df['sepsis-3'] = ((df['suspicion_poe']==1) & (df['sofa']>=2)).astype(int)\n",
    "df['sofa>=2'] = (df['sofa']>=2).astype(int)\n",
    "\n",
    "\n",
    "for c in ['intime','outtime',\n",
    "          'suspected_infection_time_mv','suspected_infection_time',\n",
    "          'suspected_infection_time_poe', 'blood_culture_time']:\n",
    "    if c in df.columns:\n",
    "        if df[c].dtype == 'object':\n",
    "            df[c] = pd.to_datetime(df[c])\n",
    "\n",
    "# list of the sepsis definitions\n",
    "sepsis_list = ['sepsis_angus','sepsis_martin', 'sepsis_explicit',\n",
    "               'sepsis_cdc','sepsis_nqf',\n",
    "               'sepsis-3']"
   ]
  },
  {
   "cell_type": "markdown",
   "metadata": {},
   "source": [
    "# Results for Abstract"
   ]
  },
  {
   "cell_type": "code",
   "execution_count": null,
   "metadata": {
    "collapsed": false,
    "scrolled": false
   },
   "outputs": [],
   "source": [
    "# see get-data for the exclusions\n",
    "reload(su)\n",
    "print('{:5g} patients.'.format(df.shape[0]))\n",
    "\n",
    "print('{:5g} ({:2.0f}%) suspected of infection.'.format(\n",
    "        df['suspicion_poe'].sum(), df['suspicion_poe'].sum()*100.0/df.shape[0]))\n",
    "\n",
    "print('{:5g} ({:2.2f}%) have SOFA >= 2.'.format(\n",
    "    df['sofa>=2'].sum(),100.0*df['sofa>=2'].mean()))\n",
    "\n",
    "print('{:5g} ({:2.2f}%) have Sepsis-3 criteria (intersection of above two).'.format(\n",
    "    df['sepsis-3'].sum(),100.0*df['sepsis-3'].mean()))\n",
    "\n",
    "print('{:5g} ({:2.2f}%) have suspicion and SOFA < 2.'.format(\n",
    "        ((df['sofa>=2']==0) & (df['suspicion_poe']==1)).sum(),\n",
    "        ((df['sofa>=2']==0) & (df['suspicion_poe']==1)).sum()*100.0/df.shape[0]))\n",
    "\n",
    "for c in sepsis_list:\n",
    "    print('{:5g} ({:3.2f}%) - {}'.format(\n",
    "        df[c].sum(), df[c].sum()*100.0/df.shape[0], c))\n",
    "\n",
    "print('{:5g} ({:2.2f}%) have Sepsis-3 criteria but not Angus.'.format(\n",
    "        ((df['sepsis_angus']==0) & (df['sepsis-3']==1)).sum(),\n",
    "        ((df['sepsis_angus']==0) & (df['sepsis-3']==1)).sum()*100.0/df.shape[0]))\n",
    "\n",
    "\n",
    "np.random.seed(21381)\n",
    "# cronbach alpha for construct validity\n",
    "calpha = su.cronbach_alpha_table(df, sepsis_list)\n",
    "\n",
    "# remove \"sepsis_\" prefix from columns/indices\n",
    "calpha.columns = [x.replace('sepsis_','') for x in calpha.columns]\n",
    "calpha.index = [x.replace('sepsis_','') for x in calpha.index]\n",
    "\n",
    "print('\\n === Cronbach Alpha ===')\n",
    "display(HTML(calpha.fillna('').to_html()))"
   ]
  },
  {
   "cell_type": "markdown",
   "metadata": {},
   "source": [
    "# Results section\n",
    "\n",
    "We now print out the results in the same order as they are in the paper."
   ]
  },
  {
   "cell_type": "markdown",
   "metadata": {},
   "source": [
    "# Demographics"
   ]
  },
  {
   "cell_type": "code",
   "execution_count": null,
   "metadata": {
    "collapsed": false
   },
   "outputs": [],
   "source": [
    "# Call the print_demographics subfunction, which prints out a reasonably formatted table\n",
    "su.print_demographics(df)\n",
    "\n",
    "print('\\nAlive vs. dead')\n",
    "su.print_demographics(df, idx=(df.hospital_expire_flag.values==1))\n",
    "\n",
    "print('')\n",
    "\n",
    "print('{:5g} have SIRS >= 2 ({:2.2f}%) on admission.'.format(\n",
    "    (df.sirs.values >= 2).sum(),100.0*(df.sirs.values >= 2).mean()))\n",
    "\n",
    "print('{:5g} have qSOFA >= 2 ({:2.2f}%) on admission.'.format(\n",
    "    (df.qsofa.values >= 2).sum(),100.0*(df.qsofa.values >= 2).mean()))\n",
    "\n",
    "print('{:5g} have SOFA >= 2 ({:2.2f}%).'.format(\n",
    "    (df.sofa.values >= 2).sum(),100.0*(df.sofa.values >= 2).mean()))\n",
    "\n",
    "print('{:5g} have LODS >= 2 ({:2.2f}%).'.format(\n",
    "    (df.lods.values >= 2).sum(),100.0*(df.lods.values >= 2).mean()))"
   ]
  },
  {
   "cell_type": "markdown",
   "metadata": {},
   "source": [
    "## Frequency of primary/secondary outcomes for each score\n",
    "\n",
    "First print a table, then plot the figure."
   ]
  },
  {
   "cell_type": "code",
   "execution_count": null,
   "metadata": {
    "collapsed": false
   },
   "outputs": [],
   "source": [
    "# list probability of outcome for each score\n",
    "scores = ['suspicion_poe','sofa>=2',\n",
    "          'sepsis-3',\n",
    "          'sepsis_angus','sepsis_martin','sepsis_explicit',\n",
    "          'sepsis_cdc','sepsis_nqf']\n",
    "\n",
    "scores_dict = {\n",
    "    'suspicion_poe': 'Suspected infection',\n",
    "    'sofa>=2': 'SOFA >= 2',\n",
    "    'sepsis-3': 'Sepsis-3',\n",
    "    'sepsis_angus': 'Angus et al. criteria',\n",
    "    'sepsis_martin': 'Martin et al. criteria',\n",
    "    'sepsis_explicit': 'Explicit',\n",
    "    'sepsis_cdc': 'CDC',\n",
    "    'sepsis_nqf': 'CMS'\n",
    "}\n",
    "target_header = \"hospital_expire_flag\"\n",
    "idx = df[target_header]==1\n",
    "\n",
    "print()\n",
    "print('=== {} ==='.format(target_header))\n",
    "print()\n",
    "print('{:15s}\\t{:8s}\\t{:5s}\\t{:5s}'.format(\n",
    "    'Criteria','N','p(death|c)', 'p(death|~c)'))\n",
    "for c in scores:\n",
    "    print('{:15s}\\t{:4d}, {:2.1f}%\\t{:2.1f}%\\t\\t{:2.1f}%'.format(\n",
    "            c,\n",
    "            np.sum( df[c]==1 ),\n",
    "            np.sum( df[c]==1 )*100.0/df.shape[0],\n",
    "            np.sum( (df[c]==1)&idx )*100.0 / np.sum( df[c]==1 ),\n",
    "            np.sum( (df[c]!=1)&idx )*100.0 / np.sum( df[c]!=1 )\n",
    "        ))\n",
    "    \n",
    "target_header = \"composite_outcome\"\n",
    "idx = df[target_header]==1\n",
    "\n",
    "print()\n",
    "print('=== {} ==='.format(target_header))\n",
    "print()\n",
    "\n",
    "print('{:15s}\\t{:8s}\\t{:5s}\\t{:5s}'.format(\n",
    "    'Criteria','N','p(death|c)', 'p(death|~c)'))\n",
    "for c in scores:\n",
    "    print('{:15s}\\t{:4d}, {:2.1f}%\\t{:2.1f}%\\t\\t{:2.1f}%'.format(\n",
    "            c,\n",
    "            np.sum( df[c]==1 ),\n",
    "            np.sum( df[c]==1 )*100.0/df.shape[0],\n",
    "            np.sum( (df[c]==1)&idx )*100.0 / np.sum( df[c]==1 ),\n",
    "            np.sum( (df[c]!=1)&idx )*100.0 / np.sum( df[c]!=1 )\n",
    "        ))"
   ]
  },
  {
   "cell_type": "code",
   "execution_count": null,
   "metadata": {
    "collapsed": false
   },
   "outputs": [],
   "source": [
    "# create a figure of the above frequencies\n",
    "scores = ['suspicion_poe','sofa>=2',\n",
    "          'sepsis-3',\n",
    "          'sepsis_angus','sepsis_martin','sepsis_explicit',\n",
    "          'sepsis_cdc','sepsis_nqf']\n",
    "\n",
    "scores_dict = {\n",
    "    'suspicion_poe': 'Suspected infection',\n",
    "    'sofa>=2': 'SOFA >= 2',\n",
    "    'sepsis-3': 'Sepsis-3',\n",
    "    'sepsis_angus': 'Angus et al. criteria',\n",
    "    'sepsis_martin': 'Martin et al. criteria',\n",
    "    'sepsis_explicit': 'Explicit',\n",
    "    'sepsis_cdc': 'CDC',\n",
    "    'sepsis_nqf': 'CMS'\n",
    "}\n",
    "\n",
    "idx = df['hospital_expire_flag']==1\n",
    "idxComp = df['composite_outcome']==1\n",
    "\n",
    "score_plot = np.zeros( [len(scores), 3] )\n",
    "for i, c in enumerate(scores):\n",
    "    # proportion of patients\n",
    "    score_plot[i, 0] = np.sum( df[c]==1 )*100.0/df.shape[0]\n",
    "    \n",
    "    # with mort\n",
    "    score_plot[i, 1] = np.sum( (df[c]==1)&idx )*100.0 / np.sum( df[c]==1 )\n",
    "    # with comp\n",
    "    score_plot[i, 2] = np.sum( (df[c]==1)&idxComp )*100.0 / np.sum( df[c]==1 )\n",
    "    \n",
    "S = len(scores)\n",
    "\n",
    "idxSort = np.argsort(score_plot[:,0])\n",
    "plt.figure()\n",
    "plt.barh( range(S), score_plot[idxSort,0], color=col[1], align='center')\n",
    "plt.barh( range(S), score_plot[idxSort,0]*score_plot[idxSort,2]/100.0, color=col[3], align='center', height=0.6)\n",
    "plt.barh( range(S), score_plot[idxSort,0]*score_plot[idxSort,1]/100.0, color=col[0], align='center', height=0.4)\n",
    "\n",
    "plt.yticks(range(S), [scores_dict[scores[x]] for x in idxSort])\n",
    "plt.xlabel('Percentage of patients')\n",
    "plt.xlim([0,100])\n",
    "plt.show()\n",
    "\n",
    "print('')\n",
    "print('{:15s}\\t{:8s}\\t{:5s}\\t{:5s}\\t{:5s}\\t{:5s}'.format(\n",
    "    'Criteria','N','p(death|c)', 'p(death|~c)', 'p(comp|c)', 'p(comp|~c)'))\n",
    "for i in idxSort[-1::-1]:\n",
    "    c=scores[i]\n",
    "    print('{:15s}\\t{:4d}, {:2.1f}%\\t{:2.1f}%\\t\\t{:2.1f}%\\t\\t{:2.1f}%\\t\\t{:2.1f}%'.format(\n",
    "            c,\n",
    "            np.sum( df[c]==1 ),\n",
    "            np.sum( df[c]==1 )*100.0/df.shape[0],\n",
    "            np.sum( (df[c]==1)&idx )*100.0 / np.sum( df[c]==1 ),\n",
    "            np.sum( (df[c]!=1)&idx )*100.0 / np.sum( df[c]!=1 ),\n",
    "            np.sum( (df[c]==1)&idxComp )*100.0 / np.sum( df[c]==1 ),\n",
    "            np.sum( (df[c]!=1)&idxComp )*100.0 / np.sum( df[c]!=1 )\n",
    "        ))\n",
    "    "
   ]
  },
  {
   "cell_type": "code",
   "execution_count": null,
   "metadata": {
    "collapsed": false
   },
   "outputs": [],
   "source": [
    "# print the frequencies\n",
    "# list probability of outcome for each score\n",
    "scores = ['suspicion_poe','sofa>=2',\n",
    "          'sepsis-3',\n",
    "          'sepsis_angus','sepsis_martin','sepsis_explicit',\n",
    "          'sepsis_cdc','sepsis_nqf']\n",
    "\n",
    "scores_dict = {\n",
    "    'suspicion_poe': 'Suspected infection',\n",
    "    'sofa>=2': 'SOFA >= 2',\n",
    "    'sepsis-3': 'Sepsis-3',\n",
    "    'sepsis_angus': 'Angus et al. criteria',\n",
    "    'sepsis_martin': 'Martin et al. criteria',\n",
    "    'sepsis_explicit': 'Explicit',\n",
    "    'sepsis_cdc': 'CDC',\n",
    "    'sepsis_nqf': 'CMS'\n",
    "}\n",
    "\n",
    "idx = df['hospital_expire_flag']==1\n",
    "idxComp = df['composite_outcome']==1\n",
    "\n",
    "score_plot = np.zeros( [len(scores), 3] )\n",
    "for i, c in enumerate(scores):\n",
    "    # proportion of patients\n",
    "    score_plot[i, 0] = np.sum( df[c]==1 )*100.0/df.shape[0]\n",
    "    \n",
    "    # with mort\n",
    "    score_plot[i, 1] = np.sum((df[c]==1)&idx)*100.0 / np.sum( df[c]==1 )\n",
    "    # with comp\n",
    "    score_plot[i, 2] = np.sum( (df[c]==1)&idxComp )*100.0 / np.sum( df[c]==1 )\n",
    "    \n",
    "S = len(scores)\n",
    "\n",
    "idxSort = np.argsort(score_plot[:,0])\n",
    "\n",
    "plt.figure()\n",
    "plt.barh( range(S), score_plot[idxSort,0], color=col[1], align='center', label='Patients')\n",
    "#plt.barh( range(S), score_plot[idxSort,2], color=col[3], align='center', height=0.6)\n",
    "plt.barh( range(S), score_plot[idxSort,1], color=col[0], align='center', height=0.4, label='Patients who died')\n",
    "#ax2.set_xlim(ax2.get_xlim()[::-1])\n",
    "\n",
    "#plt.plot( score_plot[idxSort,1], range(S), color=col[0], marker='o', markersize=10)\n",
    "#ax1.barh( range(S), score_plot[idxSort,0]*score_plot[idxSort,2]/100.0, color=col[3], align='center', height=0.6)\n",
    "#\n",
    "#ax2 = ax1.twiny()\n",
    "#ax2.barh( range(S), (score_plot[idxSort,0]*score_plot[idxSort,1]/100.0), color=col[0], align='center', height=0.4)\n",
    "#ax2.set_xlim(ax2.get_xlim()[::-1])\n",
    "#ax2.plot(range(S), score_plot[idxSort,0]*score_plot[idxSort,1]/100.0, color=col[0] )\n",
    "\n",
    "plt.yticks(range(S), [scores_dict[scores[x]] for x in idxSort])\n",
    "plt.xlabel('Percentage of patients')\n",
    "#plt.legend(loc='lower right')\n",
    "plt.xlim([0,100])\n",
    "plt.show()"
   ]
  },
  {
   "cell_type": "code",
   "execution_count": null,
   "metadata": {
    "collapsed": false
   },
   "outputs": [],
   "source": [
    "# create a dataframe for these probabilities\n",
    "df_outcome = pd.DataFrame(columns=['Criteria','N','p(death|c)', 'p(death|~c)', 'p(comp|c)', 'p(comp|~c)'], dtype=float)\n",
    "# same print but to csv\n",
    "for i in idxSort[-1::-1]:\n",
    "    c=scores[i]\n",
    "    df_outcome.loc[scores_dict[c], :] = [np.sum( df[c]==1 ),\n",
    "            np.sum( df[c]==1 )*100.0/df.shape[0],\n",
    "            np.sum( (df[c]==1)&idx )*100.0 / np.sum( df[c]==1 ),\n",
    "            np.sum( (df[c]!=1)&idx )*100.0 / np.sum( df[c]!=1 ),\n",
    "            np.sum( (df[c]==1)&idxComp )*100.0 / np.sum( df[c]==1 ),\n",
    "            np.sum( (df[c]!=1)&idxComp )*100.0 / np.sum( df[c]!=1 )]\n",
    "    #print('{},{:4d} {:2.1f}%,{:2.1f}%,{:2.1f}%,{:2.1f}%,{:2.1f}%'.format(\n",
    "    #    ))\n",
    "    \n",
    "# display .. maximum of 2 decimal places\n",
    "display(HTML(df_outcome.round(decimals=2).to_html()))"
   ]
  },
  {
   "cell_type": "code",
   "execution_count": null,
   "metadata": {
    "collapsed": false
   },
   "outputs": [],
   "source": [
    "# note: we need to subselect to the cohort suspected of infection in order to compare AUROCs to previous literature\n",
    "idx = df['suspicion_poe'].values == 1\n",
    "pred_header = 'sofa'\n",
    "\n",
    "print('Comparison to past literature performance.')\n",
    "#print'{}'\n",
    "\n",
    "\n",
    "df_past_literature = pd.DataFrame(columns=['hospital_expire_flag','composite_outcome'])\n",
    "df_past_literature.loc['Seymour et al., 2016',:] = ['0.74 [0.73 - 0.76]', '~0.74 (inferred from eFigure 6)']\n",
    "df_past_literature.loc['Raith et al., 2017',:] = ['0.753 [0.750 - 0.757]', '0.736 [0.733 - 0.739]']\n",
    "np.random.seed(7891)\n",
    "# AUROC of sofa for in-hospital mortality\n",
    "target_header = 'hospital_expire_flag'\n",
    "auc_hosp, ci_hosp = ru.calc_auc(df.loc[idx, pred_header].values, df.loc[idx, target_header].values, with_ci=True)\n",
    "target_header = 'composite_outcome'\n",
    "auc_comp, ci_comp = ru.calc_auc(df.loc[idx, pred_header].values, df.loc[idx, target_header].values, with_ci=True)\n",
    "\n",
    "df_past_literature.loc['Our results', :] = ['{:0.3f} [{:0.3f} - {:0.3f}]'.format(auc_hosp, ci_hosp[0], ci_hosp[1]),\n",
    "                                           '{:0.3f} [{:0.3f} - {:0.3f}]'.format(auc_comp, ci_comp[0], ci_comp[1])]\n",
    "\n",
    "\n",
    "display(HTML(df_past_literature.to_html()))"
   ]
  },
  {
   "cell_type": "markdown",
   "metadata": {},
   "source": [
    "In the above, it is worth noting that:\n",
    "\n",
    "* The results of Seymour et al. are for a model incorporating age, gender, race, and comorbid status\n",
    "* The results of Raith et al. are for the uncalibrated univariable score (\"crude\")"
   ]
  },
  {
   "cell_type": "code",
   "execution_count": null,
   "metadata": {
    "collapsed": false
   },
   "outputs": [],
   "source": [
    "# operating point statistics on sofa >= 2\n",
    "yhat_dict = OrderedDict([['SOFA>=2', df['sofa>=2']]\n",
    "                        ])\n",
    "stats_all = su.get_op_stats(yhat_dict, df[target_header].values)\n",
    "su.print_op_stats(stats_all)"
   ]
  },
  {
   "cell_type": "markdown",
   "metadata": {},
   "source": [
    "# Sepsis\n",
    "\n",
    "Create the sepsis-3 criteria: SOFA >= 2 and suspicion of infection."
   ]
  },
  {
   "cell_type": "code",
   "execution_count": null,
   "metadata": {
    "collapsed": false
   },
   "outputs": [],
   "source": [
    "print('{:5g} ({:3.2f}%)  first ICU stay for adults.'.format(\n",
    "        df['icustay_id'].count(), 100))\n",
    "print('{:5g} ({:3.2f}%)  suspected of infection'.format(\n",
    "        np.sum(df['suspicion_poe']),\n",
    "        np.sum(df['suspicion_poe'])*100.0/df.shape[0]))\n",
    "print('{:5g} ({:3.2f}%)  with a positive blood culture'.format(\n",
    "    df['blood_culture_positive'].sum(), df['blood_culture_positive'].sum()*100.0/df.shape[0]))\n",
    "\n",
    "print()\n",
    "for i, c in enumerate(labels):\n",
    "    print('{:5g} ({:3.2f}%) - {}'.format(\n",
    "        df[c].sum(), df[c].sum()*100.0/df.shape[0], c))"
   ]
  },
  {
   "cell_type": "markdown",
   "metadata": {},
   "source": [
    "## Venn diagrams of Sepsis-3 against other criteria"
   ]
  },
  {
   "cell_type": "code",
   "execution_count": null,
   "metadata": {
    "collapsed": false
   },
   "outputs": [],
   "source": [
    "# define labels here\n",
    "# first label = red (top left)\n",
    "# second label = green (top right)\n",
    "# third label = blue (bottom)\n",
    "\n",
    "venn_labels = OrderedDict([\n",
    "        ['sepsis_martin', 'Martin criteria'],\n",
    "        ['sepsis_angus', 'Angus criteria'],\n",
    "        ['sepsis-3', 'Sepsis-3 criteria']\n",
    "    ])\n",
    "su.create_venn_diagram(df, venn_labels)\n",
    "\n",
    "venn_labels = OrderedDict([\n",
    "        ['sepsis_nqf', 'CMS'],\n",
    "        ['sepsis_cdc', 'CDC'],\n",
    "        ['sepsis-3', 'Sepsis-3']\n",
    "    ])\n",
    "su.create_venn_diagram(df, venn_labels)"
   ]
  },
  {
   "cell_type": "markdown",
   "metadata": {},
   "source": [
    "## add in year .. if available"
   ]
  },
  {
   "cell_type": "code",
   "execution_count": null,
   "metadata": {
    "collapsed": false
   },
   "outputs": [],
   "source": [
    "if not os.path.isfile('mimiciii_fiscal_year.csv'):\n",
    "    print('Cannot create plot as years are not available.')\n",
    "else:\n",
    "    yr = pd.read_csv('mimiciii_fiscal_year.csv')\n",
    "    # set columns to lower case\n",
    "    yr.columns = [x.lower() if x != 'FISCALYEAR' else 'year' for x in yr.columns]\n",
    "    \n",
    "    yr = yr.merge(df, how='inner', left_on='hadm_id', right_on='hadm_id')\n",
    "    \n",
    "    #yr_keep = np.lin\n",
    "    yr_keep = np.linspace(2009,2012,4)\n",
    "    # create a dataframe that indicates if a patient has:\n",
    "    # heart rate, blood pressure, temperature, respiration rate\n",
    "    # in the first day.\n",
    "\n",
    "    sepsis = ['sepsis_angus','sepsis_martin','sepsis_explicit',\n",
    "              'sepsis_nqf','sepsis_cdc',\n",
    "              'sepsis-3',\n",
    "              #'septic_shock_explicit', 'severe_sepsis_explicit', 'suspicion_mv',\n",
    "              'blood culture', 'abx_poe', 'suspicion_poe']\n",
    "\n",
    "\n",
    "    grouped = yr.loc[np.in1d(yr['year'],yr_keep),:].groupby('year')\n",
    "\n",
    "    plt.figure(figsize=[12,8])\n",
    "\n",
    "    # get the x-axis from the original data - right now it's plotting against 0:NUMBER_OF_YEARS\n",
    "    year = np.unique(yr['year'].values)\n",
    "    Y = year.size\n",
    "\n",
    "    # set x-axis labels to years\n",
    "    #ax.set_xticks(range(Y))\n",
    "    #ax.set_xticklabels(year,fontsize=14)\n",
    "\n",
    "    pretty_labels = {'sepsis_angus': 'Angus et al. criteria',\n",
    "                    'sepsis_martin': 'Martin et al. criteria',\n",
    "                    'sepsis_explicit': 'Explicit ICD-9 coded sepsis',\n",
    "                    'sepsis_nqf': 'CMS NQF #0500 criteria',\n",
    "                    'sepsis_cdc': 'CDC Epicenters surveillence criteria',\n",
    "                    'septic_shock_explicit': 'ICD-9 code 785.52 (septic shock)',\n",
    "                    'severe_sepsis_explicit': 'ICD-9 code 995.92 (severe sepsis)',\n",
    "                    'sofa>=2': 'SOFA >= 2',\n",
    "                    'sepsis-3': 'Sepsis-3 criteria',\n",
    "                    'blood culture': 'Blood culture',\n",
    "                    'abx_poe': 'Antibiotic ordered',\n",
    "                    'suspicion_mv': 'Blood culture + Antibiotics (IV)',\n",
    "                    'suspicion_poe': 'Suspicion (Blood culture + Antibiotics)',\n",
    "                    'suspicion_piv': 'Blood culture + Antibiotics (POE IV)'}\n",
    "    \n",
    "    # if listed here, we use a special marker\n",
    "    # otherwise we just use 'o'\n",
    "    marker_special = {'severe_sepsis_explicit': '^',\n",
    "                      'sepsis_martin': '^',\n",
    "                      'sepsis_explicit': 's',\n",
    "                      'sepsis_angus': 'd',\n",
    "                      'suspicion_poe': 'd'\n",
    "                     }\n",
    "    \n",
    "    # prevent overlapping labels by changing the y_pos\n",
    "    y_pos_fix = {'suspicion_poe': -1,\n",
    "                'sepsis_martin': 0.4,\n",
    "                'sepsis_explicit': -1.5,\n",
    "                'sepsis_cdc': 1.3,\n",
    "                'sepsis_angus': -1.3}\n",
    "    # ===================== #\n",
    "    # === PLOT THE DATA === #\n",
    "    # ===================== #  \n",
    "    for i, s in enumerate(sepsis):\n",
    "        marker='o'\n",
    "        if s in marker_special:\n",
    "            marker=marker_special[s]\n",
    "        p = plt.plot(grouped.apply(lambda subf: subf[s].mean()*100.0), label=pretty_labels[s],\n",
    "                linewidth=2,linestyle='-',marker=marker,markersize=12)\n",
    "\n",
    "\n",
    "        # Add a text label to the right end of every line\n",
    "        y_pos = yr.loc[ yr['year'] == yr_keep[-1],s ].mean()*100.0\n",
    "        x_pos = 2012.85\n",
    "        \n",
    "        if s in y_pos_fix:\n",
    "            y_pos = y_pos + y_pos_fix[s]\n",
    "            \n",
    "        # plot the symbol\n",
    "        plt.plot(x_pos-0.1, y_pos+1.0, linestyle='',\n",
    "                 color=p[0].get_color(), clip_on=False,\n",
    "                 marker=marker, markersize=12)\n",
    "        plt.text(x_pos, y_pos, pretty_labels[s],\n",
    "                 fontsize=18, fontweight='bold', color=p[0].get_color())    \n",
    "\n",
    "\n",
    "    # pretty the plot\n",
    "    plt.ylabel('Percentage of Patients', fontsize=24)\n",
    "    #plt.legend(loc=[0.6,0.45])\n",
    "    plt.xticks(yr_keep, ['{:g}'.format(x) for x in yr_keep])\n",
    "    plt.ylim([0,100])\n",
    "    plt.xlim([yr_keep[0]-.5,yr_keep[-1]+.5])\n",
    "    plt.xlabel('Fiscal Year of Admission', fontsize=24)\n",
    "    plt.savefig('SepsisOverTime.png')\n",
    "    \n",
    "    plt.show()\n",
    "    # print table\n",
    "    print('{:15s}'.format('Score'),end='')\n",
    "    for i, y in enumerate(yr_keep):\n",
    "        print('\\t{:g}'.format(y),end='')\n",
    "    print('')\n",
    "    \n",
    "    for i, s in enumerate(sepsis):\n",
    "        print('{:15s}'.format(s),end='')\n",
    "        for y in yr_keep:\n",
    "                print('\\t{:2.1f}'.format( np.sum(yr.loc[yr['year']==y,s])*100.0/np.sum(yr['year']==y)),end='')\n",
    "        print('')"
   ]
  },
  {
   "cell_type": "code",
   "execution_count": null,
   "metadata": {
    "collapsed": true
   },
   "outputs": [],
   "source": [
    "plt.xticks?"
   ]
  },
  {
   "cell_type": "markdown",
   "metadata": {},
   "source": [
    "# Mortality rates for each group"
   ]
  },
  {
   "cell_type": "code",
   "execution_count": null,
   "metadata": {
    "collapsed": false
   },
   "outputs": [],
   "source": [
    "target_header = \"hospital_expire_flag\"\n",
    "idx = df[target_header]==1\n",
    "\n",
    "# make a confusion matrix with multiple scores in each square\n",
    "scores = ['sepsis_angus','sepsis_martin','sepsis_explicit','suspicion_poe','sepsis-3','sofa>=2']\n",
    "\n",
    "print('{:15s} {:15s} {:15s}'.format('0','dead','alive','outcome %'))\n",
    "\n",
    "for c in scores:\n",
    "    print('{:15s} {:4d} {:1.1f}%\\t{:5d} {:1.1f}%  {:1.1f}%'.format(\n",
    "            c,\n",
    "            np.sum( (df[c]!=1)&idx ),  np.sum( (df[c]!=1)&idx )*100.0/df.shape[0],\n",
    "            np.sum( (df[c]!=1)&~idx ), np.sum( (df[c]!=1)&~idx )*100.0/df.shape[0],\n",
    "            np.sum( (df[c]!=1)&idx )*100.0/np.sum(df[c]!=1)\n",
    "        ))\n",
    "print()\n",
    "print('1')\n",
    "for c in scores:\n",
    "    print('{:15s} {:4d} {:1.1f}%\\t{:5d} {:1.1f}%  {:1.1f}%'.format(\n",
    "            c,\n",
    "            np.sum( (df[c]==1)&idx ),  np.sum( (df[c]==1)&idx )*100.0/df.shape[0],\n",
    "            np.sum( (df[c]==1)&~idx ), np.sum( (df[c]==1)&~idx )*100.0/df.shape[0],\n",
    "            np.sum( (df[c]==1)&idx )*100.0/np.sum(df[c]==1)\n",
    "        ))"
   ]
  },
  {
   "cell_type": "markdown",
   "metadata": {},
   "source": [
    "# Composite outcome for each group"
   ]
  },
  {
   "cell_type": "code",
   "execution_count": null,
   "metadata": {
    "collapsed": false
   },
   "outputs": [],
   "source": [
    "target_header = \"composite_outcome\"\n",
    "idx = (df['hospital_expire_flag']==1) | (df['icu_los']>=3)\n",
    "\n",
    "# make a confusion matrix with multiple scores in each square\n",
    "scores = ['sepsis_angus','sepsis_martin','sepsis_explicit','suspicion_poe','sepsis-3','sofa>=2']\n",
    "\n",
    "\n",
    "print('{:15s} {:12s} {:15s}'.format('0','dead/hi-LOS','alive/lo-LOS','outcome %'))\n",
    "\n",
    "for c in scores:\n",
    "    print('{:15s} {:4d} {:1.1f}%   {:5d} {:1.1f}%  {:1.1f}%'.format(\n",
    "            c,\n",
    "            np.sum( (df[c]!=1)&idx ),  np.sum( (df[c]!=1)&idx )*100.0/df.shape[0],\n",
    "            np.sum( (df[c]!=1)&~idx ), np.sum( (df[c]!=1)&~idx )*100.0/df.shape[0],\n",
    "            np.sum( (df[c]!=1)&idx )*100.0/np.sum(df[c]!=1)\n",
    "        ))\n",
    "print()\n",
    "print('1')\n",
    "for c in scores:\n",
    "    print('{:15s} {:4d} {:1.1f}%   {:5d} {:1.1f}%  {:1.1f}%'.format(\n",
    "            c,\n",
    "            np.sum( (df[c]==1)&idx ),  np.sum( (df[c]==1)&idx )*100.0/df.shape[0],\n",
    "            np.sum( (df[c]==1)&~idx ), np.sum( (df[c]==1)&~idx )*100.0/df.shape[0],\n",
    "            np.sum( (df[c]==1)&idx )*100.0/np.sum(df[c]==1)\n",
    "        ))"
   ]
  },
  {
   "cell_type": "markdown",
   "metadata": {},
   "source": [
    "# Mortality: operating point statistics"
   ]
  },
  {
   "cell_type": "code",
   "execution_count": null,
   "metadata": {
    "collapsed": false
   },
   "outputs": [],
   "source": [
    "target_header = \"hospital_expire_flag\"\n",
    "\n",
    "# sepsis3 defined as qSOFA >= 2 and SOFA >= 2\n",
    "yhat_dict = OrderedDict([['SOFA', df.sofa.values >= 2],\n",
    "                        ['SIRS', df.sirs.values >= 2],\n",
    "                        ['qSOFA', df.qsofa.values >= 2]])\n",
    "\n",
    "stats_all = su.get_op_stats(yhat_dict, df[target_header].values)\n",
    "\n",
    "su.print_op_stats(stats_all)"
   ]
  },
  {
   "cell_type": "markdown",
   "metadata": {},
   "source": [
    "# Composite outcome: operating point statistics"
   ]
  },
  {
   "cell_type": "code",
   "execution_count": null,
   "metadata": {
    "collapsed": false
   },
   "outputs": [],
   "source": [
    "target_header = \"composite_outcome\"\n",
    "\n",
    "# sepsis3 defined as qSOFA >= 2 and SOFA >= 2\n",
    "yhat_dict = OrderedDict([['SOFA', df.sofa.values >= 2],\n",
    "                        ['SIRS', df.sirs.values >= 2],\n",
    "                        ['qSOFA', df.qsofa.values >= 2]])\n",
    "\n",
    "stats_all = su.get_op_stats(yhat_dict, df[target_header].values)\n",
    "\n",
    "su.print_op_stats(stats_all)"
   ]
  },
  {
   "cell_type": "markdown",
   "metadata": {},
   "source": [
    "## Cronbach alpha and Kuder-Richardson Formula 20 agreement"
   ]
  },
  {
   "cell_type": "code",
   "execution_count": null,
   "metadata": {
    "collapsed": false,
    "scrolled": true
   },
   "outputs": [],
   "source": [
    "np.random.seed(21381)\n",
    "# cronbach alpha for construct validity\n",
    "reload(su)\n",
    "print(' === Cronbach Alpha ===')\n",
    "su.cronbach_alpha_table(df, ['sepsis_angus','sepsis_martin', 'sepsis_explicit','sepsis-3'])\n",
    "\n",
    "print('')\n",
    "print(' === KR20 ===')\n",
    "su.kr20_table(df, ['sepsis_angus','sepsis_martin', 'sepsis_explicit','sepsis-3'])\n",
    "\n",
    "print('Cronbach alpha is a generalization of KR20 to ordinal items.')"
   ]
  },
  {
   "cell_type": "markdown",
   "metadata": {},
   "source": [
    "# Severity of illness stats"
   ]
  },
  {
   "cell_type": "code",
   "execution_count": null,
   "metadata": {
    "collapsed": false
   },
   "outputs": [],
   "source": [
    "print('{:5g} ({:3.1f}%) first ICU stay for adults.'.format(\n",
    "        df['icustay_id'].count(), 100))\n",
    "for c in ['sirs','qsofa','sofa','sepsis-3',\n",
    "          'sepsis_angus','sepsis_martin','sepsis_explicit']:\n",
    "    if df[c].max() == 1:\n",
    "        print('{:5g} ({:3.1f}%)  with {}'.format(\n",
    "                (df[c]==1).sum(),\n",
    "                (df[c]==1).sum()*100.0/df.shape[0], c))\n",
    "    else:\n",
    "        print('{:5g} ({:3.1f}%)  with {} >= 2'.format(\n",
    "                (df[c]>=2).sum(),\n",
    "                (df[c]>=2).sum()*100.0/df.shape[0], c))"
   ]
  },
  {
   "cell_type": "markdown",
   "metadata": {},
   "source": [
    "## AUROC of severity of illness scores"
   ]
  },
  {
   "cell_type": "code",
   "execution_count": null,
   "metadata": {
    "collapsed": true,
    "scrolled": true
   },
   "outputs": [],
   "source": [
    "\"\"\"\n",
    "# ensure bootstrap always results in the same confidence intervals\n",
    "np.random.seed(978236412)\n",
    "\n",
    "# define outcome\n",
    "target_header = \"hospital_expire_flag\"\n",
    "\n",
    "# define the covariates to be added in the model (used for table of AUROCs)\n",
    "preds_header = ['sirs','qsofa','sofa']\n",
    "preds = su.calc_predictions(df, preds_header, target_header, model=None)\n",
    "\n",
    "print('AUROC table for unadjusted scores:')\n",
    "su.print_auc_table(preds, df[target_header].values, preds_header)\n",
    "print('\\n')\n",
    "\"\"\""
   ]
  },
  {
   "cell_type": "markdown",
   "metadata": {},
   "source": [
    "# Mortality: build models with different covariates"
   ]
  },
  {
   "cell_type": "code",
   "execution_count": null,
   "metadata": {
    "collapsed": true,
    "scrolled": true
   },
   "outputs": [],
   "source": [
    "# define outcome\n",
    "target_header = \"hospital_expire_flag\"\n",
    "\n",
    "# define the covariates to be added in the model (used for table of AUROCs)\n",
    "preds_header = ['sirs','qsofa','qsofa_norx','sofa']\n",
    "preds = su.calc_predictions(df, preds_header, target_header, model=None)\n",
    "preds_logreg = su.calc_predictions(df, preds_header, target_header, model='logreg')\n",
    "\n",
    "\n",
    "print('AUROC table for unadjusted scores:')\n",
    "su.print_auc_table(preds, df[target_header].values, preds_header)\n",
    "print('\\n')\n",
    "\n",
    "print('AUROC table for adjusted scores (using logistic regression):')\n",
    "su.print_auc_table(preds_logreg, df[target_header].values, preds_header)\n",
    "print('\\n')"
   ]
  },
  {
   "cell_type": "code",
   "execution_count": null,
   "metadata": {
    "collapsed": true
   },
   "outputs": [],
   "source": [
    "from statsmodels.formula.api import logit\n",
    "target_header = \"hospital_expire_flag\"\n",
    "pred_header = 'sofa'\n",
    "# test model on its own\n",
    "auc = ru.calc_auc(df[pred_header].values, df[target_header].values, with_ci=False)\n",
    "print('{} - univariable'.format(pred_header))\n",
    "print('AUROC={:0.3f}'.format(auc))\n",
    "\n",
    "\n",
    "\n",
    "# test model performance with addition of lactate\n",
    "df['lactate_max_imputed'] = df['lactate_max']\n",
    "df['lactate_max_imputed'].fillna(value=0, inplace=True)\n",
    "formula = target_header + \" ~ lactate_missing + lactate_max_imputed\"\n",
    "formula += \" + \" + pred_header\n",
    "print('{}'.format(formula))\n",
    "model = logit(formula=formula,data=df).fit(disp=0)\n",
    "auc, ci = ru.calc_auc(model.predict(), df[target_header].values, with_ci=True, alpha=0.05)\n",
    "\n",
    "print('AUROC={:0.3f} [{:0.3f} - {:0.3f}]'.format(auc,ci[0],ci[1]))\n",
    "print(model.summary2())\n",
    "\n",
    "# test model performance with age and comorbid burden\n",
    "formula  = target_header + \" ~ age + elixhauser_hospital\"\n",
    "formula += \" + \" + pred_header\n",
    "print('{}'.format(formula))\n",
    "model = logit(formula=formula,data=df).fit(disp=0)\n",
    "auc, ci = ru.calc_auc(model.predict(), df[target_header].values, with_ci=True, alpha=0.05)\n",
    "\n",
    "print('AUROC={:0.3f} [{:0.3f} - {:0.3f}]'.format(auc,ci[0],ci[1]))\n",
    "print(model.summary2())\n",
    "\n",
    "\n",
    "# test model performance with all above covariates\n",
    "df['lactate_max_imputed'] = df['lactate_max']\n",
    "df['lactate_max_imputed'].fillna(value=0, inplace=True)\n",
    "formula = target_header + \" ~ age + elixhauser_hospital + lactate_missing + lactate_max_imputed\"\n",
    "formula += \" + \" + pred_header\n",
    "print('{}'.format(formula))\n",
    "model = logit(formula=formula,data=df).fit(disp=0)\n",
    "auc, ci = ru.calc_auc(model.predict(), df[target_header].values, with_ci=True, alpha=0.05)\n",
    "\n",
    "print('AUROC={:0.3f} [{:0.3f} - {:0.3f}]'.format(auc,ci[0],ci[1]))\n",
    "print(model.summary2())"
   ]
  },
  {
   "cell_type": "markdown",
   "metadata": {},
   "source": [
    "# Composite outcome - prediction performance"
   ]
  },
  {
   "cell_type": "code",
   "execution_count": null,
   "metadata": {
    "collapsed": true
   },
   "outputs": [],
   "source": [
    "# define outcome\n",
    "target_header = 'composite_outcome'\n",
    "\n",
    "# define the covariates to be added in the model (used for table of AUROCs)\n",
    "preds_header = ['sirs','qsofa','qsofa_norx', 'sofa']\n",
    "preds = su.calc_predictions(df, preds_header, target_header, model=None)\n",
    "preds_logreg = su.calc_predictions(df, preds_header, target_header, model='logreg')\n",
    "\n",
    "\n",
    "print('AUROC table for unadjusted scores:')\n",
    "su.print_auc_table(preds, df[target_header].values, preds_header)\n",
    "print('\\n')\n",
    "\n",
    "print('AUROC table for adjusted scores (using logistic regression):')\n",
    "su.print_auc_table(preds_logreg, df[target_header].values, preds_header)\n",
    "print('\\n')"
   ]
  },
  {
   "cell_type": "code",
   "execution_count": null,
   "metadata": {
    "collapsed": true
   },
   "outputs": [],
   "source": [
    "from statsmodels.formula.api import logit\n",
    "target_header = 'composite_outcome'\n",
    "pred_header = 'sofa'\n",
    "# test model on its own\n",
    "auc = ru.calc_auc(df[pred_header].values, df[target_header].values, with_ci=False)\n",
    "print('{} - univariable'.format(pred_header))\n",
    "print('AUROC={:0.3f}'.format(auc))\n",
    "\n",
    "\n",
    "\n",
    "\n",
    "# test model performance with addition of lactate\n",
    "df['lactate_max_imputed'] = df['lactate_max']\n",
    "df['lactate_max_imputed'].fillna(value=0, inplace=True)\n",
    "formula = target_header + \" ~ lactate_missing + lactate_max_imputed\"\n",
    "formula += \" + \" + pred_header\n",
    "print('{}'.format(formula))\n",
    "model = logit(formula=formula,data=df).fit(disp=0)\n",
    "auc, ci = ru.calc_auc(model.predict(), df[target_header].values, with_ci=True, alpha=0.05)\n",
    "\n",
    "print('AUROC={:0.3f} [{:0.3f} - {:0.3f}]'.format(auc,ci[0],ci[1]))\n",
    "print(model.summary2())\n",
    "\n",
    "# test model performance with age and comorbid burden\n",
    "formula  = target_header + \" ~ age + elixhauser_hospital\"\n",
    "formula += \" + \" + pred_header\n",
    "print('{}'.format(formula))\n",
    "model = logit(formula=formula,data=df).fit(disp=0)\n",
    "auc, ci = ru.calc_auc(model.predict(), df[target_header].values, with_ci=True, alpha=0.05)\n",
    "\n",
    "print('AUROC={:0.3f} [{:0.3f} - {:0.3f}]'.format(auc,ci[0],ci[1]))\n",
    "print(model.summary2())\n",
    "\n",
    "\n",
    "# test model performance with all above covariates\n",
    "df['lactate_max_imputed'] = df['lactate_max']\n",
    "df['lactate_max_imputed'].fillna(value=0, inplace=True)\n",
    "formula = target_header + \" ~ age + elixhauser_hospital + lactate_missing + lactate_max_imputed\"\n",
    "formula += \" + \" + pred_header\n",
    "print('{}'.format(formula))\n",
    "model = logit(formula=formula,data=df).fit(disp=0)\n",
    "auc, ci = ru.calc_auc(model.predict(), df[target_header].values, with_ci=True, alpha=0.05)\n",
    "\n",
    "print('AUROC={:0.3f} [{:0.3f} - {:0.3f}]'.format(auc,ci[0],ci[1]))\n",
    "print(model.summary2())"
   ]
  },
  {
   "cell_type": "code",
   "execution_count": null,
   "metadata": {
    "collapsed": true
   },
   "outputs": [],
   "source": [
    "print('Odds ratios for final model w/ lactate')\n",
    "for p in model.params.index:\n",
    "    print('{:20s} {:1.2f}'.format(p, np.exp(model.params[p])))"
   ]
  },
  {
   "cell_type": "markdown",
   "metadata": {},
   "source": [
    "## Lactate groups"
   ]
  },
  {
   "cell_type": "code",
   "execution_count": null,
   "metadata": {
    "collapsed": true
   },
   "outputs": [],
   "source": [
    "groups = OrderedDict( [['No lactate', df['lactate_max'].isnull()],\n",
    "         ['0-2', (df['lactate_max']>=0) & (df['lactate_max']<=2)],\n",
    "         ['2-4', (df['lactate_max']> 2) & (df['lactate_max']<=4)],\n",
    "         ['>4', (df['lactate_max']> 4) & (df['lactate_max']<=200)]] )\n",
    "\n",
    "\n",
    "idxA = (df['sofa']>=2).values\n",
    "strAdd = ['SOFA< 2','SOFA>=2']\n",
    "x_sofa, lbl_sofa = su.create_grouped_hist(df, groups, idxA, strAdd=strAdd, targetStr='hospital_expire_flag')\n",
    "\n",
    "\n",
    "idxA = (df['sofa']>=2).values\n",
    "strAdd = ['SOFA< 2','SOFA>=2']\n",
    "x_sofa_composite, lbl_sofa_composite = su.create_grouped_hist(df, groups, idxA, strAdd=strAdd, targetStr='composite_outcome')\n",
    "\n",
    "plt.figure(figsize=[10,6])\n",
    "xi = np.linspace(0,7,8)\n",
    "plt.bar(xi+0.1,x_sofa,facecolor='b', label='SOFA',width=0.4)\n",
    "plt.bar(xi+0.5,x_sofa_composite,facecolor='r',alpha=0.5,label='SOFA composite',width=0.4)\n",
    "plt.xticks(np.linspace(0,7,8)+0.3, [x.replace('SOFA','').replace('No lactate','N/A') for x in lbl_sofa])\n",
    "plt.legend(loc='upper left')\n",
    "plt.ylabel(\"Hospital mortality / composite\")\n",
    "plt.text(7.8,-0.09,'Lactate\\nSOFA')\n",
    "plt.show()"
   ]
  },
  {
   "cell_type": "code",
   "execution_count": null,
   "metadata": {
    "collapsed": true
   },
   "outputs": [],
   "source": [
    "groups = OrderedDict( [['No lactate', df['lactate_max'].isnull()],\n",
    "         ['0-2', (df['lactate_max']>=0) & (df['lactate_max']<=2)],\n",
    "         ['2-4', (df['lactate_max']> 2) & (df['lactate_max']<=4)],\n",
    "         ['>4', (df['lactate_max']> 4) & (df['lactate_max']<=200)]] )\n",
    "\n",
    "\n",
    "idxA = (df['sofa']>=2).values\n",
    "strAdd = ['SOFA< 2','SOFA>=2']\n",
    "x_sofa, lbl_sofa = su.create_grouped_hist(df, groups, idxA, strAdd=strAdd, targetStr='hospital_expire_flag')\n",
    "\n",
    "\n",
    "idxA = (df['sofa']>=2).values\n",
    "strAdd = ['SOFA< 2','SOFA>=2']\n",
    "x_sofa_composite, lbl_sofa_composite = su.create_grouped_hist(df, groups, idxA, strAdd=strAdd, targetStr='composite_outcome')\n",
    "\n",
    "print('{:10s}\\tSOFA< 2\\tSOFA>=2'.format(''),end='')\n",
    "print('\\t\\tSOFA< 2\\tSOFA>=2'.format(''))\n",
    "for i in range(len(lbl_sofa)/2):\n",
    "    i1 = 2*i\n",
    "    i2 = 2*i+1\n",
    "    \n",
    "    print('{:10s}\\t{:2.1f}\\t{:2.1f}'.format( lbl_sofa[i1].split('\\n')[0], 100.0*x_sofa[i1], 100.0*x_sofa[i2] ), end='')\n",
    "    print('\\t\\t{:2.1f}\\t{:2.1f}'.format( 100.0*x_sofa_composite[i1], 100.0*x_sofa_composite[i2] ))"
   ]
  }
 ],
 "metadata": {
  "kernelspec": {
   "display_name": "Python 2",
   "language": "python",
   "name": "python2"
  },
  "language_info": {
   "codemirror_mode": {
    "name": "ipython",
    "version": 2
   },
   "file_extension": ".py",
   "mimetype": "text/x-python",
   "name": "python",
   "nbconvert_exporter": "python",
   "pygments_lexer": "ipython2",
   "version": "2.7.12"
  }
 },
 "nbformat": 4,
 "nbformat_minor": 1
}
