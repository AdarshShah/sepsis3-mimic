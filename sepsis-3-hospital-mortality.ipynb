{
 "cells": [
  {
   "cell_type": "markdown",
   "metadata": {},
   "source": [
    "# Sepsis-3 evaluation in the MIMIC-III database\n",
    "\n",
    "This notebook goes over the evaluation of the new Sepsis-3 guidelines in the MIMIC database. The goals of this analysis include:\n",
    "\n",
    "1. Evaluating the Sepsis-3 guidelines in MIMIC using the same methodology as in the research paper\n",
    "2. Evaluating the Sepsis-3 guidelines against ANGUS criteria\n",
    "3. Assessing if there are interesting subgroup(s) which are missed by the criteria"
   ]
  },
  {
   "cell_type": "code",
   "execution_count": 1,
   "metadata": {
    "collapsed": false
   },
   "outputs": [],
   "source": [
    "# Import libraries\n",
    "import numpy as np\n",
    "import pandas as pd\n",
    "import matplotlib.pyplot as plt\n",
    "import psycopg2\n",
    "import sys\n",
    "import statsmodels.api as sm\n",
    "import statsmodels.formula.api as smf\n",
    "from statsmodels.formula.api import logit\n",
    "\n",
    "from sepsis_utils import sepsis_utils as su\n",
    "from sepsis_utils import roc_utils as ru\n",
    "\n",
    "from sklearn.pipeline import Pipeline\n",
    "\n",
    "# used for train/test splits\n",
    "from sklearn.cross_validation import train_test_split\n",
    "\n",
    "# used to impute mean for data\n",
    "from sklearn.preprocessing import Imputer\n",
    "\n",
    "# normalize the data\n",
    "from sklearn import preprocessing\n",
    "\n",
    "# logistic regression is our model of choice\n",
    "from sklearn.linear_model import LogisticRegression\n",
    "\n",
    "# used to create confusion matrix\n",
    "from sklearn.metrics import confusion_matrix\n",
    "\n",
    "from sklearn.cross_validation import cross_val_score\n",
    "\n",
    "# used to calculate AUROC/accuracy\n",
    "from sklearn import metrics\n",
    "\n",
    "# for calibration curve of severity scores\n",
    "from sklearn.calibration import calibration_curve\n",
    "\n",
    "# default colours for prettier plots\n",
    "col = [[0.9047, 0.1918, 0.1988],\n",
    "    [0.2941, 0.5447, 0.7494],\n",
    "    [0.3718, 0.7176, 0.3612],\n",
    "    [1.0000, 0.5482, 0.1000],\n",
    "    [0.4550, 0.4946, 0.4722],\n",
    "    [0.6859, 0.4035, 0.2412],\n",
    "    [0.9718, 0.5553, 0.7741],\n",
    "    [0.5313, 0.3359, 0.6523]];\n",
    "marker = ['v','o','d','^','s','o','+']\n",
    "ls = ['-','-','-','-','-','s','--','--']\n",
    "%matplotlib inline\n",
    "\n",
    "from __future__ import print_function"
   ]
  },
  {
   "cell_type": "code",
   "execution_count": 2,
   "metadata": {
    "collapsed": false
   },
   "outputs": [],
   "source": [
    "# load data\n",
    "df = pd.read_csv('sepsis3-df.csv',sep=',')\n",
    "df_mdl = pd.read_csv('sepsis3-design-matrix.csv',sep=',')\n",
    "\n",
    "# define outcome\n",
    "target_header = \"hospital_expire_flag\"\n",
    "y = df[target_header].values == 1\n",
    "\n",
    "# define the covariates to be added in the MFP model (used for table of AUROCs)\n",
    "preds_header = ['sirs','qsofa','sofa','mlods']"
   ]
  },
  {
   "cell_type": "markdown",
   "metadata": {},
   "source": [
    "# Hospital mortality evaluation"
   ]
  },
  {
   "cell_type": "code",
   "execution_count": 3,
   "metadata": {
    "collapsed": false
   },
   "outputs": [
    {
     "name": "stdout",
     "output_type": "stream",
     "text": [
      "\n",
      " SEPSIS-3 guidelines for hospital mortality \n",
      "\n",
      "Accuracy = 0.486193061128\n",
      "\n",
      "Confusion matrix\n",
      "      \ty=0   \ty=1   \n",
      "yhat=0\t  3443\t   281\tNPV=92.45\n",
      "yhat=1\t  4073\t   677\tPPV=14.25\n",
      "   \t45.81\t70.67\tAcc=48.62\n",
      "   \tSpec\tSens\n"
     ]
    }
   ],
   "source": [
    "# define targets, angus critera\n",
    "# define \"predictions\" according to the SEPSIS-3 guidelines:\n",
    "#  suspicion of infection, qSOFA >= 2, and SOFA >= 2\n",
    "yhat = df.sepsis3.values\n",
    "\n",
    "print('\\n SEPSIS-3 guidelines for hospital mortality \\n')\n",
    "# generate evaluation metrics\n",
    "print('Accuracy = {}'.format(metrics.accuracy_score(y, yhat)))\n",
    "\n",
    "su.print_cm(y, yhat) # print confusion matrix"
   ]
  },
  {
   "cell_type": "markdown",
   "metadata": {},
   "source": [
    "Predictions using various levels of confounder adjustment are calculated in the subfunctions `calc_predictions`:\n",
    "\n",
    "* `model=None` - the severity scores on their own\n",
    "* `model='baseline'` - the severity scores in a vanilla regression\n",
    "* `model='mfp'` -the severity scores in a fractional polynomial regression (calls an R script)"
   ]
  },
  {
   "cell_type": "code",
   "execution_count": 4,
   "metadata": {
    "collapsed": false
   },
   "outputs": [],
   "source": [
    "preds = su.calc_predictions(df, preds_header, target_header, model=None)\n",
    "preds_baseline = su.calc_predictions(df, preds_header, target_header, model='baseline')\n",
    "preds_mfp = su.calc_predictions(df, preds_header, target_header, model='mfp')"
   ]
  },
  {
   "cell_type": "code",
   "execution_count": 9,
   "metadata": {
    "collapsed": false,
    "scrolled": true
   },
   "outputs": [
    {
     "name": "stdout",
     "output_type": "stream",
     "text": [
      "     \tsirs                \tqsofa               \tsofa                \tmlods               \t\n",
      "sirs \t0.653 [0.638, 0.665]\t                    \t                    \t                    \t\n",
      "qsofa\t< 0.001               \t0.586 [0.569, 0.600]\t                    \t                    \t\n",
      "sofa \t< 0.001               \t< 0.001               \t0.719 [0.705, 0.736]\t                    \t\n",
      "mlods\t< 0.001               \t< 0.001               \t0.131               \t0.729 [0.714, 0.745]\t\n",
      "     \tsirs                \tqsofa               \tsofa                \tmlods               \t\n",
      "sirs \t0.749 [0.737, 0.763]\t                    \t                    \t                    \t\n",
      "qsofa\t< 0.001               \t0.730 [0.717, 0.741]\t                    \t                    \t\n",
      "sofa \t< 0.001               \t< 0.001               \t0.785 [0.771, 0.800]\t                    \t\n",
      "mlods\t< 0.001               \t< 0.001               \t0.169               \t0.790 [0.779, 0.803]\t\n",
      "     \tsirs                \tqsofa               \tsofa                \tmlods               \t\n",
      "sirs \t0.757 [0.743, 0.768]\t                    \t                    \t                    \t\n",
      "qsofa\t< 0.001               \t0.734 [0.720, 0.744]\t                    \t                    \t\n",
      "sofa \t< 0.001               \t< 0.001               \t0.787 [0.775, 0.802]\t                    \t\n",
      "mlods\t< 0.001               \t< 0.001               \t0.201               \t0.793 [0.782, 0.804]\t\n"
     ]
    }
   ],
   "source": [
    "# reproduce the AUC table\n",
    "reload(ru)\n",
    "su.print_auc_table(preds, df[target_header].values, preds_header)\n",
    "su.print_auc_table(preds_baseline, df[target_header].values, preds_header)\n",
    "su.print_auc_table(preds_mfp, df[target_header].values, preds_header) # optional argument fixes order of output\n",
    "\n",
    "su.print_auc_table_to_file(preds, df[target_header].values, preds_header=preds_header,\n",
    "                           filename='auc-table-mort.csv')\n",
    "\n",
    "su.print_auc_table_to_file(preds_mfp, df[target_header].values, preds_header=preds_header,\n",
    "                           filename='auc-table-mort-mfp.csv')"
   ]
  },
  {
   "cell_type": "markdown",
   "metadata": {},
   "source": [
    "## ROC curves"
   ]
  },
  {
   "cell_type": "code",
   "execution_count": 10,
   "metadata": {
    "collapsed": false
   },
   "outputs": [
    {
     "data": {
      "image/png": "[encoded data removed]",
      "text/plain": [
       "<matplotlib.figure.Figure at 0x7fe1d4a19110>"
      ]
     },
     "metadata": {},
     "output_type": "display_data"
    }
   ],
   "source": [
    "#preds_header = ['sirs','qsofa','sofa','mlods']\n",
    "markers = {'qsofa': 'o:', 'sofa': '^-', 'sirs': 's-', 'mlods': 'd-'}\n",
    "colors = {'qsofa': col[0], 'sofa': col[1], 'sirs': col[2], 'mlods': col[3]}\n",
    "pred_pretty_text = {'qsofa': 'qSOFA', 'sofa': 'SOFA', 'sirs': 'SIRS', 'mlods': 'mLODS'}\n",
    "# plot the data\n",
    "plt.figure(figsize=[9,9])\n",
    "\n",
    "# ROC for each score in preds header\n",
    "for pred in preds_header:\n",
    "    fpr, tpr, thr = metrics.roc_curve(y, df[pred].values)\n",
    "    auc = ru.calc_auc(df[pred].values, y)\n",
    "\n",
    "    plt.plot(fpr, tpr, markers[pred],\n",
    "             color=colors[pred], linewidth=2, markersize=10,\n",
    "             label=pred_pretty_text[pred] + ' (AUC = %0.2f)' % auc)\n",
    "    \n",
    "# add in the combination of SIRS/SOFA\n",
    "#plt.plot(fpr_s3, tpr_s3, 'd--',\n",
    "#         color=col[3], linewidth=2, markersize=10,\n",
    "#         label='SEPSIS-3 (AUC = %0.2f)' % auc_s3)\n",
    "\n",
    "plt.legend(loc=\"lower right\")\n",
    "\n",
    "plt.plot([0,1], [0,1], '--',\n",
    "         color=[0,0,0], linewidth=2)\n",
    "# reformat the plot\n",
    "plt.xlim([-0.05, 1.05])\n",
    "plt.ylim([-0.05, 1.05])\n",
    "plt.xlabel('False Positive Rate',fontsize=14)\n",
    "plt.ylabel('True Positive Rate',fontsize=14)\n",
    "plt.title('ROC against ' + target_header,fontsize=14)\n",
    "plt.show()"
   ]
  },
  {
   "cell_type": "markdown",
   "metadata": {},
   "source": [
    "## Operating point statistics"
   ]
  },
  {
   "cell_type": "code",
   "execution_count": 13,
   "metadata": {
    "collapsed": false
   },
   "outputs": [
    {
     "name": "stdout",
     "output_type": "stream",
     "text": [
      "Metric\n",
      "\n",
      "\n",
      "\tSIRS \tqsofa\tsofa \tseps3\tmLODS\n",
      "TN   \t 2092\t 3136\t 1084\t 3443\t 2603\n",
      "FP   \t 5424\t 4380\t 6432\t 4073\t 4913\n",
      "FN   \t  104\t  261\t   51\t  281\t  125\n",
      "TP   \t  854\t  697\t  907\t  677\t  833\n",
      "Sens \t89.14\t72.76\t94.68\t70.67\t86.95\n",
      "Spec \t27.83\t41.72\t14.42\t45.81\t34.63\n",
      "PPV  \t13.60\t13.73\t12.36\t14.25\t14.50\n",
      "NPV  \t95.26\t92.32\t95.51\t92.45\t95.42\n",
      "F1   \t23.60\t23.10\t21.86\t23.72\t24.85\n",
      "DOR  \t 3.17\t 1.91\t 3.00\t 2.04\t 3.53\n"
     ]
    }
   ],
   "source": [
    "# define \"predictions\" according to the SEPSIS-3 guidelines:\n",
    "#  suspicion of infection, qSOFA >= 2, and SOFA >= 2\n",
    "yhat_all = [df.sirs.values >= 2,\n",
    "            df.qsofa.values >= 2,\n",
    "            df.sofa.values >= 2,\n",
    "            df.sepsis3.values,\n",
    "            df.mlods.values >= 2]\n",
    "yhat_names = ['SIRS', 'qsofa', 'sofa', 'seps3', 'mLODS']\n",
    "\n",
    "# define \"targets\", angus critera\n",
    "y_all = [y for x in yhat_names]\n",
    "\n",
    "stats_all = su.print_op_stats(yhat_all, y_all,\n",
    "               yhat_names=yhat_names,\n",
    "               header=target_header)"
   ]
  },
  {
   "cell_type": "markdown",
   "metadata": {},
   "source": [
    "# Appendix\n",
    "\n",
    "## Comparing binormal and empirical ROC\n"
   ]
  },
  {
   "cell_type": "code",
   "execution_count": null,
   "metadata": {
    "collapsed": false
   },
   "outputs": [],
   "source": [
    "y = df.hospital_expire_flag.values == 1\n",
    "plt.figure(figsize=[9,9])\n",
    "\n",
    "# === NORMAL EMPIRICALLY DERIVED ROC\n",
    "\n",
    "# ROC for qSOFA\n",
    "fpr_qsofa, tpr_qsofa, thresholds_qsofa = metrics.roc_curve(y, df.qsofa.values)\n",
    "auc_qsofa = metrics.auc(fpr_qsofa, tpr_qsofa)\n",
    "\n",
    "# ROC for SOFA\n",
    "fpr_sofa, tpr_sofa, thresholds_sofa = metrics.roc_curve(y, df.sofa.values)\n",
    "auc_sofa = metrics.auc(fpr_sofa, tpr_sofa)\n",
    "\n",
    "\n",
    "# ROC for SEPSIS-3\n",
    "fpr_s3, tpr_s3, thresholds_s3 = metrics.roc_curve(y, (df.qsofa.values >= 2) & (df.sofa.values >= 2))\n",
    "auc_s3 = metrics.auc(fpr_s3, tpr_s3)\n",
    "\n",
    "# ROC for SIRS\n",
    "fpr_sirs, tpr_sirs, thresholds_sirs = metrics.roc_curve(y, df.sirs.values)\n",
    "auc_sirs = metrics.auc(fpr_sirs, tpr_sirs)\n",
    "\n",
    "# plot the data\n",
    "plt.plot(fpr_qsofa, tpr_qsofa, 'o-',\n",
    "         color=col[0], linewidth=2, markersize=10)\n",
    "plt.plot(fpr_sofa, tpr_sofa, '^-',\n",
    "         color=col[1], linewidth=2, markersize=10)\n",
    "plt.plot(fpr_sirs, tpr_sirs, 's-',\n",
    "         color=col[2], linewidth=2, markersize=10)\n",
    "\n",
    "\n",
    "# === BINORMAL ESTIMATED ROC\n",
    "\n",
    "# ROC for qSOFA\n",
    "fpr_qsofa, tpr_qsofa, thresholds_qsofa = ru.binormal_roc(df.qsofa.values[y], df.qsofa.values[~y])\n",
    "auc_qsofa2 = ru.binormal_auroc(df.qsofa.values[y], df.qsofa.values[~y])\n",
    "\n",
    "# ROC for SOFA\n",
    "fpr_sofa, tpr_sofa, thresholds_sofa = ru.binormal_roc(df.sofa.values[y], df.sofa.values[~y])\n",
    "auc_sofa2 = ru.binormal_auroc(df.sofa.values[y], df.sofa.values[~y])\n",
    "\n",
    "# ROC for SIRS\n",
    "fpr_sirs, tpr_sirs, thresholds_sirs = ru.binormal_roc(df.sirs.values[y], df.sirs.values[~y])\n",
    "auc_sirs2 = ru.binormal_auroc(df.sirs.values[y], df.sirs.values[~y])\n",
    "\n",
    "# plot the data\n",
    "plt.plot(fpr_qsofa, tpr_qsofa, '--',\n",
    "         color=col[0], linewidth=2, markersize=10,\n",
    "         label='qSOFA (AUC = {:0.3f} vs {:0.3f} for binorm)'.format(auc_qsofa, auc_qsofa2))\n",
    "plt.plot(fpr_sofa, tpr_sofa, '--',\n",
    "         color=col[1], linewidth=2, markersize=10,\n",
    "         label='SOFA (AUC = {:0.3f} vs {:0.3f} for binorm)'.format(auc_sofa, auc_sofa2))\n",
    "plt.plot(fpr_sirs, tpr_sirs, '--',\n",
    "         color=col[2], linewidth=2, markersize=10,\n",
    "         label='SIRS (AUC = {:0.3f} vs {:0.3f} for binorm)'.format(auc_sirs, auc_sirs2))\n",
    "\n",
    "plt.legend(loc=\"lower right\")\n",
    "\n",
    "plt.plot([0,1], [0,1], '--',\n",
    "         color=[0,0,0], linewidth=2)\n",
    "# reformat the plot\n",
    "plt.xlim([-0.05, 1.05])\n",
    "plt.ylim([-0.05, 1.05])\n",
    "plt.xlabel('False Positive Rate',fontsize=14)\n",
    "plt.ylabel('True Positive Rate',fontsize=14)\n",
    "plt.title('Binormal ROC against hospital mortality',fontsize=14)\n",
    "plt.show()"
   ]
  },
  {
   "cell_type": "markdown",
   "metadata": {},
   "source": [
    "## Histograms comparing qSOFA in septic/non-septic population"
   ]
  },
  {
   "cell_type": "code",
   "execution_count": null,
   "metadata": {
    "collapsed": false
   },
   "outputs": [],
   "source": [
    "# histogram of the qSOFA values in septic/non-septic population\n",
    "y = df.hospital_expire_flag.values == 1\n",
    "\n",
    "qsofa_alive = df.qsofa.values[~y]\n",
    "qsofa_dead = df.qsofa.values[y]\n",
    "\n",
    "xi = [-0.5,0.5,1.5,2.5,3.5]\n",
    "\n",
    "# plot the data\n",
    "plt.figure(figsize=[9,9])\n",
    "plt.hist(qsofa_alive, bins=xi, normed=True, color=col[0], alpha=0.5,\n",
    "         label='qSOFA - ' + target_header + '=0')\n",
    "plt.hist(qsofa_dead, bins=xi, normed=True, color=col[1], alpha=0.5,\n",
    "         label='qSOFA - ' + target_header + '=1')\n",
    "\n",
    "plt.legend(loc=\"upper right\")\n",
    "\n",
    "# reformat the plot\n",
    "plt.xlim([-0.5,4.5])\n",
    "#plt.ylim([-0.05, 1.05])\n",
    "plt.xlabel('qSOFA',fontsize=14)\n",
    "plt.ylabel('Count',fontsize=14)\n",
    "plt.show()"
   ]
  },
  {
   "cell_type": "code",
   "execution_count": null,
   "metadata": {
    "collapsed": false
   },
   "outputs": [],
   "source": [
    "# histogram of the qSOFA values in septic/non-septic population\n",
    "y = df.hospital_expire_flag.values == 1\n",
    "\n",
    "qsofa_alive = df.qsofa.values[~y]\n",
    "qsofa_dead = df.qsofa.values[y]\n",
    "\n",
    "xi = [-0.5,0.5,1.5,2.5,3.5]\n",
    "\n",
    "prevalence = np.mean(y)\n",
    "\n",
    "# plot the data\n",
    "plt.figure(figsize=[9,9])\n",
    "n0, bins0, patches0 = plt.hist(qsofa_alive, bins=xi, normed=False, color=col[0], alpha=0.5,\n",
    "         label='qSOFA - survived')\n",
    "n1, bins1, patches1 = plt.hist(qsofa_dead, bins=xi, normed=False, color=col[1], alpha=0.5,\n",
    "         label='qSOFA - died')\n",
    "\n",
    "plt.legend(loc=\"upper right\")\n",
    "\n",
    "# reformat the plot\n",
    "plt.xlim([-0.5,4.5])\n",
    "#plt.ylim([-0.05, 1.05])\n",
    "plt.xlabel('qSOFA',fontsize=14)\n",
    "plt.ylabel('Count',fontsize=14)\n",
    "#plt.title('ROC against hospital mortality',fontsize=14)\n",
    "plt.show()"
   ]
  },
  {
   "cell_type": "code",
   "execution_count": null,
   "metadata": {
    "collapsed": false
   },
   "outputs": [],
   "source": [
    "plt.figure(figsize=[9,9])\n",
    "\n",
    "N = len(y)\n",
    "plt.bar(bins0[0:-1], 100.0*n0/N, width=1, color=col[0], alpha=0.5,\n",
    "         label='qSOFA - survived')\n",
    "plt.bar(bins1[0:-1], 100.0*n1/N, width=1, color=col[1], alpha=0.5,\n",
    "         label='qSOFA - died')\n",
    "plt.legend()\n",
    "plt.ylabel('Percent of patients')\n",
    "plt.show()"
   ]
  }
 ],
 "metadata": {
  "kernelspec": {
   "display_name": "Python 2",
   "language": "python",
   "name": "python2"
  },
  "language_info": {
   "codemirror_mode": {
    "name": "ipython",
    "version": 2
   },
   "file_extension": ".py",
   "mimetype": "text/x-python",
   "name": "python",
   "nbconvert_exporter": "python",
   "pygments_lexer": "ipython2",
   "version": "2.7.9"
  }
 },
 "nbformat": 4,
 "nbformat_minor": 0
}
