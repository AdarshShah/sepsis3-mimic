{
 "cells": [
  {
   "cell_type": "markdown",
   "metadata": {},
   "source": [
    "# Sepsis-3 evaluation in the MIMIC-III database\n",
    "\n",
    "This notebook goes over the evaluation of the new Sepsis-3 guidelines in the MIMIC database. The goals of this analysis include:\n",
    "\n",
    "1. Evaluating the Sepsis-3 guidelines in MIMIC using the same methodology as in the research paper\n",
    "2. Evaluating the Sepsis-3 guidelines against ANGUS criteria\n",
    "3. Assessing if there are interesting subgroup(s) which are missed by the criteria"
   ]
  },
  {
   "cell_type": "code",
   "execution_count": 1,
   "metadata": {
    "collapsed": false
   },
   "outputs": [],
   "source": [
    "# Import libraries\n",
    "import numpy as np\n",
    "import pandas as pd\n",
    "import matplotlib.pyplot as plt\n",
    "import psycopg2\n",
    "import sys\n",
    "import statsmodels.api as sm\n",
    "import statsmodels.formula.api as smf\n",
    "from statsmodels.formula.api import logit\n",
    "\n",
    "from sepsis_utils import sepsis_utils as su\n",
    "from sepsis_utils import roc_utils as ru\n",
    "\n",
    "from sklearn.pipeline import Pipeline\n",
    "\n",
    "# used for train/test splits\n",
    "from sklearn.cross_validation import train_test_split\n",
    "\n",
    "# used to impute mean for data\n",
    "from sklearn.preprocessing import Imputer\n",
    "\n",
    "# normalize the data\n",
    "from sklearn import preprocessing\n",
    "\n",
    "# logistic regression is our model of choice\n",
    "from sklearn.linear_model import LogisticRegression\n",
    "\n",
    "# used to create confusion matrix\n",
    "from sklearn.metrics import confusion_matrix\n",
    "\n",
    "from sklearn.cross_validation import cross_val_score\n",
    "\n",
    "# used to calculate AUROC/accuracy\n",
    "from sklearn import metrics\n",
    "\n",
    "# for calibration curve of severity scores\n",
    "from sklearn.calibration import calibration_curve\n",
    "\n",
    "# default colours for prettier plots\n",
    "col = [[0.9047, 0.1918, 0.1988],\n",
    "    [0.2941, 0.5447, 0.7494],\n",
    "    [0.3718, 0.7176, 0.3612],\n",
    "    [1.0000, 0.5482, 0.1000],\n",
    "    [0.4550, 0.4946, 0.4722],\n",
    "    [0.6859, 0.4035, 0.2412],\n",
    "    [0.9718, 0.5553, 0.7741],\n",
    "    [0.5313, 0.3359, 0.6523]];\n",
    "marker = ['v','o','d','^','s','o','+']\n",
    "ls = ['-','-','-','-','-','s','--','--']\n",
    "%matplotlib inline\n",
    "\n",
    "from __future__ import print_function"
   ]
  },
  {
   "cell_type": "code",
   "execution_count": null,
   "metadata": {
    "collapsed": true
   },
   "outputs": [],
   "source": [
    "# load data\n",
    "df = pd.read_csv('sepsis3-df.csv',sep=',')\n",
    "df_mdl = pd.read_csv('sepsis3-design-matrix.csv',sep=',')\n",
    "\n",
    "# define outcome\n",
    "target_header = \"hospital_expire_flag\"\n",
    "y = df[target_header].values == 1\n",
    "\n",
    "# define the covariates to be added in the MFP model (used for table of AUROCs)\n",
    "preds_header = ['sirs','sofa','lods','qsofa']"
   ]
  },
  {
   "cell_type": "markdown",
   "metadata": {},
   "source": [
    "# Hospital mortality evaluation"
   ]
  },
  {
   "cell_type": "code",
   "execution_count": null,
   "metadata": {
    "collapsed": false
   },
   "outputs": [],
   "source": [
    "# define targets, angus critera\n",
    "# define \"predictions\" according to the SEPSIS-3 guidelines:\n",
    "#  suspicion of infection, qSOFA >= 2, and SOFA >= 2\n",
    "yhat = (df.qsofa.values >= 2) & (df.sofa.values>=2)\n",
    "\n",
    "print('\\n SEPSIS-3 guidelines for hospital mortality \\n')\n",
    "# generate evaluation metrics\n",
    "print('Accuracy = {}'.format(metrics.accuracy_score(y, yhat)))\n",
    "\n",
    "su.print_cm(y, yhat) # print confusion matrix"
   ]
  },
  {
   "cell_type": "markdown",
   "metadata": {},
   "source": [
    "We need to call an R script to run the fractional polynomial model on the data. All this is done in subfunctions, which evaluate:\n",
    "\n",
    "* `print_auc_table` - the severity scores on their own\n",
    "* `print_auc_table_baseline` - the severity scores in a vanilla regression\n",
    "* `print_auc_table_given_preds` - the AUROC of the given predictions (which are generated using an MFP)"
   ]
  },
  {
   "cell_type": "code",
   "execution_count": null,
   "metadata": {
    "collapsed": false
   },
   "outputs": [],
   "source": [
    "# call a subprocess to run the R script\n",
    "import subprocess\n",
    "fn_in = \"sepsis3-design-matrix.csv\"\n",
    "fn_out = \"sepsis3-preds.csv\"\n",
    "rcmd = [\"Rscript r-make-sepsis3-models.R\", fn_in, fn_out, target_header]\n",
    "err = subprocess.call(' '.join(rcmd), shell=True)\n",
    "if err!=0:\n",
    "    print('RScript returned error status {}.'.format(err))\n",
    "else:\n",
    "    # load in the predictions\n",
    "    pred_baseline = pd.read_csv(fn_out, sep=',', header=0)\n",
    "    \n",
    "# loop through each severity score, build an MFP model for each\n",
    "\n",
    "fn_in = \"sepsis3-design-matrix.csv\"\n",
    "fn_out = \"sepsis3-preds.csv\"\n",
    "preds_mfp = dict()\n",
    "for p in preds_header:\n",
    "    rcmd = [\"Rscript r-make-sepsis3-models.R\", fn_in, fn_out, target_header, p]\n",
    "    err = subprocess.call(' '.join(rcmd), shell=True)\n",
    "    if err!=0:\n",
    "        print('RScript returned error status {}.'.format(err))\n",
    "    else:\n",
    "        # load in the predictions\n",
    "        pred = pd.read_csv(fn_out, sep=',', header=0)\n",
    "        preds_mfp[p] = pred.values[:,0]"
   ]
  },
  {
   "cell_type": "code",
   "execution_count": null,
   "metadata": {
    "collapsed": false
   },
   "outputs": [],
   "source": [
    "# reproduce the confusion matrix plot\n",
    "su.print_auc_table(df_mdl, preds_header, target_header)\n",
    "su.print_auc_table_baseline(df_mdl, preds_header, target_header)\n",
    "su.print_auc_table_given_preds(preds_mfp, y, preds_header=preds_header) # optional argument fixes order of output"
   ]
  },
  {
   "cell_type": "markdown",
   "metadata": {},
   "source": [
    "## ROC curves"
   ]
  },
  {
   "cell_type": "code",
   "execution_count": null,
   "metadata": {
    "collapsed": false
   },
   "outputs": [],
   "source": [
    "# ROC for qSOFA\n",
    "fpr_qsofa, tpr_qsofa, thresholds_qsofa = metrics.roc_curve(y, df.qsofa.values)\n",
    "auc_qsofa = metrics.auc(fpr_qsofa, tpr_qsofa)\n",
    "\n",
    "# ROC for SOFA\n",
    "fpr_sofa, tpr_sofa, thresholds_sofa = metrics.roc_curve(y, df.sofa.values)\n",
    "auc_sofa = metrics.auc(fpr_sofa, tpr_sofa)\n",
    "\n",
    "\n",
    "# ROC for SEPSIS-3\n",
    "fpr_s3, tpr_s3, thresholds_s3 = metrics.roc_curve(y, (df.qsofa.values >= 2) & (df.sofa.values >= 2))\n",
    "auc_s3 = metrics.auc(fpr_s3, tpr_s3)\n",
    "\n",
    "# ROC for SIRS\n",
    "fpr_sirs, tpr_sirs, thresholds_sirs = metrics.roc_curve(y, df.sirs.values)\n",
    "auc_sirs = metrics.auc(fpr_sirs, tpr_sirs)\n",
    "\n",
    "# plot the data\n",
    "plt.figure(figsize=[9,9])\n",
    "plt.plot(fpr_qsofa, tpr_qsofa, 'o:',\n",
    "         color=col[0], linewidth=2, markersize=10,\n",
    "         label='qSOFA (AUC = %0.2f)' % auc_qsofa)\n",
    "plt.plot(fpr_sofa, tpr_sofa, '^-',\n",
    "         color=col[1], linewidth=2, markersize=10,\n",
    "         label='SOFA (AUC = %0.2f)' % auc_sofa)\n",
    "plt.plot(fpr_sirs, tpr_sirs, 's-',\n",
    "         color=col[2], linewidth=2, markersize=10,\n",
    "         label='SIRS (AUC = %0.2f)' % auc_sirs)\n",
    "\n",
    "# add in the combination of SIRS/SOFA\n",
    "#plt.plot(fpr_s3, tpr_s3, 'd--',\n",
    "#         color=col[3], linewidth=2, markersize=10,\n",
    "#         label='SEPSIS-3 (AUC = %0.2f)' % auc_s3)\n",
    "\n",
    "plt.legend(loc=\"lower right\")\n",
    "\n",
    "plt.plot([0,1], [0,1], '--',\n",
    "         color=[0,0,0], linewidth=2)\n",
    "# reformat the plot\n",
    "plt.xlim([-0.05, 1.05])\n",
    "plt.ylim([-0.05, 1.05])\n",
    "plt.xlabel('False Positive Rate',fontsize=14)\n",
    "plt.ylabel('True Positive Rate',fontsize=14)\n",
    "plt.title('ROC against ' + target_header,fontsize=14)\n",
    "plt.show()"
   ]
  },
  {
   "cell_type": "markdown",
   "metadata": {},
   "source": [
    "## Operating point statistics"
   ]
  },
  {
   "cell_type": "code",
   "execution_count": null,
   "metadata": {
    "collapsed": false
   },
   "outputs": [],
   "source": [
    "# define \"predictions\" according to the SEPSIS-3 guidelines:\n",
    "#  suspicion of infection, qSOFA >= 2, and SOFA >= 2\n",
    "yhat_all = [df.qsofa.values >= 2,\n",
    "            df.sofa.values >= 2,\n",
    "            df.sepsis3.values,\n",
    "            df.sirs.values >= 2,\n",
    "            df.lods.values >= 2]\n",
    "yhat_names = ['qsofa','sofa','seps3','SIRS', 'LODS']\n",
    "\n",
    "# define \"targets\", angus critera\n",
    "y_all = [y, y, y, y, y]\n",
    "\n",
    "stats_all = su.print_op_stats(yhat_all, y_all,\n",
    "               yhat_names=yhat_names,\n",
    "               header=target_header)"
   ]
  },
  {
   "cell_type": "markdown",
   "metadata": {},
   "source": [
    "# Appendix\n",
    "\n",
    "## Comparing binormal and empirical ROC\n"
   ]
  },
  {
   "cell_type": "code",
   "execution_count": null,
   "metadata": {
    "collapsed": false
   },
   "outputs": [],
   "source": [
    "y = df.hospital_expire_flag.values == 1\n",
    "plt.figure(figsize=[9,9])\n",
    "\n",
    "# === NORMAL EMPIRICALLY DERIVED ROC\n",
    "\n",
    "# ROC for qSOFA\n",
    "fpr_qsofa, tpr_qsofa, thresholds_qsofa = metrics.roc_curve(y, df.qsofa.values)\n",
    "auc_qsofa = metrics.auc(fpr_qsofa, tpr_qsofa)\n",
    "\n",
    "# ROC for SOFA\n",
    "fpr_sofa, tpr_sofa, thresholds_sofa = metrics.roc_curve(y, df.sofa.values)\n",
    "auc_sofa = metrics.auc(fpr_sofa, tpr_sofa)\n",
    "\n",
    "\n",
    "# ROC for SEPSIS-3\n",
    "fpr_s3, tpr_s3, thresholds_s3 = metrics.roc_curve(y, (df.qsofa.values >= 2) & (df.sofa.values >= 2))\n",
    "auc_s3 = metrics.auc(fpr_s3, tpr_s3)\n",
    "\n",
    "# ROC for SIRS\n",
    "fpr_sirs, tpr_sirs, thresholds_sirs = metrics.roc_curve(y, df.sirs.values)\n",
    "auc_sirs = metrics.auc(fpr_sirs, tpr_sirs)\n",
    "\n",
    "# plot the data\n",
    "plt.plot(fpr_qsofa, tpr_qsofa, 'o-',\n",
    "         color=col[0], linewidth=2, markersize=10)\n",
    "plt.plot(fpr_sofa, tpr_sofa, '^-',\n",
    "         color=col[1], linewidth=2, markersize=10)\n",
    "plt.plot(fpr_sirs, tpr_sirs, 's-',\n",
    "         color=col[2], linewidth=2, markersize=10)\n",
    "\n",
    "\n",
    "# === BINORMAL ESTIMATED ROC\n",
    "\n",
    "# ROC for qSOFA\n",
    "fpr_qsofa, tpr_qsofa, thresholds_qsofa = ru.binormal_roc(df.qsofa.values[y], df.qsofa.values[~y])\n",
    "auc_qsofa2 = ru.binormal_auroc(df.qsofa.values[y], df.qsofa.values[~y])\n",
    "\n",
    "# ROC for SOFA\n",
    "fpr_sofa, tpr_sofa, thresholds_sofa = ru.binormal_roc(df.sofa.values[y], df.sofa.values[~y])\n",
    "auc_sofa2 = ru.binormal_auroc(df.sofa.values[y], df.sofa.values[~y])\n",
    "\n",
    "# ROC for SIRS\n",
    "fpr_sirs, tpr_sirs, thresholds_sirs = ru.binormal_roc(df.sirs.values[y], df.sirs.values[~y])\n",
    "auc_sirs2 = ru.binormal_auroc(df.sirs.values[y], df.sirs.values[~y])\n",
    "\n",
    "# plot the data\n",
    "plt.plot(fpr_qsofa, tpr_qsofa, '--',\n",
    "         color=col[0], linewidth=2, markersize=10,\n",
    "         label='qSOFA (AUC = {:0.3f} vs {:0.3f} for binorm)'.format(auc_qsofa, auc_qsofa2))\n",
    "plt.plot(fpr_sofa, tpr_sofa, '--',\n",
    "         color=col[1], linewidth=2, markersize=10,\n",
    "         label='SOFA (AUC = {:0.3f} vs {:0.3f} for binorm)'.format(auc_sofa, auc_sofa2))\n",
    "plt.plot(fpr_sirs, tpr_sirs, '--',\n",
    "         color=col[2], linewidth=2, markersize=10,\n",
    "         label='SIRS (AUC = {:0.3f} vs {:0.3f} for binorm)'.format(auc_sirs, auc_sirs2))\n",
    "\n",
    "plt.legend(loc=\"lower right\")\n",
    "\n",
    "plt.plot([0,1], [0,1], '--',\n",
    "         color=[0,0,0], linewidth=2)\n",
    "# reformat the plot\n",
    "plt.xlim([-0.05, 1.05])\n",
    "plt.ylim([-0.05, 1.05])\n",
    "plt.xlabel('False Positive Rate',fontsize=14)\n",
    "plt.ylabel('True Positive Rate',fontsize=14)\n",
    "plt.title('Binormal ROC against hospital mortality',fontsize=14)\n",
    "plt.show()"
   ]
  },
  {
   "cell_type": "markdown",
   "metadata": {},
   "source": [
    "## Histograms comparing qSOFA in septic/non-septic population"
   ]
  },
  {
   "cell_type": "code",
   "execution_count": null,
   "metadata": {
    "collapsed": false
   },
   "outputs": [],
   "source": [
    "# histogram of the qSOFA values in septic/non-septic population\n",
    "y = df.hospital_expire_flag.values == 1\n",
    "\n",
    "qsofa_alive = df.qsofa.values[~y]\n",
    "qsofa_dead = df.qsofa.values[y]\n",
    "\n",
    "xi = [-0.5,0.5,1.5,2.5,3.5]\n",
    "\n",
    "# plot the data\n",
    "plt.figure(figsize=[9,9])\n",
    "plt.hist(qsofa_alive, bins=xi, normed=True, color=col[0], alpha=0.5,\n",
    "         label='qSOFA - ' + target_header + '=0')\n",
    "plt.hist(qsofa_dead, bins=xi, normed=True, color=col[1], alpha=0.5,\n",
    "         label='qSOFA - ' + target_header + '=1')\n",
    "\n",
    "plt.legend(loc=\"upper right\")\n",
    "\n",
    "# reformat the plot\n",
    "plt.xlim([-0.5,4.5])\n",
    "#plt.ylim([-0.05, 1.05])\n",
    "plt.xlabel('qSOFA',fontsize=14)\n",
    "plt.ylabel('Count',fontsize=14)\n",
    "plt.show()"
   ]
  },
  {
   "cell_type": "code",
   "execution_count": null,
   "metadata": {
    "collapsed": false
   },
   "outputs": [],
   "source": [
    "# histogram of the qSOFA values in septic/non-septic population\n",
    "y = df.hospital_expire_flag.values == 1\n",
    "\n",
    "qsofa_alive = df.qsofa.values[~y]\n",
    "qsofa_dead = df.qsofa.values[y]\n",
    "\n",
    "xi = [-0.5,0.5,1.5,2.5,3.5]\n",
    "\n",
    "prevalence = np.mean(y)\n",
    "\n",
    "# plot the data\n",
    "plt.figure(figsize=[9,9])\n",
    "n0, bins0, patches0 = plt.hist(qsofa_alive, bins=xi, normed=False, color=col[0], alpha=0.5,\n",
    "         label='qSOFA - survived')\n",
    "n1, bins1, patches1 = plt.hist(qsofa_dead, bins=xi, normed=False, color=col[1], alpha=0.5,\n",
    "         label='qSOFA - died')\n",
    "\n",
    "plt.legend(loc=\"upper right\")\n",
    "\n",
    "# reformat the plot\n",
    "plt.xlim([-0.5,4.5])\n",
    "#plt.ylim([-0.05, 1.05])\n",
    "plt.xlabel('qSOFA',fontsize=14)\n",
    "plt.ylabel('Count',fontsize=14)\n",
    "#plt.title('ROC against hospital mortality',fontsize=14)\n",
    "plt.show()"
   ]
  },
  {
   "cell_type": "code",
   "execution_count": null,
   "metadata": {
    "collapsed": false
   },
   "outputs": [],
   "source": [
    "plt.figure(figsize=[9,9])\n",
    "\n",
    "N = len(y)\n",
    "plt.bar(bins0[0:-1], 100.0*n0/N, width=1, color=col[0], alpha=0.5,\n",
    "         label='qSOFA - survived')\n",
    "plt.bar(bins1[0:-1], 100.0*n1/N, width=1, color=col[1], alpha=0.5,\n",
    "         label='qSOFA - died')\n",
    "plt.legend()\n",
    "plt.ylabel('Percent of patients')\n",
    "plt.show()"
   ]
  }
 ],
 "metadata": {
  "kernelspec": {
   "display_name": "Python 2",
   "language": "python",
   "name": "python2"
  },
  "language_info": {
   "codemirror_mode": {
    "name": "ipython",
    "version": 2
   },
   "file_extension": ".py",
   "mimetype": "text/x-python",
   "name": "python",
   "nbconvert_exporter": "python",
   "pygments_lexer": "ipython2",
   "version": "2.7.9"
  }
 },
 "nbformat": 4,
 "nbformat_minor": 0
}
