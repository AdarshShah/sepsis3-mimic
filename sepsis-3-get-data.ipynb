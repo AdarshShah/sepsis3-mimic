{
 "cells": [
  {
   "cell_type": "code",
   "execution_count": null,
   "metadata": {
    "collapsed": true
   },
   "outputs": [],
   "source": [
    "# Import libraries\n",
    "import numpy as np\n",
    "import pandas as pd\n",
    "import matplotlib.pyplot as plt\n",
    "import psycopg2\n",
    "import sys\n",
    "import statsmodels.api as sm\n",
    "import statsmodels.formula.api as smf\n",
    "from statsmodels.formula.api import logit\n",
    "\n",
    "from sepsis_utils import sepsis_utils as su\n",
    "from sepsis_utils import roc_utils as ru\n",
    "\n",
    "from sklearn.pipeline import Pipeline\n",
    "\n",
    "# used for train/test splits\n",
    "from sklearn.cross_validation import train_test_split\n",
    "\n",
    "# used to impute mean for data\n",
    "from sklearn.preprocessing import Imputer\n",
    "\n",
    "# normalize the data\n",
    "from sklearn import preprocessing\n",
    "\n",
    "# logistic regression is our model of choice\n",
    "from sklearn.linear_model import LogisticRegression\n",
    "\n",
    "# used to create confusion matrix\n",
    "from sklearn.metrics import confusion_matrix\n",
    "\n",
    "from sklearn.cross_validation import cross_val_score\n",
    "\n",
    "# used to calculate AUROC/accuracy\n",
    "from sklearn import metrics\n",
    "\n",
    "# for calibration curve of severity scores\n",
    "from sklearn.calibration import calibration_curve\n",
    "\n",
    "# default colours for prettier plots\n",
    "col = [[0.9047, 0.1918, 0.1988],\n",
    "    [0.2941, 0.5447, 0.7494],\n",
    "    [0.3718, 0.7176, 0.3612],\n",
    "    [1.0000, 0.5482, 0.1000],\n",
    "    [0.4550, 0.4946, 0.4722],\n",
    "    [0.6859, 0.4035, 0.2412],\n",
    "    [0.9718, 0.5553, 0.7741],\n",
    "    [0.5313, 0.3359, 0.6523]];\n",
    "marker = ['v','o','d','^','s','o','+']\n",
    "ls = ['-','-','-','-','-','s','--','--']\n",
    "%matplotlib inline\n",
    "\n",
    "from __future__ import print_function"
   ]
  },
  {
   "cell_type": "code",
   "execution_count": null,
   "metadata": {
    "collapsed": true
   },
   "outputs": [],
   "source": [
    "# create a database connection\n",
    "\n",
    "# below config used on pc70\n",
    "sqluser = 'alistairewj'\n",
    "dbname = 'mimic'\n",
    "schema_name = 'mimiciii'\n",
    "\n",
    "# Connect to local postgres version of mimic\n",
    "con = psycopg2.connect(dbname=dbname, user=sqluser)"
   ]
  },
  {
   "cell_type": "markdown",
   "metadata": {},
   "source": [
    "Each function extracts the data from a materialized view. See the *mimic-code* repository for instructions on how to create the materialized views."
   ]
  },
  {
   "cell_type": "code",
   "execution_count": null,
   "metadata": {
    "collapsed": true
   },
   "outputs": [],
   "source": [
    "# call functions to extract the severity scores\n",
    "qsofa = su.get_qsofa(con)\n",
    "sofa = su.get_sofa(con)\n",
    "oasis = su.get_oasis(con)\n",
    "lods = su.get_lods(con)\n",
    "sirs = su.get_sirs(con)\n",
    "angus = su.get_angus(con)"
   ]
  },
  {
   "cell_type": "markdown",
   "metadata": {},
   "source": [
    "# Time of suspected infection\n",
    "\n",
    "Suspected infection is defined as:\n",
    "\n",
    "* Antibiotics within 72 hours of a culture\n",
    "* A culture within 24 hours of antibiotics\n",
    "\n",
    "We can extract antibiotic usage from the, PRESCRIPTIONS, INPUTEVENTS_MV and INPUTEVENTS_CV tables. We can extract time of blood cultures from the MICROBIOLOGYEVENTS table. Detail is given in defining-suspected-infection.ipynb."
   ]
  },
  {
   "cell_type": "code",
   "execution_count": null,
   "metadata": {
    "collapsed": true
   },
   "outputs": [],
   "source": [
    "ab = su.get_suspected_infection_time(con)"
   ]
  },
  {
   "cell_type": "markdown",
   "metadata": {},
   "source": [
    "# Other data\n",
    "\n",
    "This query extracts other data of interest:\n",
    "\n",
    "* Age\n",
    "* Gender\n",
    "* Immunosuppression\n",
    "* BMI\n",
    "* Metastatic cancer (Elixhauser comorbidity)\n",
    "* Diabetes (Elixhauser comorbidity)\n"
   ]
  },
  {
   "cell_type": "code",
   "execution_count": null,
   "metadata": {
    "collapsed": false
   },
   "outputs": [],
   "source": [
    "misc = su.get_other_data(con)\n",
    "print('{} ICU stays.'.format(misc.shape[0]))\n",
    "idx = misc.age > 1\n",
    "print('{} adult ICU stays.'.format(np.sum(idx)))\n",
    "demog_col = ['height','weight','bmi']\n",
    "for c in demog_col:\n",
    "    print('\\t{:2.2f}% have {}.'.format( (np.sum(idx) - misc[c][idx].isnull().sum())*100.0 / np.sum(idx), c ))"
   ]
  },
  {
   "cell_type": "markdown",
   "metadata": {},
   "source": [
    "# Cohort\n",
    "\n",
    "The below code creates our cohort of interest. This cohort is used to apply inclusion criteria by means of an inner join. Inclusion criteria are:\n",
    "\n",
    "* Adult patient, i.e. age >= 16\n",
    "* First ICU stay for the patient"
   ]
  },
  {
   "cell_type": "code",
   "execution_count": null,
   "metadata": {
    "collapsed": true
   },
   "outputs": [],
   "source": [
    "cohort = su.get_cohort(con)\n",
    "\n",
    "# close the database connection as we are finished extracting data\n",
    "con.close()"
   ]
  },
  {
   "cell_type": "markdown",
   "metadata": {},
   "source": [
    "# Create dataframe with *all patients*\n",
    "\n",
    "We can ask some pretty sensible questions of this data.\n",
    "\n",
    "* What percentage of patients had antibiotics with a culture?\n",
    "* What percentage of these cultures were positive?\n",
    "\n",
    "The Sepsis-3 guidelines exclusively evaluated patients with suspected infection, so we subselect to this population. We then report demographics, etc."
   ]
  },
  {
   "cell_type": "code",
   "execution_count": null,
   "metadata": {
    "collapsed": false
   },
   "outputs": [],
   "source": [
    "# initialize our dataframe to the cohort\n",
    "df_all_pt = cohort\n",
    "\n",
    "# merge in the various severity scores\n",
    "df_all_pt = df_all_pt.merge(qsofa, how='left', on='icustay_id', suffixes=('','_qsofa'))\n",
    "df_all_pt = df_all_pt.merge(sofa, how='left', on='icustay_id', suffixes=('','_sofa'))\n",
    "df_all_pt = df_all_pt.merge(sirs, how='left', on='icustay_id', suffixes=('','_sirs'))\n",
    "df_all_pt = df_all_pt.merge(ab, how='left', on='icustay_id', suffixes=('','_ab'))\n",
    "df_all_pt = df_all_pt.merge(misc, how='left', on='icustay_id', suffixes=('','_misc'))\n",
    "df_all_pt = df_all_pt.merge(oasis, how='left', on='icustay_id', suffixes=('','_oasis'))\n",
    "df_all_pt = df_all_pt.merge(lods, how='left', on='icustay_id', suffixes=('','_lods'))\n",
    "df_all_pt = df_all_pt.merge(angus, how='left', on='hadm_id', suffixes=('','_angus'))\n",
    "\n",
    "# define sepsis-3 as: qSOFA >= 2 and SOFA >= 2\n",
    "df_all_pt['sepsis3'] = (df_all_pt.qsofa >= 2) & (df_all_pt.sofa >=2)\n",
    "\n",
    "print('{:5g} adult ICU stays (excluding subsequent ICU stays for the same patient).'.format(\n",
    "    df_all_pt.shape[0]))\n",
    "\n",
    "print('{:2.2f}% of patients with antibiotics/culture'.format(\n",
    "    df_all_pt['suspected_infection_time'].count().astype(float) / df_all_pt.shape[0] * 100))\n",
    "\n",
    "print('{:2.2f}% of patients with positive cultures'.format(\n",
    "    df_all_pt['positiveculture'].sum().astype(float) / df_all_pt.shape[0] * 100))\n",
    "\n",
    "print('{:2.2f}% of patients with antibiotics/culture had a positive culture'.format(\n",
    "    df_all_pt['positiveculture'].sum().astype(float) / df_all_pt['suspected_infection_time'].count().astype(float) * 100))\n",
    "\n",
    "df = df_all_pt.loc[(~df_all_pt['suspected_infection_time'].isnull().values)]\n",
    "\n",
    "# Now we subselect to only patients who were *in the ICU* when the suspicion of infection occurred\n",
    "idx = (pd.to_datetime(df['suspected_infection_time']) - df['intime']) > pd.to_timedelta('0','h')\n",
    "print('Of these, {:2.2f}% of patients with suspected infection were in ICU at time of suspicion.'.format(100.0*np.mean(idx)))\n",
    "df = df.loc[idx,:]\n",
    "\n",
    "\n",
    "su.print_demographics(df)\n",
    "\n",
    "print('')\n",
    "print('{:5g} have qSOFA >= 2 ({:2.2f}%).'.format(\n",
    "    (df.qsofa.values >= 2).sum(),100.0*(df.qsofa.values >= 2).mean()))\n",
    "\n",
    "print('{:5g} have SOFA >= 2 ({:2.2f}%).'.format(\n",
    "    (df.sofa.values >= 2).sum(),100.0*(df.sofa.values >= 2).mean()))\n",
    "\n",
    "print('{:5g} have Sepsis-3 ({:2.2f}%).'.format(\n",
    "    (df.sepsis3).sum(),100.0*(df.sepsis3).mean()))\n",
    "\n",
    "print('{:5g} have SIRS >= 2 ({:2.2f}%).'.format(\n",
    "    (df.sirs.values >= 2).sum(),100.0*(df.sirs.values >= 2).mean()))\n",
    "\n",
    "print('{:5g} have LODS >= 2 ({:2.2f}%).'.format(\n",
    "    (df.lods.values >= 2).sum(),100.0*(df.lods.values >= 2).mean()))"
   ]
  },
  {
   "cell_type": "markdown",
   "metadata": {},
   "source": [
    "# Baseline model + scores\n",
    "\n",
    "The original paper evaluates a *baseline model* with the addition of the various severity scores. \n",
    "\n",
    "> To measure predictive validity, a baseline risk model was created for in-hospital mortality based on preinfection criteria using multivariable logistic regression. The baseline model included age (as a fractional polynomial), sex, race/ethnicity (black, white, or other), and the weighted Charlson comorbidity score (as fractional polynomial) as a measure of chronic comorbidities.\n",
    "\n",
    "This baseline model includes:\n",
    "\n",
    "* age (fractional polynomial)\n",
    "* sex\n",
    "* ethnicity\n",
    "* Charlson comorbidities (fractional polynomial)\n",
    "\n",
    "We will reproduce this model, with the following caveats:\n",
    "\n",
    "1. We will build and evaluate the model on the same dataset, so our estimates are \"apparent\"\n",
    "2. We will use Elixhauser comorbidities, not Charlson comorbidities\n",
    "3. We may not have identical fractional polynomial terms (as we are rebuilding the model on our dataset)\n",
    "\n",
    "The following code block extracts the covariates for the baseline model."
   ]
  },
  {
   "cell_type": "code",
   "execution_count": null,
   "metadata": {
    "collapsed": false
   },
   "outputs": [],
   "source": [
    "X_header = ['age','elixhauser_hospital','ethnicity','gender','hospital_expire_flag','angus',\n",
    "       'qsofa','sofa','sepsis3','sirs','lods']\n",
    "\n",
    "X = df[X_header].values\n",
    "\n",
    "# add column for gender - yes/no \"is male?\"\n",
    "X = np.column_stack([X, np.in1d(X[:,3],('M'))])\n",
    "idxGender = X.shape[1]-1\n",
    "\n",
    "# code ethnicity as black/white/other - white is reference\n",
    "X = np.column_stack([X, np.in1d(X[:,2],('BLACK/AFRICAN AMERICAN','BLACK/CAPE VERDEAN','BLACK/HAITIAN','BLACK/AFRICAN'))])\n",
    "\n",
    "\n",
    "X = np.column_stack([X, np.in1d(X[:,2],('WHITE','WHITE - RUSSIAN','WHITE - OTHER EUROPEAN','WHITE - BRAZILIAN',\n",
    "                 'WHITE - EASTERN EUROPEAN'))])\n",
    "\n",
    "idxEthnicity = X.shape[1]-1\n",
    "X[:,idxEthnicity] = (X[:,idxEthnicity]==0) & (X[:,idxEthnicity-1]==0) # this is equivalent to \"ethnicity != (white or black)\"\n",
    "\n",
    "\n",
    "# subselect our columns of interest, cast to float\n",
    "idxKeep = [x for x in range(X.shape[1]) if x not in (2, 3)]\n",
    "X = X[:, idxKeep].astype(float)\n",
    "X_header = [xval for x, xval in enumerate(X_header) if x in idxKeep]\n",
    "X_header.extend(['is_male', 'race_black', 'race_other'])\n",
    "\n",
    "# remove those with NaN outcome\n",
    "idxBad = np.isnan(X[:,0])\n",
    "X = X[~idxBad,:]\n",
    "print('Removed {} patients with no outcome ({:2.2f}%).'.format(np.sum(idxBad), np.mean(idxBad)*100.0))\n",
    "\n",
    "df_mdl = pd.DataFrame.from_records(X, columns=X_header)\n",
    "df_mdl.head()"
   ]
  },
  {
   "cell_type": "markdown",
   "metadata": {},
   "source": [
    "# Save the data to file\n",
    "\n",
    "The dataframes will be loaded directly from a file, rather than the database."
   ]
  },
  {
   "cell_type": "code",
   "execution_count": null,
   "metadata": {
    "collapsed": true
   },
   "outputs": [],
   "source": [
    "df.to_csv('sepsis3-df.csv',sep=',',index=False)\n",
    "\n",
    "# we'll also write out the design matrix for the MFP model here\n",
    "np.savetxt('sepsis3-design-matrix.csv', X, fmt='%4.4f', delimiter=',', header=','.join(X_header), comments='')"
   ]
  },
  {
   "cell_type": "markdown",
   "metadata": {},
   "source": [
    "The `X` data which was written to 'sepsis3-design-matrix.csv' will be used by the `print_auc_table_baseline` function to evaluate the AUROC of the scores when incorporated with the baseline model.\n",
    "\n",
    "Here is an example:"
   ]
  },
  {
   "cell_type": "code",
   "execution_count": null,
   "metadata": {
    "collapsed": true
   },
   "outputs": [],
   "source": [
    "print('Table of AUROCs of scores on their own, with p-values.')\n",
    "preds_header = ['sirs','sofa','lods','qsofa']\n",
    "target_header = 'hospital_expire_flag'\n",
    "su.print_auc_table(df, preds_header, target_header)\n",
    "\n",
    "# model development\n",
    "print('\\nBaseline model development...')\n",
    "model = logit(formula=target_header + \" ~ age + elixhauser_hospital + race_black + race_other + is_male\", data=df_mdl).fit()\n",
    "print(model.summary())\n",
    "\n",
    "print('\\nAUROC of the baseline, and models built using baseline covariates + score listed..')\n",
    "\n",
    "# printing AUROC for models with each score\n",
    "print('{:10s} {:0.3f}'.format('Baseline', metrics.roc_auc_score(df_mdl[target_header],model.predict())))\n",
    "for score_added in ['sirs','qsofa','sofa','lods']:\n",
    "    model = logit(formula=target_header + \" ~ age + elixhauser_hospital + race_black + race_other + is_male + \" + score_added,\n",
    "                  data=df_mdl).fit(disp=0)\n",
    "    print('{:10s} {:0.3f}'.format(score_added, metrics.roc_auc_score(df_mdl[target_header],model.predict())))"
   ]
  }
 ],
 "metadata": {
  "kernelspec": {
   "display_name": "Python 2",
   "language": "python",
   "name": "python2"
  },
  "language_info": {
   "codemirror_mode": {
    "name": "ipython",
    "version": 2
   },
   "file_extension": ".py",
   "mimetype": "text/x-python",
   "name": "python",
   "nbconvert_exporter": "python",
   "pygments_lexer": "ipython2",
   "version": "2.7.9"
  }
 },
 "nbformat": 4,
 "nbformat_minor": 0
}
