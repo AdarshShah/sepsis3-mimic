{
 "cells": [
  {
   "cell_type": "code",
   "execution_count": 1,
   "metadata": {},
   "outputs": [],
   "source": [
    "# Import libraries\n",
    "from __future__ import print_function\n",
    "\n",
    "\n",
    "import numpy as np\n",
    "import pandas as pd\n",
    "import psycopg2\n",
    "import socket\n",
    "import sys\n",
    "import os\n",
    "import getpass\n",
    "\n",
    "from collections import OrderedDict\n",
    "\n",
    "from sepsis_utils import sepsis_utils as su\n",
    "from sepsis_utils import roc_utils as ru\n",
    "\n",
    "# path to output data files to - can be relative to the current folder\n",
    "data_path = 'data'"
   ]
  },
  {
   "cell_type": "code",
   "execution_count": 2,
   "metadata": {},
   "outputs": [],
   "source": [
    "# colours for prettier plots\n",
    "import matplotlib\n",
    "import matplotlib.pyplot as plt\n",
    "import colorsys\n",
    "def gg_color_hue(n):\n",
    "    hues = np.linspace(15, 375, n)\n",
    "    hsv_tuples = [(x*1.0/360.0, 0.5, 0.8) for x in hues]\n",
    "    rgb_tuples = map(lambda x: colorsys.hsv_to_rgb(*x), hsv_tuples)\n",
    "    return rgb_tuples\n",
    "\n",
    "marker = ['v','o','d','^','s','o','+']\n",
    "ls = ['-','-','-','-','-','s','--','--']\n",
    "\n",
    "# plot settings\n",
    "%matplotlib inline\n",
    "plt.style.use('ggplot')\n",
    "font = {'size'   : 20}\n",
    "matplotlib.rc('font', **font)"
   ]
  },
  {
   "cell_type": "code",
   "execution_count": 3,
   "metadata": {},
   "outputs": [],
   "source": [
    "# helper function for generating tables\n",
    "# this rolls back the cursor if it fails\n",
    "def execute_query_safely(sql, con):\n",
    "    cur = con.cursor()\n",
    "    \n",
    "    # try to execute the query\n",
    "    try:\n",
    "        cur.execute(sql)\n",
    "    except:\n",
    "        # if an exception, rollback, rethrow the exception - finally closes the connection\n",
    "        cur.execute('rollback;')\n",
    "        raise\n",
    "    finally:\n",
    "        cur.close()\n",
    "    \n",
    "    return"
   ]
  },
  {
   "cell_type": "code",
   "execution_count": 4,
   "metadata": {},
   "outputs": [
    {
     "name": "stdout",
     "output_type": "stream",
     "text": [
      "Using username alistairewj\n"
     ]
    }
   ],
   "source": [
    "sqluser = getpass.getuser()\n",
    "print('Using username {}'.format(sqluser))\n",
    "\n",
    "dbname = 'mimic'\n",
    "schema_name = 'mimiciii'\n",
    "query_schema = 'SET search_path to public,' + schema_name + ';'"
   ]
  },
  {
   "cell_type": "code",
   "execution_count": 6,
   "metadata": {},
   "outputs": [
    {
     "name": "stdout",
     "output_type": "stream",
     "text": [
      "Connected to postgres 10.0.4!\n"
     ]
    }
   ],
   "source": [
    "# Connect to local postgres version of mimic\n",
    "con = psycopg2.connect(dbname=dbname, user=sqluser)\n",
    "\n",
    "print('Connected to postgres {}.{}.{}!'.format(int(con.server_version/10000),\n",
    "                                              (con.server_version - int(con.server_version/10000)*10000)/100,\n",
    "                                              (con.server_version - int(con.server_version/100)*100)))"
   ]
  },
  {
   "cell_type": "code",
   "execution_count": 7,
   "metadata": {},
   "outputs": [
    {
     "name": "stdout",
     "output_type": "stream",
     "text": [
      "Running SQL code to generate tables. This may take some time.\n",
      "-- As the script is generating many tables, it may take some time.\n",
      "\n",
      "-- We assume the database and the search path are set correctly.\n",
      "-- You can set the search path as follows:\n",
      "-- SET SEARCH_PATH TO public,mimiciii;\n",
      "-- This will create tables on public and read tables from mimiciii\n",
      "\n",
      "BEGIN;\n",
      "-- ----------------------------- --\n",
      "-- ---------- STAGE 1 ---------- --\n",
      "-- ----------------------------- --\n",
      "\n",
      "Running query/tbls/abx-poe-list.sql ... done.\n",
      "Running query/tbls/abx-micro-prescription.sql ... done.\n",
      "Running query/tbls/suspicion-of-infection.sql ... done.\n",
      "\n",
      "-- blood cultures around ICU admission\n",
      "Running query/tbls/blood-culture-icu-admit.sql ... done.\n",
      "\n",
      "-- generate cohort\n",
      "Running query/tbls/cohort.sql ... done.\n",
      "\n",
      "-- generate sepsis definitions\n",
      "Running query/../mimic-code/concepts/sepsis/angus.sql ... done.\n",
      "Running query/../mimic-code/concepts/sepsis/martin.sql ... done.\n",
      "Running query/../mimic-code/concepts/sepsis/explicit.sql ... done.\n",
      "\n",
      "\n",
      "-- -- Generate the views which the severity scores are based on (at time of infection)\n",
      "-- \\i tbls/urine-output-infect-time.sql\n",
      "-- \\i tbls/vitals-infect-time.sql\n",
      "-- \\i tbls/gcs-infect-time.sql\n",
      "-- \\i tbls/labs-infect-time.sql\n",
      "-- \\i tbls/blood-gas-infect-time.sql\n",
      "-- \\i tbls/blood-gas-arterial-infect-time.sql\n",
      "-- \\i tbls/vaso-dur.sql\n",
      "\n",
      "-- Generate the views which the severity scores are based on (first 24 hours)\n",
      "Running query/../mimic-code/concepts/durations/vasopressor-durations.sql ... done.\n",
      "Running query/../mimic-code/concepts/durations/ventilation-durations.sql ... done.\n",
      "\n",
      "Running query/../mimic-code/concepts/firstday/urine-output-first-day.sql ... done.\n",
      "Running query/../mimic-code/concepts/firstday/ventilation-first-day.sql ... done.\n",
      "Running query/../mimic-code/concepts/firstday/vitals-first-day.sql ... done.\n",
      "Running query/../mimic-code/concepts/firstday/gcs-first-day.sql ... done.\n",
      "Running query/../mimic-code/concepts/firstday/labs-first-day.sql ... done.\n",
      "Running query/../mimic-code/concepts/firstday/blood-gas-first-day.sql ... done.\n",
      "Running query/../mimic-code/concepts/firstday/blood-gas-first-day-arterial.sql ... done.\n",
      "\n",
      "Running query/../mimic-code/concepts/echo-data.sql ... done.\n",
      "Running query/../mimic-code/concepts/firstday/weight-first-day.sql ... done.\n",
      "Running query/../mimic-code/concepts/firstday/height-first-day.sql ... done.\n",
      "Running query/../mimic-code/concepts/comorbidity/elixhauser-ahrq-v37-with-drg.sql ... done.\n",
      "\n",
      "-- ----------------------------- --\n",
      "-- ---------- STAGE 2 ---------- --\n",
      "-- ----------------------------- --\n",
      "\n",
      "-- Severity scores during the first 24 hours\n",
      "Running query/../mimic-code/concepts/severityscores/lods.sql ... done.\n",
      "Running query/../mimic-code/concepts/severityscores/mlods.sql ... done.\n",
      "Running query/../mimic-code/concepts/severityscores/sirs.sql ... done.\n",
      "Running query/../mimic-code/concepts/severityscores/qsofa.sql ... done.\n",
      "Running query/../mimic-code/concepts/severityscores/sofa.sql ... done.\n",
      "\n",
      "-- -- Severity scores at the time of suspected infection\n",
      "-- \\i tbls/sofa-si.sql\n",
      "-- \\i tbls/sirs-si.sql\n",
      "-- \\i tbls/lods-si.sql\n",
      "-- \\i tbls/qsofa-si.sql\n",
      "-- \\i tbls/mlods-si.sql\n",
      "\n",
      "-- -- Severity scores on admission\n",
      "-- \\i tbls/qsofa-admission.sql\n",
      "-- \\i tbls/blood-gas-admission.sql\n",
      "-- \\i tbls/sirs-admission.sql\n",
      "\n",
      "-- ----------------------------- --\n",
      "-- ---------- STAGE 3 ---------- --\n",
      "-- ----------------------------- --\n",
      "-- Some sepsis criteria require the severity scores (e.g. SIRS)\n",
      "Running query/tbls/sepsis_cdc_surveillance.sql ... done.\n",
      "Running query/tbls/sepsis_nqf_0500.sql ... done.\n",
      "\n",
      "-- Generate the final table\n",
      "Running query/tbls/sepsis3.sql ... done.\n",
      "\n",
      "COMMIT;\n"
     ]
    }
   ],
   "source": [
    "# check if the sepsis3_cohort table exists ... if not we must generate it\n",
    "query = \"\"\"\n",
    "SELECT EXISTS(SELECT 1 FROM information_schema.tables \n",
    "              WHERE table_catalog = '{}'\n",
    "              AND table_schema in ('public','{}')\n",
    "              AND table_name = 'sepsis3');\n",
    "\"\"\".format(dbname, schema_name)\n",
    "tbl_exists = pd.read_sql_query(query, con)\n",
    "tbl_exists = tbl_exists.loc[0,'exists']\n",
    "if tbl_exists:\n",
    "    print('Found the `sepsis3` table. Skipping generation of data in SQL.')\n",
    "else:\n",
    "    print('Running SQL code to generate tables. This may take some time.')\n",
    "    \n",
    "    # read through the \"make-tables.sql\" file in the sql subfolder\n",
    "    query_path = 'query'\n",
    "    \n",
    "    with open(os.path.join(query_path, 'make-tables.sql'), 'r') as fp:\n",
    "        for line in fp.readlines():\n",
    "            if len(line)<2:\n",
    "                print(line,end='')\n",
    "                continue\n",
    "            \n",
    "            if line[0:2] != '\\i':\n",
    "                print(line,end='')\n",
    "                continue\n",
    "                \n",
    "            # lines which begin with '\\i' call SQL files that generate tables\n",
    "            query_file = os.path.join(query_path, line[3:].replace('\\n',''))\n",
    "            print('Running {} ...'.format(query_file), end=' ')\n",
    "            with open(query_file, 'r') as fp_query:\n",
    "                query = ''.join(fp_query.readlines())\n",
    "            execute_query_safely(query_schema + query, con)\n",
    "            print('done.')"
   ]
  },
  {
   "cell_type": "code",
   "execution_count": 8,
   "metadata": {},
   "outputs": [],
   "source": [
    "# exclusion criteria:\n",
    "#   - less than 16 years old\n",
    "#   - never have any chartevents data (i.e. likely administrative error)\n",
    "#   - not cardiac surgery\n",
    "#   - suspected of infection\n",
    "#   - first ICU stay\n",
    "#   - not a CareVue patient (i.e. admitted 2008-2012)\n",
    "# these exclusion criteria are created in the sepsis3_cohort table\n",
    "query = query_schema + \"select * from sepsis3_cohort\"\n",
    "co = pd.read_sql_query(query,con)"
   ]
  },
  {
   "cell_type": "markdown",
   "metadata": {},
   "source": [
    "# Exclusions - applied independently"
   ]
  },
  {
   "cell_type": "code",
   "execution_count": 9,
   "metadata": {},
   "outputs": [
    {
     "name": "stdout",
     "output_type": "stream",
     "text": [
      "Cohort - initial size: 61532 ICU stays\n",
      "  15056 (24.47%) - exclusion_secondarystay\n",
      "   8109 (13.18%) - exclusion_nonadult\n",
      "   7343 (11.93%) - exclusion_csurg\n",
      "  37912 (61.61%) - exclusion_carevue\n",
      "   7343 (11.93%) - exclusion_early_suspicion\n",
      "   3914 (6.36%) - exclusion_late_suspicion\n",
      "    491 (0.80%) - exclusion_bad_data\n",
      "Final cohort size: 11791.0 ICU stays (19.16%).\n"
     ]
    }
   ],
   "source": [
    "# print out the exclusions\n",
    "print('Cohort - initial size: {} ICU stays'.format(co.shape[0]))\n",
    "idxRem = np.zeros(co.shape[0])\n",
    "for c in co.columns:\n",
    "    if c.startswith('exclusion_'):\n",
    "        print('  {:5g} ({:2.2f}%) - {}'.format(np.sum(co[c]),np.mean(co[c])*100.0, c))\n",
    "        idxRem[co[c].values==1] = 1\n",
    "        \n",
    "print('Final cohort size: {} ICU stays ({:2.2f}%).'.format(co.shape[0] - np.sum(idxRem), (1-np.mean(idxRem))*100.0))"
   ]
  },
  {
   "cell_type": "markdown",
   "metadata": {},
   "source": [
    "# Exclusions - applied sequentially"
   ]
  },
  {
   "cell_type": "code",
   "execution_count": 10,
   "metadata": {},
   "outputs": [
    {
     "name": "stdout",
     "output_type": "stream",
     "text": [
      "Cohort - initial size: 61532 ICU stays\n",
      "   8109 (13.18%) - exclusion_nonadult\n",
      "  14826 (24.09%) - exclusion_secondarystay\n",
      "   5905 (9.60%) - exclusion_csurg\n",
      "  18909 (30.73%) - exclusion_carevue\n",
      "   1250 (2.03%) - exclusion_early_suspicion\n",
      "    724 (1.18%) - exclusion_late_suspicion\n",
      "     18 (0.03%) - exclusion_bad_data\n",
      "Final non-suspected cohort size: 11791 ICU stays (19.16%).\n",
      "\n",
      "=============================\n",
      "====== METAVISION ONLY ======\n",
      " Patients admitted 2008-2012 \n",
      "=============================\n",
      "\n",
      "Cohort - initial size: 23620 ICU stays\n",
      "      3 (0.01%) - exclusion_nonadult\n",
      "   7536 (31.91%) - exclusion_secondarystay\n",
      "   2298 (9.73%) - exclusion_csurg\n",
      "      0 (0.00%) - exclusion_carevue\n",
      "   1250 (5.29%) - exclusion_early_suspicion\n",
      "    724 (3.07%) - exclusion_late_suspicion\n",
      "     18 (0.08%) - exclusion_bad_data\n",
      "Final non-suspected cohort size: 11791/23620 ICU stays (49.92%).\n",
      "\n",
      "Of these patients...\n",
      "   7061 (59.88%) - suspected_of_infection_poe\n"
     ]
    }
   ],
   "source": [
    "# print out the exclusions *SEQUENTIALLY* - i.e. if already excluded, don't re-print\n",
    "print('Cohort - initial size: {} ICU stays'.format(co.shape[0]))\n",
    "\n",
    "COL_REM = ['exclusion_nonadult', 'exclusion_secondarystay',\n",
    "           'exclusion_csurg','exclusion_carevue',\n",
    "           'exclusion_early_suspicion', 'exclusion_late_suspicion', 'exclusion_bad_data']\n",
    "\n",
    "idxRem = np.zeros(co.shape[0])\n",
    "for c in COL_REM:\n",
    "    N_REM = np.sum( (idxRem == 0) & (co[c].values==1) )\n",
    "    print('  {:5g} ({:2.2f}%) - {}'.format(N_REM,N_REM*100.0/co.shape[0], c))\n",
    "    idxRem[co[c].values==1] = 1\n",
    "        \n",
    "print('Final non-suspected cohort size: {:g} ICU stays ({:2.2f}%).'.format(co.shape[0] - np.sum(idxRem), (1-np.mean(idxRem))*100.0))\n",
    "\n",
    "print()\n",
    "# define idxRem to exclude non-metavision admissions initially\n",
    "print('=============================')\n",
    "print('====== METAVISION ONLY ======')\n",
    "print(' Patients admitted 2008-2012 ')\n",
    "print('=============================')\n",
    "print()\n",
    "\n",
    "idxRem = co['dbsource']!='metavision'\n",
    "N = np.sum(~idxRem)\n",
    "N_IGNORE = np.sum(idxRem)\n",
    "\n",
    "# print out the exclusions *SEQUENTIALLY* - i.e. if already excluded, don't re-print\n",
    "print('Cohort - initial size: {} ICU stays'.format(N))\n",
    "\n",
    "for c in COL_REM:\n",
    "    N_REM = np.sum( (idxRem == 0) & (co[c].values==1) )\n",
    "    print('  {:5g} ({:2.2f}%) - {}'.format(N_REM,N_REM*100.0/N, c))\n",
    "    idxRem[co[c].values==1] = True\n",
    "        \n",
    "print('Final non-suspected cohort size: {}/{} ICU stays ({:2.2f}%).'.format(\n",
    "        np.sum(~idxRem), N, np.sum(~idxRem)*100.0/N))\n",
    "print('')\n",
    "\n",
    "print('Of these patients...')\n",
    "c='suspected_of_infection_poe'\n",
    "N_REM = np.sum( (~idxRem) & (co[c].values==1) )\n",
    "print('  {:5g} ({:2.2f}%) - {}'.format(N_REM, N_REM*100.0/ np.sum(~idxRem), c))"
   ]
  },
  {
   "cell_type": "markdown",
   "metadata": {},
   "source": [
    "# Histogram of time of suspected infection"
   ]
  },
  {
   "cell_type": "code",
   "execution_count": 11,
   "metadata": {},
   "outputs": [
    {
     "data": {
      "image/png": "[encoded data removed]",
      "text/plain": [
       "<matplotlib.figure.Figure at 0x7fcc0c3a7cd0>"
      ]
     },
     "metadata": {},
     "output_type": "display_data"
    }
   ],
   "source": [
    "# generate exclusions *except* early/late suspicion\n",
    "COL_REM = ['exclusion_nonadult', 'exclusion_secondarystay',\n",
    "           'exclusion_csurg','exclusion_carevue',\n",
    "           #'exclusion_early_suspicion', 'exclusion_late_suspicion',\n",
    "           'exclusion_bad_data']\n",
    "idxRem = np.zeros(co.shape[0])\n",
    "for c in COL_REM:\n",
    "    N_REM = np.sum( (idxRem == 0) & (co[c].values==1) )\n",
    "    idxRem[co[c].values==1] = 1\n",
    "    \n",
    "idxRem = idxRem.astype(bool)\n",
    "\n",
    "# distribution of time of infection\n",
    "N_HR = 96\n",
    "xi = np.linspace(-N_HR, N_HR, N_HR*2+1)\n",
    "col = gg_color_hue(5)\n",
    "\n",
    "pretty_dict = {'suspected_infection_time_poe_days': 'Blood culture + ABX'}\n",
    "c = 'suspected_infection_time_poe_days'\n",
    "\n",
    "idxKeep = ~co[c].isnull()\n",
    "tmp = co.loc[~idxRem & idxKeep, c].values * 24.0\n",
    "N_firstday = sum( (tmp>-24) & (tmp<24) )\n",
    "\n",
    "lbl_str = pretty_dict[c]\n",
    "lbl_str += '\\n' + '{:2.2f}% of grp >  24hr.'.format(sum(tmp>24)*100.0 / np.sum(~idxRem & idxKeep))\n",
    "lbl_str += '\\n' + '{:2.2f}% of grp  +-24hr.'.format(sum((tmp>=-24) & (tmp<=24))*100.0 / np.sum(~idxRem & idxKeep))\n",
    "lbl_str += '\\n' + '{:2.2f}% of grp < -24hr.'.format(sum(tmp<-24)*100.0 / np.sum(~idxRem & idxKeep))\n",
    "\n",
    "plt.figure(figsize=[14,6])\n",
    "plt.hist( tmp, bins=xi, label=lbl_str, normed=True )\n",
    "plt.title('{} ({:2.2f}%) in [-24,24]. '.format(\n",
    "        N_firstday, N_firstday*100.0 / np.sum(~idxRem)))\n",
    "plt.legend(loc='upper left')\n",
    "    \n",
    "plt.show()"
   ]
  },
  {
   "cell_type": "markdown",
   "metadata": {},
   "source": [
    "We can see that most patients are suspected of infection either before, or at the time of their ICU admission. This motivates the decision to evaluate the performance of the scores at ICU admission."
   ]
  },
  {
   "cell_type": "markdown",
   "metadata": {},
   "source": [
    "# Load final dataset from Postgres"
   ]
  },
  {
   "cell_type": "code",
   "execution_count": 12,
   "metadata": {},
   "outputs": [],
   "source": [
    "# load in final dataset - note we apply the exclusion criteria with excluded=0\n",
    "query = query_schema + \"select * from sepsis3 where excluded = 0\"\n",
    "\n",
    "df = pd.read_sql_query(query,con)"
   ]
  },
  {
   "cell_type": "markdown",
   "metadata": {},
   "source": [
    "We have: ICU intime/outtime, suspected infection time, whether the microbiology culture was positive, some demographics, comorbidities, outcomes, and the severity scores. \n",
    "\n",
    "The severity scores are extracted at a [0, 24] hour window centered around ICU admission - except labs have an extended [-6, 24] hour window (i.e. 'sofa' is extracted in this way)."
   ]
  },
  {
   "cell_type": "markdown",
   "metadata": {},
   "source": [
    "## Add in useful variables"
   ]
  },
  {
   "cell_type": "code",
   "execution_count": 13,
   "metadata": {},
   "outputs": [],
   "source": [
    "# add the composite outcome\n",
    "df['composite_outcome'] = ( (df['hospital_expire_flag']==1) | (df['icu_los']>=3) ).astype(int)\n",
    "\n",
    "labels = OrderedDict([['suspicion_poe', 'BC + ABX (Prescribed)']])\n",
    "\n",
    "# add some other useful variables\n",
    "df['blood culture'] = (~df['blood_culture_time'].isnull())\n",
    "df['suspicion_poe'] = (~df['suspected_infection_time_poe_days'].isnull())\n",
    "\n",
    "df['abx_poe'] = (~df['antibiotic_time_poe'].isnull())\n",
    "\n",
    "df['sepsis-3'] = ((df['suspicion_poe']==1) & (df['sofa']>=2)).astype(int)\n",
    "df['sofa>=2'] = (df['sofa']>=2).astype(int)"
   ]
  },
  {
   "cell_type": "markdown",
   "metadata": {},
   "source": [
    "# Baseline model + scores\n",
    "\n",
    "The original paper evaluates a *baseline model* with the addition of the various severity scores. \n",
    "\n",
    "> To measure predictive validity, a baseline risk model was created for in-hospital mortality based on preinfection criteria using multivariable logistic regression. The baseline model included age (as a fractional polynomial), sex, race/ethnicity (black, white, or other), and the weighted Charlson comorbidity score (as fractional polynomial) as a measure of chronic comorbidities.\n",
    "\n",
    "This baseline model includes:\n",
    "\n",
    "* age (fractional polynomial)\n",
    "* sex\n",
    "* ethnicity\n",
    "* Charlson comorbidities (fractional polynomial)\n",
    "\n",
    "We can reproduce this model (done in the appendix), with the following caveats:\n",
    "\n",
    "1. We will build and evaluate the model on the same dataset, so our estimates are \"apparent\"\n",
    "2. We will use Elixhauser comorbidities, not Charlson comorbidities\n",
    "3. We may not have identical fractional polynomial terms (as we are rebuilding the model on our dataset)\n",
    "\n",
    "The following code block extracts the covariates for the baseline model. R code in the repository can use this file to build a fractional polynomial model."
   ]
  },
  {
   "cell_type": "code",
   "execution_count": 14,
   "metadata": {},
   "outputs": [],
   "source": [
    "X_header = ['age','elixhauser_hospital','hospital_expire_flag','sepsis_angus',\n",
    "            'is_male','race_black','race_other',\n",
    "            'qsofa','sofa','sirs','lods']\n",
    "\n",
    "X = df[X_header].values\n",
    "\n",
    "# we'll write out the design matrix for the MFP model here - this is used by the R code\n",
    "np.savetxt(os.path.join(data_path, 'sepsis3-design-matrix.csv'), X, fmt='%4.4f',\n",
    "           delimiter=',', header=','.join(X_header), comments='')"
   ]
  },
  {
   "cell_type": "markdown",
   "metadata": {},
   "source": [
    "# Save the data to file\n",
    "\n",
    "The dataframes will be loaded directly from a file, rather than the database.\n",
    "\n",
    "The `X` data which was written to 'sepsis3-design-matrix.csv' will be used by the `print_auc_table_baseline` function to evaluate the AUROC of the scores when incorporated with the baseline model."
   ]
  },
  {
   "cell_type": "code",
   "execution_count": 15,
   "metadata": {},
   "outputs": [],
   "source": [
    "df.to_csv(os.path.join(data_path, 'sepsis3-df.csv'),sep=',',index=False)"
   ]
  },
  {
   "cell_type": "markdown",
   "metadata": {},
   "source": [
    "# Dataset with no exclusions\n",
    "\n",
    "It may be useful for others to analyze the dataset without exclusions. Here we generate an identical copy of the data, except for all `icustay_id` in MIMIC-III."
   ]
  },
  {
   "cell_type": "code",
   "execution_count": 16,
   "metadata": {},
   "outputs": [],
   "source": [
    "# load in final dataset - note we add in the individual exclusion criteria\n",
    "query = query_schema + \"\"\"\n",
    "select ie.subject_id\n",
    ", s.*\n",
    ", co.exclusion_secondarystay\n",
    ", co.exclusion_nonadult\n",
    ", co.exclusion_csurg\n",
    ", co.exclusion_carevue\n",
    ", co.exclusion_early_suspicion\n",
    ", co.exclusion_late_suspicion\n",
    ", co.exclusion_bad_data\n",
    "from sepsis3 s\n",
    "-- add in subject_id\n",
    "inner join icustays ie\n",
    "  on s.icustay_id = ie.icustay_id\n",
    "inner join sepsis3_cohort co\n",
    "  on s.icustay_id = co.icustay_id\n",
    "order by s.icustay_id\n",
    "\"\"\"\n",
    "\n",
    "df = pd.read_sql_query(query,con)\n",
    "\n",
    "# add the composite outcome\n",
    "df['composite_outcome'] = ( (df['hospital_expire_flag']==1) | (df['icu_los']>=3) ).astype(int)\n",
    "\n",
    "labels = OrderedDict([['suspicion_poe', 'BC + ABX (Prescribed)']])\n",
    "\n",
    "# add some other useful variables\n",
    "df['blood culture'] = (~df['blood_culture_time'].isnull())\n",
    "df['suspicion_poe'] = (~df['suspected_infection_time_poe_days'].isnull())\n",
    "\n",
    "df['abx_poe'] = (~df['antibiotic_time_poe'].isnull())\n",
    "\n",
    "df['sepsis-3'] = ((df['suspicion_poe']==1) & (df['sofa']>=2)).astype(int)\n",
    "df['sofa>=2'] = (df['sofa']>=2).astype(int)\n",
    "\n",
    "df.to_csv(os.path.join(data_path, 'sepsis3-df-no-exclusions.csv'),sep=',',index=False)"
   ]
  },
  {
   "cell_type": "code",
   "execution_count": 17,
   "metadata": {},
   "outputs": [],
   "source": [
    "con.close()"
   ]
  }
 ],
 "metadata": {
  "kernelspec": {
   "display_name": "sepsis3-py3",
   "language": "python",
   "name": "sepsis3-py3"
  },
  "language_info": {
   "codemirror_mode": {
    "name": "ipython",
    "version": 2
   },
   "file_extension": ".py",
   "mimetype": "text/x-python",
   "name": "python",
   "nbconvert_exporter": "python",
   "pygments_lexer": "ipython2",
   "version": "2.7.12"
  }
 },
 "nbformat": 4,
 "nbformat_minor": 1
}
