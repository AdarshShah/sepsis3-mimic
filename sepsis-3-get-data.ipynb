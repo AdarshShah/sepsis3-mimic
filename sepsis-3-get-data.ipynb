{
 "cells": [
  {
   "cell_type": "code",
   "execution_count": 96,
   "metadata": {
    "collapsed": false
   },
   "outputs": [],
   "source": [
    "# Import libraries\n",
    "import numpy as np\n",
    "import pandas as pd\n",
    "import matplotlib.pyplot as plt\n",
    "import psycopg2\n",
    "import sys\n",
    "\n",
    "from sepsis_utils import sepsis_utils as su\n",
    "from sepsis_utils import roc_utils as ru\n",
    "\n",
    "# default colours for prettier plots\n",
    "col = [[0.9047, 0.1918, 0.1988],\n",
    "    [0.2941, 0.5447, 0.7494],\n",
    "    [0.3718, 0.7176, 0.3612],\n",
    "    [1.0000, 0.5482, 0.1000],\n",
    "    [0.4550, 0.4946, 0.4722],\n",
    "    [0.6859, 0.4035, 0.2412],\n",
    "    [0.9718, 0.5553, 0.7741],\n",
    "    [0.5313, 0.3359, 0.6523]];\n",
    "marker = ['v','o','d','^','s','o','+']\n",
    "ls = ['-','-','-','-','-','s','--','--']\n",
    "%matplotlib inline\n",
    "\n",
    "from __future__ import print_function"
   ]
  },
  {
   "cell_type": "code",
   "execution_count": 97,
   "metadata": {
    "collapsed": true
   },
   "outputs": [],
   "source": [
    "# db connection settings\n",
    "sqluser = 'postgres'\n",
    "dbname = 'mimic'\n",
    "schema_name = 'mimiciii'"
   ]
  },
  {
   "cell_type": "code",
   "execution_count": 98,
   "metadata": {
    "collapsed": false
   },
   "outputs": [],
   "source": [
    "# load data\n",
    "df = su.get_data(sqluser, dbname, schema_name)"
   ]
  },
  {
   "cell_type": "markdown",
   "metadata": {},
   "source": [
    "Let's examine the columns in our dataframe:"
   ]
  },
  {
   "cell_type": "code",
   "execution_count": 99,
   "metadata": {
    "collapsed": false
   },
   "outputs": [
    {
     "data": {
      "text/plain": [
       "Index([u'icustay_id', u'intime', u'outtime', u'suspected_infection_time',\n",
       "       u'positiveculture', u'age', u'gender', u'ethnicity',\n",
       "       u'metastatic_cancer', u'diabetes', u'elixhauser_hospital', u'height',\n",
       "       u'weight', u'bmi', u'first_service', u'hospital_expire_flag',\n",
       "       u'thirtyday_expire_flag', u'angus', u'icu_los', u'hosp_los',\n",
       "       u'lactate_max', u'sofa_si', u'sirs_si', u'lods_si', u'mlods_si',\n",
       "       u'qsofa_si', u'sepsis3_si', u'sofa', u'sirs_24hours', u'lods',\n",
       "       u'qsofa_24hours', u'sepsis3', u'mlods', u'sirs', u'qsofa',\n",
       "       u'qsofa_sysbp_score', u'qsofa_gcs_score', u'qsofa_resprate_score',\n",
       "       u'qsofa_norx', u'qsofa_sysbp_score_norx', u'qsofa_gcs_score_norx',\n",
       "       u'qsofa_resprate_score_norx', u'icustay_num', u'adult', u'vent',\n",
       "       u'race_black', u'race_other', u'is_male'],\n",
       "      dtype='object')"
      ]
     },
     "execution_count": 99,
     "metadata": {},
     "output_type": "execute_result"
    }
   ],
   "source": [
    "df.columns"
   ]
  },
  {
   "cell_type": "markdown",
   "metadata": {},
   "source": [
    "We have: ICU intime/outtime, suspected infection time, whether the microbiology culture was positive, some demographics, comorbidities, outcomes, and the severity scores. \n",
    "\n",
    "The severity scores appear twice. With no suffix, the score is extracted at a [0, 24] hour window centered around ICU admission - except labs have an extended [-6, 24] hour window (i.e. 'sofa' is extracted in this way).\n",
    "\n",
    "The second set of scores, with suffix 'si' (suspected infection), are extracted in a [-48, 24] hour window around the suspected_infection_time (i.e. 'sofa_si' is extracted in this window)."
   ]
  },
  {
   "cell_type": "markdown",
   "metadata": {},
   "source": [
    "# Time of suspected infection\n",
    "\n",
    "Suspected infection is defined as:\n",
    "\n",
    "* Antibiotics within 72 hours of a culture\n",
    "* A culture within 24 hours of antibiotics\n",
    "\n",
    "We can extract antibiotic usage from the, PRESCRIPTIONS, INPUTEVENTS_MV and INPUTEVENTS_CV tables. We can extract time of blood cultures from the MICROBIOLOGYEVENTS table. Detail is given in defining-suspected-infection.ipynb."
   ]
  },
  {
   "cell_type": "code",
   "execution_count": 100,
   "metadata": {
    "collapsed": false
   },
   "outputs": [
    {
     "data": {
      "image/png": "[encoded data removed]",
      "text/plain": [
       "<matplotlib.figure.Figure at 0x112a88910>"
      ]
     },
     "metadata": {},
     "output_type": "display_data"
    }
   ],
   "source": [
    "# distribution of time of infection\n",
    "xi = np.linspace(-72, 72, 72*2+1)\n",
    "\n",
    "idxKeep = ~df.suspected_infection_time.isnull()\n",
    "tmp = (df.loc[idxKeep,'suspected_infection_time'] - df.loc[idxKeep,'intime']).values / np.timedelta64(1, 'h')\n",
    "\n",
    "N_firstday = sum( (tmp>-24) & (tmp<24) )\n",
    "plt.figure(figsize=[6,6])\n",
    "plt.hist( tmp, bins=xi )\n",
    "plt.title('{} patients suspected between [-24,24] ({:2.2f}%).'.format(\n",
    "        N_firstday, N_firstday*100.0 / tmp.shape[0]))\n",
    "plt.show()"
   ]
  },
  {
   "cell_type": "code",
   "execution_count": 101,
   "metadata": {
    "collapsed": false
   },
   "outputs": [
    {
     "name": "stdout",
     "output_type": "stream",
     "text": [
      "Of the total 61532 patients, 12874 had a suspicion of infection 20.92%.\n"
     ]
    }
   ],
   "source": [
    "print('Of the total {} patients, {} had a suspicion of infection {:2.2f}%.'.format(\n",
    "        df.shape[0],\n",
    "        np.sum(~df.suspected_infection_time.isnull()),\n",
    "        np.sum(~df.suspected_infection_time.isnull()).astype(float)*100.0 / df.shape[0]\n",
    "    ))"
   ]
  },
  {
   "cell_type": "markdown",
   "metadata": {},
   "source": [
    "We can see that most patients are suspected of infection either before, or at the time of their ICU admission. This motivates the decision to evaluate the performance of the scores at ICU admission."
   ]
  },
  {
   "cell_type": "markdown",
   "metadata": {},
   "source": [
    "# Cohort\n",
    "\n",
    "The below code creates our cohort of interest. This cohort is used to apply inclusion criteria by means of an inner join. Inclusion criteria are:\n",
    "\n",
    "* Adult patient, i.e. age >= 16\n",
    "* First ICU stay for the patient\n",
    "* Suspected of infection"
   ]
  },
  {
   "cell_type": "code",
   "execution_count": 102,
   "metadata": {
    "collapsed": false
   },
   "outputs": [
    {
     "name": "stdout",
     "output_type": "stream",
     "text": [
      "61532 - total number of ICU stays in MIMIC.\n",
      "53432   include only adult ICU stays (removed 8100).\n",
      "38606   ... on their first ICU stay  (removed 14826).\n",
      "32701   ... not in CSURG/VSURG/TSURG  (removed 5905).\n",
      " 6781   ... suspected of infection   (removed 25920).\n",
      "\n",
      "Of the 32701 patients, 6781 had suspicion of infection 20.74%.\n"
     ]
    }
   ],
   "source": [
    "print('{:5g} - total number of ICU stays in MIMIC.'.format(df.shape[0]))\n",
    "\n",
    "idx = df.age > 1\n",
    "N_rem = df.shape[0] - np.sum(idx)\n",
    "print('{:5g}   include only adult ICU stays (removed {}).'.format(\n",
    "        np.sum(idx), N_rem))\n",
    "\n",
    "N_rem = np.sum(idx) - np.sum(idx & (df['icustay_num'] == 1))\n",
    "idx = idx & (df['icustay_num'] == 1)\n",
    "print('{:5g}   ... on their first ICU stay  (removed {}).'.format(\n",
    "        np.sum(idx), N_rem))\n",
    "\n",
    "N_rem = np.sum(idx) - np.sum(idx & ~(np.in1d(df['first_service'],['CSURG','VSURG','TSURG'])))\n",
    "idx = idx & ~(np.in1d(df['first_service'],['CSURG','VSURG','TSURG']))\n",
    "print('{:5g}   ... not in CSURG/VSURG/TSURG  (removed {}).'.format(\n",
    "        np.sum(idx), N_rem))\n",
    "\n",
    "\n",
    "N_rem = np.sum(idx) - np.sum(idx & (~df['suspected_infection_time'].isnull()))\n",
    "idx = idx & (~df['suspected_infection_time'].isnull())\n",
    "print('{:5g}   ... suspected of infection   (removed {}).'.format(\n",
    "        np.sum(idx), N_rem))\n",
    "\n",
    "\n",
    "print('\\nOf the {} patients, {} had suspicion of infection {:2.2f}%.'.format(\n",
    "        np.sum(idx)+N_rem,\n",
    "        np.sum(idx),\n",
    "        np.sum(idx)*100.0 / (np.sum(idx)+N_rem)\n",
    "    ))\n",
    "#idxRem = (df['suspected_infection_time']-df['intime'])<np.timedelta64(1,'D')\n",
    "#N_rem = np.sum(idx) - np.sum(idx & idxRem)\n",
    "#idx = idx & idxRem\n",
    "#print('{:5g}   ... suspected before 1st day (removed {}).'.format(\n",
    "#        np.sum(idx), N_rem))\n",
    "\n",
    "df = df.loc[idx,:]\n"
   ]
  },
  {
   "cell_type": "markdown",
   "metadata": {},
   "source": [
    "Patients in MIMIC have ages > 300 if their true age is > 89 (to comply with HIPAA regulations). Here we set their age to the median age for patients aged > 89, which is 91.4."
   ]
  },
  {
   "cell_type": "code",
   "execution_count": 103,
   "metadata": {
    "collapsed": true
   },
   "outputs": [],
   "source": [
    "df.loc[df['age']>200, 'age'] = 91.4"
   ]
  },
  {
   "cell_type": "code",
   "execution_count": 104,
   "metadata": {
    "collapsed": false,
    "scrolled": false
   },
   "outputs": [
    {
     "name": "stdout",
     "output_type": "stream",
     "text": [
      "N                   \t6781\n",
      "age                 \t65.30 [52.43, 78.26]\n",
      "gender              \t3779 (55.73%)\n",
      "bmi                 \t28.99 +- 9.00\n",
      "hospital_expire_flag\t 948 (13.98%)\n",
      "thirtyday_expire_flag\t1139 (16.80%)\n",
      "icu_los             \t2.60 [1.47, 5.09]\n",
      "hosp_los            \t8.17 [4.95, 13.94]\n",
      "vent                \t3110 (45.86%)\n",
      "race                \n",
      "elixhauser_hospital \t3.00 [0.00, 8.00]\n",
      "sirs                \t2.00 [2.00, 3.00]\n",
      "sofa                \t4.00 [2.00, 7.00]\n",
      "qsofa               \t2.00 [1.00, 2.00]\n",
      "mlods               \t3.00 [1.00, 5.00]\n",
      "lactate_max         \t2.94 +- 2.46\n",
      "lactate measured    \t1240 (18.29%)\n",
      "lactate > 2         \t3181 (46.91%)\n",
      "\n",
      "Alive vs. dead\n",
      "N                   \t5833     \t 948     \t     \n",
      "age                 \t64.21 [51.42, 77.18]\t72.30 [59.73, 82.36]\t< 0.001\n",
      "gender              \t3281 (56.25%)\t 498 (52.53%)\t0.036\n",
      "bmi                 \t29.09 +- 8.77\t28.31 +- 10.29\t0.107\n",
      "hospital_expire_flag\t   0 (0.00%)\t 948 (100.00%)\t< 0.001\n",
      "thirtyday_expire_flag\t 252 (4.32%)\t 887 (93.57%)\t< 0.001\n",
      "icu_los             \t2.42 [1.43, 4.78]\t3.74 [1.77, 7.55]\t< 0.001\n",
      "hosp_los            \t8.46 [5.32, 13.95]\t6.24 [2.40, 13.41]\t< 0.001\n",
      "vent                \t2540 (43.55%)\t 570 (60.13%)\t< 0.001\n",
      "race                \n",
      "elixhauser_hospital \t2.00 [-1.00, 7.00]\t7.00 [2.00, 12.00]\t< 0.001\n",
      "sirs                \t2.00 [2.00, 3.00]\t3.00 [2.00, 3.00]\t< 0.001\n",
      "sofa                \t4.00 [2.00, 6.00]\t7.00 [4.00, 11.00]\t< 0.001\n",
      "qsofa               \t2.00 [1.00, 2.00]\t2.00 [1.00, 2.00]\t< 0.001\n",
      "mlods               \t2.00 [1.00, 4.00]\t5.00 [3.00, 7.00]\t< 0.001\n",
      "lactate_max         \t2.66 +- 1.95\t4.47 +- 3.94\t< 0.001\n",
      "lactate measured    \t1140 (19.54%)\t 100 (10.55%)\t< 0.001\n",
      "lactate > 2         \t2564 (43.96%)\t 617 (65.08%)\t< 0.001\n",
      "\n",
      "Non-angus vs. angus\n",
      "N                   \t3533     \t3248     \t     \n",
      "age                 \t63.06 [50.27, 75.75]\t67.83 [54.65, 80.11]\t< 0.001\n",
      "gender              \t2041 (57.77%)\t1738 (53.51%)\t< 0.001\n",
      "bmi                 \t28.62 +- 9.14\t29.34 +- 8.84\t0.015\n",
      "hospital_expire_flag\t 288 (8.15%)\t 660 (20.32%)\t< 0.001\n",
      "thirtyday_expire_flag\t 383 (10.84%)\t 756 (23.28%)\t< 0.001\n",
      "icu_los             \t1.99 [1.23, 3.30]\t3.77 [1.93, 8.17]\t< 0.001\n",
      "hosp_los            \t6.94 [4.23, 10.60]\t10.71 [6.09, 18.72]\t< 0.001\n",
      "vent                \t1525 (43.16%)\t1585 (48.80%)\t< 0.001\n",
      "race                \n",
      "elixhauser_hospital \t0.00 [-1.00, 6.00]\t5.00 [0.00, 10.00]\t< 0.001\n",
      "sirs                \t2.00 [1.00, 3.00]\t3.00 [2.00, 3.00]\t< 0.001\n",
      "sofa                \t3.00 [2.00, 5.00]\t5.00 [3.00, 8.00]\t< 0.001\n",
      "qsofa               \t1.00 [1.00, 2.00]\t2.00 [1.00, 2.00]\t< 0.001\n",
      "mlods               \t2.00 [1.00, 4.00]\t4.00 [2.00, 5.00]\t< 0.001\n",
      "lactate_max         \t2.72 +- 2.09\t3.14 +- 2.75\t< 0.001\n",
      "lactate measured    \t 809 (22.90%)\t 431 (13.27%)\t< 0.001\n",
      "lactate > 2         \t1525 (43.16%)\t1656 (50.99%)\t< 0.001\n",
      "\n",
      " 5259 have SIRS >= 2 (77.55%) on admission.\n",
      " 3730 have qSOFA >= 2 (55.01%) on admission.\n",
      "    294 have +1 for Vaso (4.34%).\n",
      "   1256 have +1 for MechVent (18.52%).\n",
      "   1447 have +1 for Vaso or MechVent (21.34%).\n",
      "    118 have +1 for Vaso AND MechVent (1.74%).\n",
      " 5725 have SOFA >= 2 (84.43%).\n",
      " 3447 have Sepsis-3 (50.83%).\n",
      " 5954 have LODS >= 2 (87.80%).\n"
     ]
    }
   ],
   "source": [
    "# Call the print_demographics subfunction, which prints out a reasonably formatted table\n",
    "su.print_demographics(df)\n",
    "\n",
    "print('\\nAlive vs. dead')\n",
    "su.print_demographics(df, idx=(df.hospital_expire_flag.values==1))\n",
    "\n",
    "print('\\nNon-angus vs. angus')\n",
    "su.print_demographics(df, idx=df.angus.values==1)\n",
    "\n",
    "print('')\n",
    "\n",
    "print('{:5g} have SIRS >= 2 ({:2.2f}%) on admission.'.format(\n",
    "    (df.sirs.values >= 2).sum(),100.0*(df.sirs.values >= 2).mean()))\n",
    "\n",
    "print('{:5g} have qSOFA >= 2 ({:2.2f}%) on admission.'.format(\n",
    "    (df.qsofa.values >= 2).sum(),100.0*(df.qsofa.values >= 2).mean()))\n",
    "\n",
    "print('  {:5g} have +1 for Vaso ({:2.2f}%).'.format(\n",
    "    ((df.qsofa_sysbp_score.values-df.qsofa_sysbp_score_norx.values) >= 1).sum(),\n",
    "        100.0*((df.qsofa_sysbp_score.values-df.qsofa_sysbp_score_norx.values) >= 1).mean()))\n",
    "\n",
    "print('  {:5g} have +1 for MechVent ({:2.2f}%).'.format(\n",
    "    ((df.qsofa_resprate_score.values-df.qsofa_resprate_score_norx.values) >= 1).sum(),\n",
    "        100.0*((df.qsofa_resprate_score.values-df.qsofa_resprate_score_norx.values) >= 1).mean()))\n",
    "\n",
    "print('  {:5g} have +1 for Vaso or MechVent ({:2.2f}%).'.format(\n",
    "    ((df.qsofa.values-df.qsofa_norx.values) >= 1).sum(),\n",
    "        100.0*((df.qsofa.values-df.qsofa_norx.values) >= 1).mean()))\n",
    "\n",
    "print('  {:5g} have +1 for Vaso AND MechVent ({:2.2f}%).'.format(\n",
    "    ((df.qsofa.values-df.qsofa_norx.values) >= 2).sum(),\n",
    "        100.0*((df.qsofa.values-df.qsofa_norx.values) >= 2).mean()))\n",
    "\n",
    "print('{:5g} have SOFA >= 2 ({:2.2f}%).'.format(\n",
    "    (df.sofa.values >= 2).sum(),100.0*(df.sofa.values >= 2).mean()))\n",
    "\n",
    "print('{:5g} have Sepsis-3 ({:2.2f}%).'.format(\n",
    "    (df.sepsis3).sum(),100.0*(df.sepsis3).mean()))\n",
    "\n",
    "print('{:5g} have LODS >= 2 ({:2.2f}%).'.format(\n",
    "    (df.lods.values >= 2).sum(),100.0*(df.lods.values >= 2).mean()))"
   ]
  },
  {
   "cell_type": "markdown",
   "metadata": {},
   "source": [
    "# Comparison of qSOFA vs SOFA"
   ]
  },
  {
   "cell_type": "code",
   "execution_count": 105,
   "metadata": {
    "collapsed": false
   },
   "outputs": [
    {
     "name": "stdout",
     "output_type": "stream",
     "text": [
      "\n",
      "Confusion matrix\n",
      "      \tq=0   \tq=1   \n",
      "s=0   \t   773\t   283\tNPV=73.20\n",
      "s=1   \t  2278\t  3447\tPPV=60.21\n",
      "   \t25.34\t92.41\tAcc=62.23\n",
      "   \tSpec\tSens\n"
     ]
    }
   ],
   "source": [
    "su.print_cm(df['qsofa'].values >= 2, df['sofa'].values >= 2,\n",
    "           header1='q',header2='s') # print confusion matrix"
   ]
  },
  {
   "cell_type": "markdown",
   "metadata": {},
   "source": [
    "# Baseline model + scores\n",
    "\n",
    "The original paper evaluates a *baseline model* with the addition of the various severity scores. \n",
    "\n",
    "> To measure predictive validity, a baseline risk model was created for in-hospital mortality based on preinfection criteria using multivariable logistic regression. The baseline model included age (as a fractional polynomial), sex, race/ethnicity (black, white, or other), and the weighted Charlson comorbidity score (as fractional polynomial) as a measure of chronic comorbidities.\n",
    "\n",
    "This baseline model includes:\n",
    "\n",
    "* age (fractional polynomial)\n",
    "* sex\n",
    "* ethnicity\n",
    "* Charlson comorbidities (fractional polynomial)\n",
    "\n",
    "We will reproduce this model, with the following caveats:\n",
    "\n",
    "1. We will build and evaluate the model on the same dataset, so our estimates are \"apparent\"\n",
    "2. We will use Elixhauser comorbidities, not Charlson comorbidities\n",
    "3. We may not have identical fractional polynomial terms (as we are rebuilding the model on our dataset)\n",
    "\n",
    "The following code block extracts the covariates for the baseline model."
   ]
  },
  {
   "cell_type": "code",
   "execution_count": 106,
   "metadata": {
    "collapsed": false
   },
   "outputs": [],
   "source": [
    "X_header = ['age','elixhauser_hospital','hospital_expire_flag','angus',\n",
    "            'is_male','race_black','race_other',\n",
    "            'qsofa','sofa','sepsis3','sirs','lods','mlods']\n",
    "\n",
    "X = df[X_header].values\n",
    "\n",
    "# we'll write out the design matrix for the MFP model here - this is used by the R code\n",
    "np.savetxt('sepsis3-design-matrix.csv', X, fmt='%4.4f',\n",
    "           delimiter=',', header=','.join(X_header), comments='')"
   ]
  },
  {
   "cell_type": "markdown",
   "metadata": {},
   "source": [
    "# Save the data to file\n",
    "\n",
    "The dataframes will be loaded directly from a file, rather than the database.\n",
    "\n",
    "The `X` data which was written to 'sepsis3-design-matrix.csv' will be used by the `print_auc_table_baseline` function to evaluate the AUROC of the scores when incorporated with the baseline model."
   ]
  },
  {
   "cell_type": "code",
   "execution_count": 107,
   "metadata": {
    "collapsed": true
   },
   "outputs": [],
   "source": [
    "df.to_csv('sepsis3-df.csv',sep=',',index=False)"
   ]
  }
 ],
 "metadata": {
  "kernelspec": {
   "display_name": "Python 2",
   "language": "python",
   "name": "python2"
  },
  "language_info": {
   "codemirror_mode": {
    "name": "ipython",
    "version": 2
   },
   "file_extension": ".py",
   "mimetype": "text/x-python",
   "name": "python",
   "nbconvert_exporter": "python",
   "pygments_lexer": "ipython2",
   "version": "2.7.12"
  }
 },
 "nbformat": 4,
 "nbformat_minor": 0
}
