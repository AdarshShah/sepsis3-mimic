{
 "cells": [
  {
   "cell_type": "code",
   "execution_count": 1,
   "metadata": {
    "collapsed": true
   },
   "outputs": [],
   "source": [
    "# Import libraries\n",
    "import numpy as np\n",
    "import pandas as pd\n",
    "import matplotlib.pyplot as plt\n",
    "import psycopg2\n",
    "import sys\n",
    "\n",
    "from sepsis_utils import sepsis_utils as su\n",
    "from sepsis_utils import roc_utils as ru\n",
    "\n",
    "# default colours for prettier plots\n",
    "col = [[0.9047, 0.1918, 0.1988],\n",
    "    [0.2941, 0.5447, 0.7494],\n",
    "    [0.3718, 0.7176, 0.3612],\n",
    "    [1.0000, 0.5482, 0.1000],\n",
    "    [0.4550, 0.4946, 0.4722],\n",
    "    [0.6859, 0.4035, 0.2412],\n",
    "    [0.9718, 0.5553, 0.7741],\n",
    "    [0.5313, 0.3359, 0.6523]];\n",
    "marker = ['v','o','d','^','s','o','+']\n",
    "ls = ['-','-','-','-','-','s','--','--']\n",
    "%matplotlib inline\n",
    "\n",
    "from __future__ import print_function"
   ]
  },
  {
   "cell_type": "code",
   "execution_count": 2,
   "metadata": {
    "collapsed": false
   },
   "outputs": [],
   "source": [
    "# load data\n",
    "df = su.get_data()"
   ]
  },
  {
   "cell_type": "markdown",
   "metadata": {},
   "source": [
    "Let's examine the columns in our dataframe:"
   ]
  },
  {
   "cell_type": "code",
   "execution_count": 3,
   "metadata": {
    "collapsed": false
   },
   "outputs": [
    {
     "data": {
      "text/plain": [
       "Index([u'icustay_id', u'intime', u'outtime', u'suspected_infection_time',\n",
       "       u'positiveculture', u'age', u'gender', u'ethnicity',\n",
       "       u'metastatic_cancer', u'diabetes', u'elixhauser_hospital', u'height',\n",
       "       u'weight', u'bmi', u'first_service', u'hospital_expire_flag',\n",
       "       u'thirtyday_expire_flag', u'angus', u'icu_los', u'hosp_los',\n",
       "       u'lactate_max', u'sofa_si', u'sirs_si', u'lods_si', u'mlods_si',\n",
       "       u'qsofa_si', u'sepsis3_si', u'sofa', u'sirs_24hours', u'lods',\n",
       "       u'qsofa_24hours', u'sepsis3', u'mlods', u'qsofa', u'qsofa_no_rx',\n",
       "       u'sirs', u'icustay_num', u'adult', u'vent', u'race_black',\n",
       "       u'race_other', u'is_male'],\n",
       "      dtype='object')"
      ]
     },
     "execution_count": 3,
     "metadata": {},
     "output_type": "execute_result"
    }
   ],
   "source": [
    "df.columns"
   ]
  },
  {
   "cell_type": "markdown",
   "metadata": {},
   "source": [
    "We have: ICU intime/outtime, suspected infection time, whether the microbiology culture was positive, some demographics, comorbidities, outcomes, and the severity scores. \n",
    "\n",
    "The severity scores appear twice. With no suffix, the score is extracted at a [0, 24] hour window centered around ICU admission - except labs have an extended [-6, 24] hour window (i.e. 'sofa' is extracted in this way).\n",
    "\n",
    "The second set of scores, with suffix 'si' (suspected infection), are extracted in a [-48, 24] hour window around the suspected_infection_time (i.e. 'sofa_si' is extracted in this window)."
   ]
  },
  {
   "cell_type": "markdown",
   "metadata": {},
   "source": [
    "# Time of suspected infection\n",
    "\n",
    "Suspected infection is defined as:\n",
    "\n",
    "* Antibiotics within 72 hours of a culture\n",
    "* A culture within 24 hours of antibiotics\n",
    "\n",
    "We can extract antibiotic usage from the, PRESCRIPTIONS, INPUTEVENTS_MV and INPUTEVENTS_CV tables. We can extract time of blood cultures from the MICROBIOLOGYEVENTS table. Detail is given in defining-suspected-infection.ipynb."
   ]
  },
  {
   "cell_type": "code",
   "execution_count": 4,
   "metadata": {
    "collapsed": false
   },
   "outputs": [
    {
     "data": {
      "image/png": "[encoded data removed]",
      "text/plain": [
       "<matplotlib.figure.Figure at 0x7ff7f4c555d0>"
      ]
     },
     "metadata": {},
     "output_type": "display_data"
    }
   ],
   "source": [
    "# distribution of time of infection\n",
    "xi = np.linspace(-72, 72, 72*2+1)\n",
    "\n",
    "idxKeep = ~df.suspected_infection_time.isnull()\n",
    "tmp = (df.loc[idxKeep,'suspected_infection_time'] - df.loc[idxKeep,'intime']).values / np.timedelta64(1, 'h')\n",
    "\n",
    "N_firstday = sum( (tmp>-24) & (tmp<24) )\n",
    "plt.figure(figsize=[6,6])\n",
    "plt.hist( tmp, bins=xi )\n",
    "plt.title('{} patients suspected between [-24,24] ({:2.2f}%).'.format(\n",
    "        N_firstday, N_firstday*100.0 / tmp.shape[0]))\n",
    "plt.show()"
   ]
  },
  {
   "cell_type": "markdown",
   "metadata": {},
   "source": [
    "We can see that most patients are suspected of infection either before, or at the time of their ICU admission. This motivates the decision to evaluate the performance of the scores at ICU admission."
   ]
  },
  {
   "cell_type": "markdown",
   "metadata": {},
   "source": [
    "# Cohort\n",
    "\n",
    "The below code creates our cohort of interest. This cohort is used to apply inclusion criteria by means of an inner join. Inclusion criteria are:\n",
    "\n",
    "* Adult patient, i.e. age >= 16\n",
    "* First ICU stay for the patient\n",
    "* Suspected of infection"
   ]
  },
  {
   "cell_type": "code",
   "execution_count": 5,
   "metadata": {
    "collapsed": false
   },
   "outputs": [
    {
     "name": "stdout",
     "output_type": "stream",
     "text": [
      "61532 - total number of ICU stays in MIMIC.\n",
      "53432   include only adult ICU stays (removed 8100).\n",
      "38606   ... on their first ICU stay  (removed 14826).\n",
      "32701   ... not in CSURG/VSURG/TSURG  (removed 5905).\n",
      " 6614   ... suspected of infection   (removed 26087).\n"
     ]
    }
   ],
   "source": [
    "print('{:5g} - total number of ICU stays in MIMIC.'.format(df.shape[0]))\n",
    "\n",
    "idx = df.age > 1\n",
    "N_rem = df.shape[0] - np.sum(idx)\n",
    "print('{:5g}   include only adult ICU stays (removed {}).'.format(\n",
    "        np.sum(idx), N_rem))\n",
    "\n",
    "N_rem = np.sum(idx) - np.sum(idx & (df['icustay_num'] == 1))\n",
    "idx = idx & (df['icustay_num'] == 1)\n",
    "print('{:5g}   ... on their first ICU stay  (removed {}).'.format(\n",
    "        np.sum(idx), N_rem))\n",
    "\n",
    "N_rem = np.sum(idx) - np.sum(idx & ~(np.in1d(df['first_service'],['CSURG','VSURG','TSURG'])))\n",
    "idx = idx & ~(np.in1d(df['first_service'],['CSURG','VSURG','TSURG']))\n",
    "print('{:5g}   ... not in CSURG/VSURG/TSURG  (removed {}).'.format(\n",
    "        np.sum(idx), N_rem))\n",
    "\n",
    "\n",
    "N_rem = np.sum(idx) - np.sum(idx & (~df['suspected_infection_time'].isnull()))\n",
    "idx = idx & (~df['suspected_infection_time'].isnull())\n",
    "print('{:5g}   ... suspected of infection   (removed {}).'.format(\n",
    "        np.sum(idx), N_rem))\n",
    "\n",
    "\n",
    "#idxRem = (df['suspected_infection_time']-df['intime'])<np.timedelta64(1,'D')\n",
    "#N_rem = np.sum(idx) - np.sum(idx & idxRem)\n",
    "#idx = idx & idxRem\n",
    "#print('{:5g}   ... suspected before 1st day (removed {}).'.format(\n",
    "#        np.sum(idx), N_rem))\n",
    "\n",
    "df = df.loc[idx,:]"
   ]
  },
  {
   "cell_type": "markdown",
   "metadata": {},
   "source": [
    "Patients in MIMIC have ages > 300 if their true age is > 89 (to comply with HIPAA regulations). Here we set their age to the median age for patients aged > 89, which is 91.4."
   ]
  },
  {
   "cell_type": "code",
   "execution_count": 6,
   "metadata": {
    "collapsed": true
   },
   "outputs": [],
   "source": [
    "df.loc[df['age']>200, 'age'] = 91.4"
   ]
  },
  {
   "cell_type": "code",
   "execution_count": 7,
   "metadata": {
    "collapsed": false,
    "scrolled": false
   },
   "outputs": [
    {
     "name": "stdout",
     "output_type": "stream",
     "text": [
      "vent                \t3047 (46.07%)\n",
      "hosp_los            \t8.19 +- 11.35\n",
      "sirs                \t2.00 +- 1.08\n",
      "gender              \t3703 (55.99%)\n",
      "age                 \t63.66 +- 17.83\n",
      "bmi                 \t29.01 +- 9.04\n",
      "icu_los             \t2.58 +- 6.07\n",
      "lactate_max         \t2.94 +- 2.44\n",
      "lactate measured    \t1202 (18.17%)\n",
      "lactate > 2         \t3116 (47.11%)\n",
      "elixhauser_hospital \t3.38 +- 7.08\n",
      "sofa                \t4.00 +- 3.48\n",
      "thirtyday_expire_flag\t1087 (16.43%)\n",
      "race_black          \t 532 (8.04%)\n",
      "mlods               \t3.00 +- 2.67\n",
      "hospital_expire_flag\t 907 (13.71%)\n",
      "race_other          \t1234 (18.66%)\n",
      "qsofa               \t2.00 +- 0.75\n",
      "\n",
      "Alive vs. dead\n",
      "vent                \t2499 (43.79%)\t 548 (60.42%)\t< 0.01\n",
      "hosp_los            \t8.46 +- 10.56\t6.25 +- 15.44\t< 0.01\n",
      "sirs                \t2.00 +- 1.08\t3.00 +- 0.95\t< 0.01\n",
      "gender              \t3227 (48.79%)\t 476 (7.20%)\t0.02 \n",
      "age                 \t62.75 +- 17.94\t69.45 +- 15.93\t< 0.01\n",
      "bmi                 \t29.09 +- 8.81\t28.48 +- 10.45\t0.22 \n",
      "icu_los             \t2.41 +- 5.91\t3.78 +- 6.82\t< 0.01\n",
      "lactate_max         \t2.66 +- 1.96\t4.48 +- 3.91\t< 0.01\n",
      "lactate   measured  \t1106 (19.38%)\t  96 (10.58%)\t< 0.01\n",
      "lactate   > 2       \t2524 (44.23%)%\t 592 (65.27%)\t< 0.01\n",
      "elixhauser_hospital \t2.79 +- 6.89\t7.07 +- 7.15\t< 0.01\n",
      "sofa                \t4.00 +- 3.06\t7.00 +- 4.41\t< 0.01\n",
      "thirtyday_expire_flag\t 240 (4.21%)\t 847 (93.38%)\t< 0.01\n",
      "race_black          \t 467 (8.18%)\t  65 (7.17%)\t0.33 \n",
      "mlods               \t2.00 +- 2.36\t5.00 +- 3.29\t< 0.01\n",
      "hospital_expire_flag\t   0 (0.00%)\t 907 (100.00%)\t< 0.01\n",
      "race_other          \t1027 (18.00%)\t 207 (22.82%)\t< 0.01\n",
      "qsofa               \t2.00 +- 0.76\t2.00 +- 0.66\t< 0.01\n",
      "\n",
      "Non-angus vs. angus\n",
      "vent                \t1511 (43.39%)\t1536 (49.04%)\t< 0.01\n",
      "hosp_los            \t6.96 +- 6.75\t10.77 +- 14.18\t< 0.01\n",
      "sirs                \t2.00 +- 1.08\t3.00 +- 1.03\t< 0.01\n",
      "gender              \t2017 (30.50%)\t1686 (25.49%)\t< 0.01\n",
      "age                 \t61.57 +- 18.21\t66.00 +- 17.10\t< 0.01\n",
      "bmi                 \t28.68 +- 9.16\t29.35 +- 8.91\t0.03 \n",
      "icu_los             \t1.99 +- 3.14\t3.77 +- 7.74\t< 0.01\n",
      "lactate_max         \t2.73 +- 2.10\t3.14 +- 2.73\t< 0.01\n",
      "lactate   measured  \t 791 (22.72%)\t 411 (13.12%)\t< 0.01\n",
      "lactate   > 2       \t1512 (43.42%)%\t1604 (51.21%)\t< 0.01\n",
      "elixhauser_hospital \t1.81 +- 6.40\t5.11 +- 7.40\t< 0.01\n",
      "sofa                \t3.00 +- 2.90\t5.00 +- 3.73\t< 0.01\n",
      "thirtyday_expire_flag\t 370 (10.63%)\t 717 (22.89%)\t< 0.01\n",
      "race_black          \t 265 (7.61%)\t 267 (8.52%)\t0.19 \n",
      "mlods               \t2.00 +- 2.33\t4.00 +- 2.76\t< 0.01\n",
      "hospital_expire_flag\t 281 (8.07%)\t 626 (19.99%)\t< 0.01\n",
      "race_other          \t 646 (18.55%)\t 588 (18.77%)\t0.84 \n",
      "qsofa               \t1.00 +- 0.78\t2.00 +- 0.69\t< 0.01\n",
      "\n",
      " 5094 have SIRS >= 2 (77.02%) on admission.\n",
      " 3618 have qSOFA >= 2 (54.70%) on admission.\n",
      " 5583 have SOFA >= 2 (84.41%).\n",
      " 3347 have Sepsis-3 (50.60%).\n",
      " 5804 have LODS >= 2 (87.75%).\n"
     ]
    }
   ],
   "source": [
    "# Call the print_demographics subfunction, which prints out a reasonably formatted table\n",
    "su.print_demographics(df)\n",
    "\n",
    "print('\\nAlive vs. dead')\n",
    "su.print_demographics(df, idx=(df.hospital_expire_flag.values==1))\n",
    "\n",
    "print('\\nNon-angus vs. angus')\n",
    "su.print_demographics(df, idx=df.angus.values==1)\n",
    "\n",
    "print('')\n",
    "\n",
    "print('{:5g} have SIRS >= 2 ({:2.2f}%) on admission.'.format(\n",
    "    (df.sirs.values >= 2).sum(),100.0*(df.sirs.values >= 2).mean()))\n",
    "\n",
    "print('{:5g} have qSOFA >= 2 ({:2.2f}%) on admission.'.format(\n",
    "    (df.qsofa.values >= 2).sum(),100.0*(df.qsofa.values >= 2).mean()))\n",
    "\n",
    "print('{:5g} have SOFA >= 2 ({:2.2f}%).'.format(\n",
    "    (df.sofa.values >= 2).sum(),100.0*(df.sofa.values >= 2).mean()))\n",
    "\n",
    "print('{:5g} have Sepsis-3 ({:2.2f}%).'.format(\n",
    "    (df.sepsis3).sum(),100.0*(df.sepsis3).mean()))\n",
    "\n",
    "print('{:5g} have LODS >= 2 ({:2.2f}%).'.format(\n",
    "    (df.lods.values >= 2).sum(),100.0*(df.lods.values >= 2).mean()))"
   ]
  },
  {
   "cell_type": "markdown",
   "metadata": {},
   "source": [
    "# Comparison of qSOFA vs SOFA"
   ]
  },
  {
   "cell_type": "code",
   "execution_count": 8,
   "metadata": {
    "collapsed": false
   },
   "outputs": [
    {
     "name": "stdout",
     "output_type": "stream",
     "text": [
      "\n",
      "Confusion matrix\n",
      "      \tq=0   \tq=1   \n",
      "s=0   \t   760\t   271\tNPV=73.71\n",
      "s=1   \t  2236\t  3347\tPPV=59.95\n",
      "   \t25.37\t92.51\tAcc=62.10\n",
      "   \tSpec\tSens\n"
     ]
    }
   ],
   "source": [
    "su.print_cm(df['qsofa'].values >= 2, df['sofa'].values >= 2,\n",
    "           header1='q',header2='s') # print confusion matrix"
   ]
  },
  {
   "cell_type": "markdown",
   "metadata": {},
   "source": [
    "# Baseline model + scores\n",
    "\n",
    "The original paper evaluates a *baseline model* with the addition of the various severity scores. \n",
    "\n",
    "> To measure predictive validity, a baseline risk model was created for in-hospital mortality based on preinfection criteria using multivariable logistic regression. The baseline model included age (as a fractional polynomial), sex, race/ethnicity (black, white, or other), and the weighted Charlson comorbidity score (as fractional polynomial) as a measure of chronic comorbidities.\n",
    "\n",
    "This baseline model includes:\n",
    "\n",
    "* age (fractional polynomial)\n",
    "* sex\n",
    "* ethnicity\n",
    "* Charlson comorbidities (fractional polynomial)\n",
    "\n",
    "We will reproduce this model, with the following caveats:\n",
    "\n",
    "1. We will build and evaluate the model on the same dataset, so our estimates are \"apparent\"\n",
    "2. We will use Elixhauser comorbidities, not Charlson comorbidities\n",
    "3. We may not have identical fractional polynomial terms (as we are rebuilding the model on our dataset)\n",
    "\n",
    "The following code block extracts the covariates for the baseline model."
   ]
  },
  {
   "cell_type": "code",
   "execution_count": 9,
   "metadata": {
    "collapsed": false
   },
   "outputs": [],
   "source": [
    "X_header = ['age','elixhauser_hospital','hospital_expire_flag','angus',\n",
    "            'is_male','race_black','race_other',\n",
    "            'qsofa','sofa','sepsis3','sirs','lods','mlods']\n",
    "\n",
    "X = df[X_header].values\n",
    "\n",
    "# we'll write out the design matrix for the MFP model here - this is used by the R code\n",
    "np.savetxt('sepsis3-design-matrix.csv', X, fmt='%4.4f',\n",
    "           delimiter=',', header=','.join(X_header), comments='')"
   ]
  },
  {
   "cell_type": "markdown",
   "metadata": {},
   "source": [
    "# Save the data to file\n",
    "\n",
    "The dataframes will be loaded directly from a file, rather than the database.\n",
    "\n",
    "The `X` data which was written to 'sepsis3-design-matrix.csv' will be used by the `print_auc_table_baseline` function to evaluate the AUROC of the scores when incorporated with the baseline model."
   ]
  },
  {
   "cell_type": "code",
   "execution_count": 10,
   "metadata": {
    "collapsed": true
   },
   "outputs": [],
   "source": [
    "df.to_csv('sepsis3-df.csv',sep=',',index=False)"
   ]
  }
 ],
 "metadata": {
  "kernelspec": {
   "display_name": "Python 2",
   "language": "python",
   "name": "python2"
  },
  "language_info": {
   "codemirror_mode": {
    "name": "ipython",
    "version": 2
   },
   "file_extension": ".py",
   "mimetype": "text/x-python",
   "name": "python",
   "nbconvert_exporter": "python",
   "pygments_lexer": "ipython2",
   "version": "2.7.12"
  }
 },
 "nbformat": 4,
 "nbformat_minor": 0
}
