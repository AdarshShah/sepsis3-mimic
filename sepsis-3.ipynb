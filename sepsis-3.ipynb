{
 "cells": [
  {
   "cell_type": "markdown",
   "metadata": {},
   "source": [
    "# Sepsis-3 evaluation in the MIMIC-III database\n",
    "\n",
    "This notebook goes over the evaluation of the new Sepsis-3 guidelines in the MIMIC database. The goals of this analysis include:\n",
    "\n",
    "1. Evaluating the Sepsis-3 guidelines in MIMIC using the same methodology as in the research paper\n",
    "2. Evaluating the Sepsis-3 guidelines against ANGUS criteria\n",
    "3. Assessing if there are interesting subgroup(s) which are missed by the criteria"
   ]
  },
  {
   "cell_type": "code",
   "execution_count": null,
   "metadata": {
    "collapsed": false
   },
   "outputs": [],
   "source": [
    "# Import libraries\n",
    "import numpy as np\n",
    "import pandas as pd\n",
    "import matplotlib.pyplot as plt\n",
    "import psycopg2\n",
    "import sys\n",
    "import statsmodels.api as sm\n",
    "\n",
    "import sepsis_utils as su\n",
    "\n",
    "from sklearn.pipeline import Pipeline\n",
    "\n",
    "# used for train/test splits\n",
    "from sklearn.cross_validation import train_test_split\n",
    "\n",
    "# used to impute mean for data\n",
    "from sklearn.preprocessing import Imputer\n",
    "\n",
    "# normalize the data\n",
    "from sklearn import preprocessing\n",
    "\n",
    "# logistic regression is our model of choice\n",
    "from sklearn.linear_model import LogisticRegression\n",
    "\n",
    "# used to create confusion matrix\n",
    "from sklearn.metrics import confusion_matrix\n",
    "\n",
    "from sklearn.cross_validation import cross_val_score\n",
    "\n",
    "# used to calculate AUROC/accuracy\n",
    "from sklearn import metrics\n",
    "\n",
    "# for calibration curve of severity scores\n",
    "from sklearn.calibration import calibration_curve\n",
    "\n",
    "\n",
    "# default colours for prettier plots\n",
    "col = [[0.9047, 0.1918, 0.1988],\n",
    "    [0.2941, 0.5447, 0.7494],\n",
    "    [0.3718, 0.7176, 0.3612],\n",
    "    [1.0000, 0.5482, 0.1000],\n",
    "    [0.4550, 0.4946, 0.4722],\n",
    "    [0.6859, 0.4035, 0.2412],\n",
    "    [0.9718, 0.5553, 0.7741],\n",
    "    [0.5313, 0.3359, 0.6523]];\n",
    "marker = ['v','o','d','^','s','o','+']\n",
    "ls = ['-','-','-','-','-','s','--','--']\n",
    "%matplotlib inline"
   ]
  },
  {
   "cell_type": "code",
   "execution_count": null,
   "metadata": {
    "collapsed": true
   },
   "outputs": [],
   "source": [
    "# create a database connection\n",
    "\n",
    "# below config used on pc70\n",
    "sqluser = 'alistairewj'\n",
    "dbname = 'mimic'\n",
    "schema_name = 'mimiciii'\n",
    "\n",
    "# Connect to local postgres version of mimic\n",
    "con = psycopg2.connect(dbname=dbname, user=sqluser)"
   ]
  },
  {
   "cell_type": "code",
   "execution_count": null,
   "metadata": {
    "collapsed": false
   },
   "outputs": [],
   "source": [
    "# call functions to extract the severity scores\n",
    "qsofa = su.get_qsofa(con)\n",
    "sofa = su.get_sofa(con)\n",
    "oasis = su.get_oasis(con)\n",
    "sirs = su.get_sirs(con)\n",
    "angus = su.get_angus(con)"
   ]
  },
  {
   "cell_type": "markdown",
   "metadata": {},
   "source": [
    "# Time of suspected infection\n",
    "\n",
    "Suspected infection is defined as:\n",
    "\n",
    "* Antibiotics within 72 hours of a culture\n",
    "* A culture within 24 hours of antibiotics\n",
    "\n",
    "We can extract antibiotic usage from the, PRESCRIPTIONS, INPUTEVENTS_MV and INPUTEVENTS_CV tables. We can extract time of blood cultures from the MICROBIOLOGYEVENTS table. Detail is given in defining-suspected-infection.ipynb."
   ]
  },
  {
   "cell_type": "code",
   "execution_count": null,
   "metadata": {
    "collapsed": false
   },
   "outputs": [],
   "source": [
    "ab = su.get_suspected_infection_time(con)"
   ]
  },
  {
   "cell_type": "markdown",
   "metadata": {},
   "source": [
    "# Other data\n",
    "\n",
    "This query extracts other data of interest:\n",
    "\n",
    "* Age\n",
    "* Gender\n",
    "* Immunosuppression\n",
    "* BMI\n",
    "* Metastatic cancer (Elixhauser comorbidity)\n",
    "* Diabetes (Elixhauser comorbidity)\n"
   ]
  },
  {
   "cell_type": "code",
   "execution_count": null,
   "metadata": {
    "collapsed": false,
    "scrolled": true
   },
   "outputs": [],
   "source": [
    "misc = su.get_other_data(con)"
   ]
  },
  {
   "cell_type": "code",
   "execution_count": null,
   "metadata": {
    "collapsed": false
   },
   "outputs": [],
   "source": [
    "print('{} ICU stays.').format(misc.shape[0])\n",
    "idx = misc.age > 1\n",
    "print('{} adult ICU stays.').format(np.sum(idx))\n",
    "demog_col = ['height','weight','bmi']\n",
    "for c in demog_col:\n",
    "    print('\\t{:2.2f}% have {}.').format( (np.sum(idx) - misc[c][idx].isnull().sum())*100.0 / np.sum(idx), c )"
   ]
  },
  {
   "cell_type": "markdown",
   "metadata": {},
   "source": [
    "# Clinical covariates\n",
    "\n",
    "We are interesting in studying the relationship between \"true\" Sepsis cases (as defined by Angus criteria) and true/false positives according to qSOFA/SOFA. To accomplish this we extract a host of data from these patients."
   ]
  },
  {
   "cell_type": "code",
   "execution_count": null,
   "metadata": {
    "collapsed": false
   },
   "outputs": [],
   "source": [
    "dd = su.get_physiologic_data(con)\n",
    "dd.head(n=5)"
   ]
  },
  {
   "cell_type": "markdown",
   "metadata": {},
   "source": [
    "# Cohort\n",
    "\n",
    "The below code creates our cohort of interest. This cohort is used to apply inclusion criteria by means of an inner join. Inclusion criteria are:\n",
    "\n",
    "* Adult patient, i.e. age >= 16\n",
    "* First ICU stay for the patient"
   ]
  },
  {
   "cell_type": "code",
   "execution_count": null,
   "metadata": {
    "collapsed": false
   },
   "outputs": [],
   "source": [
    "cohort = su.get_cohort(con)"
   ]
  },
  {
   "cell_type": "code",
   "execution_count": null,
   "metadata": {
    "collapsed": true
   },
   "outputs": [],
   "source": [
    "# close the database connection as we are finished extracting data\n",
    "con.close()"
   ]
  },
  {
   "cell_type": "markdown",
   "metadata": {},
   "source": [
    "# Create dataframe with all covariates extracted"
   ]
  },
  {
   "cell_type": "code",
   "execution_count": null,
   "metadata": {
    "collapsed": false
   },
   "outputs": [],
   "source": [
    "# initialize our dataframe to the cohort\n",
    "df_all_pt = cohort\n",
    "\n",
    "# merge in the various severity scores\n",
    "df_all_pt = df_all_pt.merge(qsofa, how='left', on='icustay_id',\n",
    "                suffixes=('','_qsofa'))\n",
    "df_all_pt = df_all_pt.merge(sofa, how='left', on='icustay_id',\n",
    "                suffixes=('','_sofa'))\n",
    "df_all_pt = df_all_pt.merge(sirs, how='left', on='icustay_id',\n",
    "                suffixes=('','_sirs'))\n",
    "df_all_pt = df_all_pt.merge(ab, how='left', on='icustay_id',\n",
    "                suffixes=('','_ab'))\n",
    "df_all_pt = df_all_pt.merge(misc, how='left', on='icustay_id',\n",
    "                suffixes=('','_misc'))\n",
    "df_all_pt = df_all_pt.merge(oasis, how='left', on='icustay_id',\n",
    "                suffixes=('','_oasis'))\n",
    "\n",
    "df_all_pt = df_all_pt.merge(angus, how='left', on='hadm_id',\n",
    "                suffixes=('','_angus'))\n",
    "\n",
    "# define sepsis-3 as: qSOFA >= 2 and SOFA >= 2\n",
    "df_all_pt['sepsis3'] = (df_all_pt.qsofa >= 2) & (df_all_pt.sofa >=2)\n",
    "\n",
    "df_all_pt.head()"
   ]
  },
  {
   "cell_type": "code",
   "execution_count": null,
   "metadata": {
    "collapsed": false
   },
   "outputs": [],
   "source": [
    "df_all_pt.describe()"
   ]
  },
  {
   "cell_type": "markdown",
   "metadata": {},
   "source": [
    "We can ask some pretty sensible questions of this data.\n",
    "\n",
    "* What percentage of patients had antibiotics with a culture?\n",
    "* What percentage of these cultures were positive?"
   ]
  },
  {
   "cell_type": "code",
   "execution_count": null,
   "metadata": {
    "collapsed": false
   },
   "outputs": [],
   "source": [
    "print('{:5g} adult ICU stays (excluding subsequent ICU stays for the same patient).').format(\n",
    "    df_all_pt.shape[0])\n",
    "\n",
    "print('{:2.2f}% of patients with antibiotics/culture').format(\n",
    "    df_all_pt['suspected_infection_time'].count().astype(float) / df_all_pt.shape[0] * 100)\n",
    "\n",
    "print('{:2.2f}% of patients with positive cultures').format(\n",
    "    df_all_pt['positiveculture'].sum().astype(float) / df_all_pt.shape[0] * 100)\n",
    "\n",
    "print('{:2.2f}% of patients with antibiotics/culture had a positive culture').format(\n",
    "    df_all_pt['positiveculture'].sum().astype(float) / df_all_pt['suspected_infection_time'].count().astype(float) * 100)"
   ]
  },
  {
   "cell_type": "markdown",
   "metadata": {},
   "source": [
    "The Sepsis-3 guidelines exclusively evaluated patients with suspected infection, so we subselect to this population."
   ]
  },
  {
   "cell_type": "code",
   "execution_count": null,
   "metadata": {
    "collapsed": false
   },
   "outputs": [],
   "source": [
    "df = df_all_pt.loc[(~df_all_pt['suspected_infection_time'].isnull().values)]"
   ]
  },
  {
   "cell_type": "markdown",
   "metadata": {},
   "source": [
    "# Study population\n",
    "\n",
    "Demographics, etc."
   ]
  },
  {
   "cell_type": "code",
   "execution_count": null,
   "metadata": {
    "collapsed": true
   },
   "outputs": [],
   "source": [
    "def print_demographics(df):\n",
    "    all_vars = ['age','gender','bmi','hospital_expire_flag','thirtyday_expire_flag',\n",
    "      'icu_los','hosp_los','mech_vent'] # \n",
    "\n",
    "    for i, curr_var in enumerate(all_vars):\n",
    "        if curr_var in df.columns:\n",
    "            if curr_var in ['age','bmi','icu_los']: # report mean +- STD\n",
    "                print('{:20s}\\t{:2.2f} +- {:2.2f}').format(curr_var, df[curr_var].mean(), df[curr_var].std())\n",
    "            elif curr_var in ['gender']: # convert from M/F\n",
    "                print('{:20s}\\t{:2.2f}%').format('male', 100.0*np.sum(df[curr_var].values=='M').astype(float) / df.shape[0])\n",
    "            elif curr_var in ['hospital_expire_flag','thirtyday_expire_flag','mech_vent']:\n",
    "                print('{:20s}\\t{:2.2f}%').format(curr_var, 100.0*(df[curr_var].mean()).astype(float))\n",
    "                # binary, report percentage\n",
    "\n",
    "        else:\n",
    "            print('{:20s}').format(curr_var)"
   ]
  },
  {
   "cell_type": "code",
   "execution_count": null,
   "metadata": {
    "collapsed": false
   },
   "outputs": [],
   "source": [
    "# TODO: switch to su.print_demographics\n",
    "print_demographics(df)"
   ]
  },
  {
   "cell_type": "code",
   "execution_count": null,
   "metadata": {
    "collapsed": false
   },
   "outputs": [],
   "source": [
    "print('{:5g} have qSOFA >= 2 ({:2.2f}%).').format(\n",
    "    (df.qsofa.values >= 2).sum(),100.0*(df.qsofa.values >= 2).mean())\n",
    "\n",
    "print('{:5g} have SOFA >= 2 ({:2.2f}%).').format(\n",
    "    (df.sofa.values >= 2).sum(),100.0*(df.sofa.values >= 2).mean())\n",
    "\n",
    "print('{:5g} have Sepsis-3 ({:2.2f}%).').format(\n",
    "    (df.sepsis3).sum(),100.0*(df.sepsis3).mean())\n",
    "\n",
    "print('{:5g} have SIRS >= 2 ({:2.2f}%).').format(\n",
    "    (df.sirs.values >= 2).sum(),100.0*(df.sirs.values >= 2).mean())"
   ]
  },
  {
   "cell_type": "markdown",
   "metadata": {},
   "source": [
    "# Study questions\n",
    "\n",
    "1. How well do the guidelines detect sepsis (Angus criteria) in the antibiotics/culture subset?\n",
    "2. How well do the guidelines predict mortality (in-hospital) in the antibiotics/culture subset?\n",
    "3. What factors would improve the sensitivity of the guidelines?\n",
    "4. What factors would improve the specificity of the guidelines?\n",
    "\n",
    "## Angus criteria evaluation"
   ]
  },
  {
   "cell_type": "code",
   "execution_count": null,
   "metadata": {
    "collapsed": false
   },
   "outputs": [],
   "source": [
    "# define targets, angus critera\n",
    "y = df.angus.values == 1\n",
    "\n",
    "# define \"predictions\" according to the SEPSIS-3 guidelines:\n",
    "#  suspicion of infection, qSOFA >= 2, and SOFA >= 2\n",
    "yhat = (df.qsofa.values >= 2) & (df.sofa.values>=2)\n",
    "\n",
    "print('\\n SEPSIS-3 guidelines for Angus criteria sepsis \\n')\n",
    "# generate evaluation metrics\n",
    "print 'Accuracy = {}'.format(metrics.accuracy_score(y, yhat))\n",
    "\n",
    "su.print_cm(y, yhat) # print confusion matrix"
   ]
  },
  {
   "cell_type": "code",
   "execution_count": null,
   "metadata": {
    "collapsed": false
   },
   "outputs": [],
   "source": [
    "y = df.angus.values == 1\n",
    "\n",
    "# ROC for qSOFA\n",
    "fpr_qsofa, tpr_qsofa, thresholds_qsofa = metrics.roc_curve(y, df.qsofa.values)\n",
    "auc_qsofa = metrics.auc(fpr_qsofa, tpr_qsofa)\n",
    "\n",
    "# ROC for SOFA\n",
    "fpr_sofa, tpr_sofa, thresholds_sofa = metrics.roc_curve(y, df.sofa.values)\n",
    "auc_sofa = metrics.auc(fpr_sofa, tpr_sofa)\n",
    "\n",
    "\n",
    "# ROC for SEPSIS-3\n",
    "fpr_s3, tpr_s3, thresholds_s3 = metrics.roc_curve(y, (df.qsofa.values >= 2) & (df.sofa.values >= 2))\n",
    "auc_s3 = metrics.auc(fpr_s3, tpr_s3)\n",
    "\n",
    "# ROC for SIRS\n",
    "fpr_sirs, tpr_sirs, thresholds_sirs = metrics.roc_curve(y, df.sirs.values)\n",
    "auc_sirs = metrics.auc(fpr_sirs, tpr_sirs)\n",
    "\n",
    "# plot the data\n",
    "plt.figure(figsize=[9,9])\n",
    "plt.plot(fpr_qsofa, tpr_qsofa, 'o:',\n",
    "         color=col[0], linewidth=2, markersize=10,\n",
    "         label='qSOFA (AUC = %0.2f)' % auc_qsofa)\n",
    "plt.plot(fpr_sofa, tpr_sofa, '^-',\n",
    "         color=col[1], linewidth=2, markersize=10,\n",
    "         label='SOFA (AUC = %0.2f)' % auc_sofa)\n",
    "plt.plot(fpr_sirs, tpr_sirs, 's-',\n",
    "         color=col[2], linewidth=2, markersize=10,\n",
    "         label='SIRS (AUC = %0.2f)' % auc_sirs)\n",
    "\n",
    "# add in the combination of SIRS/SOFA\n",
    "#plt.plot(fpr_s3, tpr_s3, 'd--',\n",
    "#         color=col[3], linewidth=2, markersize=10,\n",
    "#         label='SEPSIS-3 (AUC = %0.2f)' % auc_s3)\n",
    "\n",
    "plt.legend(loc=\"lower right\")\n",
    "\n",
    "plt.plot([0,1], [0,1], '--',\n",
    "         color=[0,0,0], linewidth=2)\n",
    "# reformat the plot\n",
    "plt.xlim([-0.05, 1.05])\n",
    "plt.ylim([-0.05, 1.05])\n",
    "plt.xlabel('False Positive Rate',fontsize=14)\n",
    "plt.ylabel('True Positive Rate',fontsize=14)\n",
    "plt.title('ROC against Angus criteria',fontsize=14)\n",
    "plt.show()"
   ]
  },
  {
   "cell_type": "code",
   "execution_count": null,
   "metadata": {
    "collapsed": false
   },
   "outputs": [],
   "source": [
    "\n",
    "\n",
    "# define \"predictions\" according to the SEPSIS-3 guidelines:\n",
    "#  suspicion of infection, qSOFA >= 2, and SOFA >= 2\n",
    "yhat_all = [df.qsofa.values >= 2,\n",
    "            df.sofa.values >= 2,\n",
    "            df.sepsis3.values,\n",
    "            df.sirs.values >= 2]\n",
    "yhat_names = ['qsofa','sofa','seps3','SIRS']\n",
    "\n",
    "# define \"targets\", angus critera\n",
    "y_all = [df.angus.values == 1,\n",
    "         df.angus.values == 1,\n",
    "         df.angus.values == 1,\n",
    "         df.angus.values == 1]\n",
    "\n",
    "\n",
    "stats_all = su.print_op_stats(yhat_all, y_all,\n",
    "               yhat_names=yhat_names,\n",
    "               header=['angus criteria sepsis'])"
   ]
  },
  {
   "cell_type": "markdown",
   "metadata": {},
   "source": [
    "# Hospital mortality evaluation"
   ]
  },
  {
   "cell_type": "code",
   "execution_count": null,
   "metadata": {
    "collapsed": false
   },
   "outputs": [],
   "source": [
    "# define targets, angus critera\n",
    "y = df.hospital_expire_flag.values == 1\n",
    "\n",
    "# define \"predictions\" according to the SEPSIS-3 guidelines:\n",
    "#  suspicion of infection, qSOFA >= 2, and SOFA >= 2\n",
    "yhat = (df.qsofa.values >= 2) & (df.sofa.values>=2)\n",
    "\n",
    "print('\\n SEPSIS-3 guidelines for hospital mortality \\n')\n",
    "# generate evaluation metrics\n",
    "print 'Accuracy = {}'.format(metrics.accuracy_score(y, yhat))\n",
    "\n",
    "su.print_cm(y, yhat) # print confusion matrix"
   ]
  },
  {
   "cell_type": "code",
   "execution_count": null,
   "metadata": {
    "collapsed": false
   },
   "outputs": [],
   "source": [
    "y = df.hospital_expire_flag.values == 1\n",
    "\n",
    "# ROC for qSOFA\n",
    "fpr_qsofa, tpr_qsofa, thresholds_qsofa = metrics.roc_curve(y, df.qsofa.values)\n",
    "auc_qsofa = metrics.auc(fpr_qsofa, tpr_qsofa)\n",
    "\n",
    "# ROC for SOFA\n",
    "fpr_sofa, tpr_sofa, thresholds_sofa = metrics.roc_curve(y, df.sofa.values)\n",
    "auc_sofa = metrics.auc(fpr_sofa, tpr_sofa)\n",
    "\n",
    "\n",
    "# ROC for SEPSIS-3\n",
    "fpr_s3, tpr_s3, thresholds_s3 = metrics.roc_curve(y, (df.qsofa.values >= 2) & (df.sofa.values >= 2))\n",
    "auc_s3 = metrics.auc(fpr_s3, tpr_s3)\n",
    "\n",
    "# ROC for SIRS\n",
    "fpr_sirs, tpr_sirs, thresholds_sirs = metrics.roc_curve(y, df.sirs.values)\n",
    "auc_sirs = metrics.auc(fpr_sirs, tpr_sirs)\n",
    "\n",
    "# plot the data\n",
    "plt.figure(figsize=[9,9])\n",
    "plt.plot(fpr_qsofa, tpr_qsofa, 'o:',\n",
    "         color=col[0], linewidth=2, markersize=10,\n",
    "         label='qSOFA (AUC = %0.2f)' % auc_qsofa)\n",
    "plt.plot(fpr_sofa, tpr_sofa, '^-',\n",
    "         color=col[1], linewidth=2, markersize=10,\n",
    "         label='SOFA (AUC = %0.2f)' % auc_sofa)\n",
    "plt.plot(fpr_sirs, tpr_sirs, 's-',\n",
    "         color=col[2], linewidth=2, markersize=10,\n",
    "         label='SIRS (AUC = %0.2f)' % auc_sirs)\n",
    "\n",
    "# add in the combination of SIRS/SOFA\n",
    "#plt.plot(fpr_s3, tpr_s3, 'd--',\n",
    "#         color=col[3], linewidth=2, markersize=10,\n",
    "#         label='SEPSIS-3 (AUC = %0.2f)' % auc_s3)\n",
    "\n",
    "plt.legend(loc=\"lower right\")\n",
    "\n",
    "plt.plot([0,1], [0,1], '--',\n",
    "         color=[0,0,0], linewidth=2)\n",
    "# reformat the plot\n",
    "plt.xlim([-0.05, 1.05])\n",
    "plt.ylim([-0.05, 1.05])\n",
    "plt.xlabel('False Positive Rate',fontsize=14)\n",
    "plt.ylabel('True Positive Rate',fontsize=14)\n",
    "plt.title('ROC against hospital mortality',fontsize=14)\n",
    "plt.show()"
   ]
  },
  {
   "cell_type": "code",
   "execution_count": null,
   "metadata": {
    "collapsed": false
   },
   "outputs": [],
   "source": [
    "# define \"predictions\" according to the SEPSIS-3 guidelines:\n",
    "#  suspicion of infection, qSOFA >= 2, and SOFA >= 2\n",
    "yhat_all = [df.qsofa.values >= 2,\n",
    "            df.sofa.values >= 2,\n",
    "            df.sepsis3.values,\n",
    "            df.sirs.values >= 2]\n",
    "yhat_names = ['qsofa','sofa','seps3','SIRS']\n",
    "\n",
    "# define \"targets\", angus critera\n",
    "y_all = [df.hospital_expire_flag.values == 1,\n",
    "         df.hospital_expire_flag.values == 1,\n",
    "         df.hospital_expire_flag.values == 1,\n",
    "         df.hospital_expire_flag.values == 1]\n",
    "\n",
    "\n",
    "stats_all = su.print_op_stats(yhat_all, y_all,\n",
    "               yhat_names=yhat_names,\n",
    "               header=['in-hospital mortality'])"
   ]
  },
  {
   "cell_type": "markdown",
   "metadata": {},
   "source": [
    "## What factors would improve Sepsis-3 guidelines?"
   ]
  },
  {
   "cell_type": "code",
   "execution_count": null,
   "metadata": {
    "collapsed": false
   },
   "outputs": [],
   "source": [
    "# initialize our dataframe to the cohort\n",
    "dm = cohort\n",
    "dm = dm.merge(dd, how='inner', on='icustay_id',suffixes=('','_dd'))\n",
    "dm = dm.merge(ab, how='inner', on='icustay_id',suffixes=('','_ab'))\n",
    "dm = dm.merge(angus, how='inner', on='hadm_id',suffixes=('','_angus'))\n",
    "dm = dm.merge(qsofa, how='inner', on='icustay_id',suffixes=('','_qsofa'))\n",
    "dm = dm.merge(sofa, how='inner', on='icustay_id',suffixes=('','_sofa'))\n",
    "dm = dm.merge(sirs, how='inner', on='icustay_id',suffixes=('','_sirs'))\n",
    "\n",
    "dm.set_index('icustay_id',inplace=True)\n",
    "\n",
    "# only look at icustay_ids with suspected infection\n",
    "iid_suspected = df_all_pt.loc[(~df_all_pt['suspected_infection_time'].isnull().values),'icustay_id'].values\n",
    "dm = dm.loc[iid_suspected]\n",
    "\n",
    "# we subselect to patients classified as positive by sepsis-3\n",
    "idxData = (dm.qsofa.values >= 2) & (dm.sofa.values>=2)\n",
    "\n",
    "# define targets using angus criteria\n",
    "y = dm.angus.values == 1\n",
    "\n",
    "# create an iterator to get all but the first column\n",
    "idx = [i for i in range(dm.columns.values.size) if dm.columns[i] in dd.columns]\n",
    "X_data = dm[idx].values\n",
    "\n",
    "# create the header from the column index we made earlier\n",
    "X_header = [dm.columns[i] for i in idx]\n",
    "\n",
    "X = X_data[idxData,:]\n",
    "y = y[idxData]\n",
    "\n",
    "# get feature/predictor matrix as numpy array\n",
    "#X_nan = df[idx].isnull().values\n",
    "# combine the arrays\n",
    "#X = np.column_stack((X_data,X_nan))\n",
    "#X_header = [X_header,[s + '_NaN' for s in X_header]]\n",
    "\n",
    "# # flatten the list of lists into a single list\n",
    "#X_header = [item for sublist in X_header for item in sublist]\n",
    "\n",
    "# impute mean for missing values\n",
    "imp = Imputer(missing_values='NaN', strategy='mean', axis=0)\n",
    "imp.fit(X)\n",
    "\n",
    "# custom scaling of data to avoid normalizing to missing data\n",
    "sigma = np.ones(X.shape[1])\n",
    "\n",
    "for i in range(X.shape[1]):\n",
    "    tmp = X[~np.isnan(X[:,i]),i]\n",
    "    if tmp.size > 1:\n",
    "        sigma[i] = np.sqrt(np.var(tmp))\n",
    "\n",
    "# # print the imp statistics\n",
    "# print('{:20s}: {:14s} {:10s}').format('Header','     Mean','stdev')\n",
    "# for i in range(len(X_header)):\n",
    "#     print('{:20s}: {:10.4f} {:10.4f}').format(X_header[i], imp.statistics_[i], sigma[i])\n",
    "\n",
    "X_tr = imp.transform(X)\n",
    "\n",
    "# Logit Model\n",
    "model = sm.Logit(y, X_tr)\n",
    "results = model.fit()\n",
    "\n",
    "y_hat = results.predict(exog=X_tr, transform=False)\n",
    "y_pred = np.round(y_hat)\n",
    "\n",
    "\n",
    "# generate evaluation metrics\n",
    "print 'Accuracy = {}'.format(metrics.accuracy_score(y, y_pred))\n",
    "print 'AUROC = {}'.format(metrics.roc_auc_score(y, y_hat))\n",
    "\n",
    "\n",
    "\n",
    "su.print_cm(y, y_pred) # print confusion matrix\n",
    "\n",
    "# train logit model using scikit\n",
    "#model = LogisticRegression(fit_intercept=True)\n",
    "#results = model.fit(X_train, y)\n",
    "# predict class labels for the test set\n",
    "#y_pred = results.predict(X_train)\n",
    "#y_hat = results.predict_proba(X_train)\n",
    "#y_hat = y_hat[:,1]\n",
    "\n",
    "\n",
    "# let's look at adjusted odds ratios - everything is in standard deviation units\n",
    "# N.B. if using sklearn, change to results.coef_.flatten()\n",
    "oddsratio = np.exp(results.params * sigma)\n",
    "\n",
    "# sort by value of odds ratio\n",
    "sort_indices = np.argsort(oddsratio, axis=0)\n",
    "oddsratio = oddsratio[sort_indices]\n",
    "\n",
    "# create p-value array\n",
    "pvalue = results.pvalues\n",
    "pvalue = pvalue[sort_indices]\n",
    "\n",
    "# also create a labels vector which is sorted\n",
    "lbls = [X_header[i] for i in sort_indices]\n",
    "\n",
    "\n",
    "# split into two vectors:\n",
    "#   (i)  significant at p<0.05\n",
    "#   (ii) insignificant at p<0.05\n",
    "ytick = np.asarray(range(oddsratio.size))\n",
    "\n",
    "idxSignificant = pvalue<=0.05\n",
    "\n",
    "or_sig = oddsratio[idxSignificant]\n",
    "lbl_sig = [lbl for i, lbl in enumerate(lbls) if idxSignificant[i] == True]\n",
    "ytick_sig = ytick[idxSignificant]\n",
    "\n",
    "or_insig = oddsratio[~idxSignificant]\n",
    "lbl_insig = [lbl for i, lbl in enumerate(lbls) if idxSignificant[i] == False]\n",
    "ytick_insig = ytick[~idxSignificant]\n",
    "\n",
    "# now plot these odds ratios\n",
    "plt.figure(figsize=[12,20])\n",
    "\n",
    "\n",
    "plt.plot(or_insig, ytick_insig, 's', markersize=8, color=col[0],label='p >  0.05') # insignificant\n",
    "plt.plot(or_sig, ytick_sig, 'o', markersize=8, color=col[1],label='p <= 0.05') # significant\n",
    "plt.legend(loc='lower right')\n",
    "plt.plot([1.,1.],[0,oddsratio.size],'k--')\n",
    "\n",
    "\n",
    "ax = plt.gca()\n",
    "ax.set_yticks(range(oddsratio.size))\n",
    "ax.set_yticklabels(lbls,fontsize=14,fontweight='bold')\n",
    "ax.set_ylim([-1,oddsratio.size])\n",
    "ax.set_xticklabels( ['%2.2f' % i for i in ax.get_xticks()], fontsize=14 )\n",
    "plt.xlabel('Odds ratios (exponentiated coefficient)')\n",
    "plt.grid()\n",
    "plt.show()"
   ]
  },
  {
   "cell_type": "markdown",
   "metadata": {},
   "source": [
    "# Subsequent analyses\n",
    "\n",
    "It would be interesting to evaluate if SIRS/Sepsis-3 differ in performance after subgrouping the data into categories based upon:\n",
    "\n",
    "* WBC\n",
    "* Temperature\n",
    "* Age\n",
    "* Gender\n",
    "* Immunosuppression\n",
    "    * Prednisone, Prednisolone (Orapred), Methylprednisolone (Medrol), Dexamethasone (Decadron), Hydrocortisone (Cortef), Cortisone\n",
    "    * Cyclophosphamide (Cytoxan)\n",
    "    * Cisplatin (Platinol), Carboplatin (Paraplatin)\n",
    "    * Azathioprine  (Imuran)\n",
    "    * Mercaptopurine (Purinethol)\n",
    "    * Methotrexate/MTX (Trexall, Rasuvo)\n",
    "    * Rituximab (Rituxan, MabThera, Zytux)\n",
    "    * Basiliximab (Simulect)\n",
    "    * Daclizumab (Zenapax)\n",
    "    * Cyclosporin/Ciclosporin (Neoral, Sandimmune)\n",
    "    * Tacrolimus (Prograf, Advagraf, Protopic)\n",
    "    * Sirolimus (Rapamune)\n",
    "    * Infliximab (Remicade)\n",
    "    * Etanercept (Enbrel)\n",
    "    * Adalimumab (Humira)\n",
    "    * Mycophenolate (CellCept, Myfortic)\n",
    "* BMI\n",
    "    * < 18.5\n",
    "    * 18.5 - 24.9\n",
    "    * 25 - 29.9\n",
    "    * 30 - 49.9\n",
    "    * \\> 50\n",
    "* Metastatic cancer (Elixhauser comorbidity)\n",
    "* Diabetes (Elixhauser comorbidity)"
   ]
  },
  {
   "cell_type": "code",
   "execution_count": null,
   "metadata": {
    "collapsed": false
   },
   "outputs": [],
   "source": [
    "# test age\n",
    "\n",
    "# define \"targets\", angus critera\n",
    "y = df.angus.values == 1\n",
    "\n",
    "# define \"predictions\" according to the SEPSIS-3 guidelines:\n",
    "#  suspicion of infection, qSOFA >= 2, and SOFA >= 2\n",
    "yhat_all = [ df.qsofa.values >= 2, df.qsofa.values >= 2, df.qsofa.values >= 2 ]\n",
    "yhat_names = ['qSOFA','old','young']\n",
    "\n",
    "# the below filters each group to a subset of patients\n",
    "idx_group = [ ~np.isnan(df.qsofa.values), df.age.values >= 70, df.age.values < 70 ]\n",
    "\n",
    "\n",
    "su.print_op_stats(yhat_all, y_all, yhat_names=yhat_names,\n",
    "                  idx=idx_group)"
   ]
  },
  {
   "cell_type": "markdown",
   "metadata": {},
   "source": [
    "# Appendix"
   ]
  },
  {
   "cell_type": "code",
   "execution_count": null,
   "metadata": {
    "collapsed": true
   },
   "outputs": [],
   "source": [
    "# debug plot for outliers\n",
    "\n",
    "plt.figure(figsize=[12,9])\n",
    "# the histogram of the data\n",
    "n, bins, patches = plt.hist(dm.pao2fio2_min.dropna().values, bins=np.asarray(range(200))*10, normed=True, facecolor='green', alpha=0.75)\n",
    "\n",
    "plt.xlabel('pao2fio2_min')\n",
    "plt.ylabel('Probability')\n",
    "plt.grid(True)\n",
    "\n",
    "plt.show()"
   ]
  }
 ],
 "metadata": {
  "kernelspec": {
   "display_name": "Python 2",
   "language": "python",
   "name": "python2"
  },
  "language_info": {
   "codemirror_mode": {
    "name": "ipython",
    "version": 2
   },
   "file_extension": ".py",
   "mimetype": "text/x-python",
   "name": "python",
   "nbconvert_exporter": "python",
   "pygments_lexer": "ipython2",
   "version": "2.7.9"
  }
 },
 "nbformat": 4,
 "nbformat_minor": 0
}
